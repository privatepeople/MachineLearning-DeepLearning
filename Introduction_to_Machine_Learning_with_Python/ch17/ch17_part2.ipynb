{
  "cells": [
    {
      "cell_type": "markdown",
      "metadata": {
        "id": "mhnVRDEso6TM"
      },
      "source": [
        "# 머신 러닝 교과서 3판"
      ]
    },
    {
      "cell_type": "markdown",
      "metadata": {
        "id": "iLYc3wMJo6TQ"
      },
      "source": [
        "# 17장 - 새로운 데이터 합성을 위한 생성적 적대 신경망 (2/2)"
      ]
    },
    {
      "cell_type": "markdown",
      "metadata": {
        "id": "zxnZcUDYo6TQ"
      },
      "source": [
        "**아래 링크를 통해 이 노트북을 주피터 노트북 뷰어(nbviewer.jupyter.org)로 보거나 구글 코랩(colab.research.google.com)에서 실행할 수 있습니다.**\n",
        "\n",
        "<table class=\"tfo-notebook-buttons\" align=\"left\">\n",
        "  <td>\n",
        "    <a target=\"_blank\" href=\"https://nbviewer.org/github/rickiepark/python-machine-learning-book-3rd-edition/blob/master/ch17/ch17_part2.ipynb\"><img src=\"https://jupyter.org/assets/share.png\" width=\"60\" />주피터 노트북 뷰어로 보기</a>\n",
        "  </td>\n",
        "  <td>\n",
        "    <a target=\"_blank\" href=\"https://colab.research.google.com/github/rickiepark/python-machine-learning-book-3rd-edition/blob/master/ch17/ch17_part2.ipynb\"><img src=\"https://www.tensorflow.org/images/colab_logo_32px.png\" />구글 코랩(Colab)에서 실행하기</a>\n",
        "  </td>\n",
        "</table>"
      ]
    },
    {
      "cell_type": "markdown",
      "metadata": {
        "id": "ILMW7pJpo6TR"
      },
      "source": [
        "### 목차"
      ]
    },
    {
      "cell_type": "markdown",
      "metadata": {
        "id": "2XQEMAilo6TR"
      },
      "source": [
        "- 합성곱 GAN과 와서스테인 GAN을 사용하여 합성 이미지의 품질 높이기\n",
        "    - 전치 합성곱\n",
        "    - 배치 정규화\n",
        "    - 생성자와 판별자 구현하기\n",
        "    - 두 분포 사이의 거리 측정하기\n",
        "    - GAN에 EM 거리 사용하기\n",
        "    - 그래디언트 페널티\n",
        "    - WGAN-GP로 DCGAN 모델 훈련하기\n",
        "    - 모드 붕괴\n",
        "- 다른 GAN 애플리케이션\n",
        "- 요약"
      ]
    },
    {
      "cell_type": "code",
      "execution_count": 1,
      "metadata": {
        "id": "fJJx82wno6TR"
      },
      "outputs": [],
      "source": [
        "from IPython.display import Image"
      ]
    },
    {
      "cell_type": "markdown",
      "metadata": {
        "id": "I8VoaURPo6TS"
      },
      "source": [
        "# 합성곱 GAN과 와서스테인 GAN을 사용하여 합성 이미지의 품질 높이기"
      ]
    },
    {
      "cell_type": "markdown",
      "metadata": {
        "id": "0J8TdXgIo6TS"
      },
      "source": [
        "## 전치 합성곱"
      ]
    },
    {
      "cell_type": "code",
      "execution_count": 2,
      "metadata": {
        "colab": {
          "base_uri": "https://localhost:8080/",
          "height": 269
        },
        "id": "doWkKGeMo6TS",
        "outputId": "5d01e9c2-9603-4a1d-fbea-859217c02ab8"
      },
      "outputs": [
        {
          "output_type": "execute_result",
          "data": {
            "text/html": [
              "<img src=\"https://git.io/JLjn7\" width=\"700\"/>"
            ],
            "text/plain": [
              "<IPython.core.display.Image object>"
            ]
          },
          "metadata": {},
          "execution_count": 2
        }
      ],
      "source": [
        "Image(url='https://git.io/JLjn7', width=700)"
      ]
    },
    {
      "cell_type": "code",
      "execution_count": 3,
      "metadata": {
        "colab": {
          "base_uri": "https://localhost:8080/",
          "height": 362
        },
        "id": "wXQNEuWJo6TT",
        "outputId": "b351797f-d7eb-4c78-b4fc-00fa77e766b5"
      },
      "outputs": [
        {
          "output_type": "execute_result",
          "data": {
            "text/html": [
              "<img src=\"https://git.io/JLjnb\" width=\"700\"/>"
            ],
            "text/plain": [
              "<IPython.core.display.Image object>"
            ]
          },
          "metadata": {},
          "execution_count": 3
        }
      ],
      "source": [
        "Image(url='https://git.io/JLjnb', width=700)"
      ]
    },
    {
      "cell_type": "markdown",
      "metadata": {
        "id": "v5OXSjCHo6TT"
      },
      "source": [
        "## 배치 정규화"
      ]
    },
    {
      "cell_type": "code",
      "execution_count": 4,
      "metadata": {
        "colab": {
          "base_uri": "https://localhost:8080/",
          "height": 480
        },
        "id": "T8sfMSHio6TT",
        "outputId": "d047dd2f-bdee-4c8a-dad3-dd749a12765a"
      },
      "outputs": [
        {
          "output_type": "execute_result",
          "data": {
            "text/html": [
              "<img src=\"https://git.io/JLjnA\" width=\"700\"/>"
            ],
            "text/plain": [
              "<IPython.core.display.Image object>"
            ]
          },
          "metadata": {},
          "execution_count": 4
        }
      ],
      "source": [
        "Image(url='https://git.io/JLjnA', width=700)"
      ]
    },
    {
      "cell_type": "markdown",
      "metadata": {
        "id": "7pqd-bBPo6TT"
      },
      "source": [
        "## 생성자와 판별자 구현하기"
      ]
    },
    {
      "cell_type": "code",
      "execution_count": 5,
      "metadata": {
        "colab": {
          "base_uri": "https://localhost:8080/",
          "height": 312
        },
        "id": "Botu3kjko6TT",
        "outputId": "cea2c2f4-0d3a-47f8-b719-866d5ae71781"
      },
      "outputs": [
        {
          "output_type": "execute_result",
          "data": {
            "text/html": [
              "<img src=\"https://git.io/JLjnx\" width=\"700\"/>"
            ],
            "text/plain": [
              "<IPython.core.display.Image object>"
            ]
          },
          "metadata": {},
          "execution_count": 5
        }
      ],
      "source": [
        "Image(url='https://git.io/JLjnx', width=700)"
      ]
    },
    {
      "cell_type": "code",
      "execution_count": 6,
      "metadata": {
        "colab": {
          "base_uri": "https://localhost:8080/",
          "height": 386
        },
        "id": "bR-z6gxto6TU",
        "outputId": "010c4c67-b8a7-479d-ebe4-583d1013ebf6"
      },
      "outputs": [
        {
          "output_type": "execute_result",
          "data": {
            "text/html": [
              "<img src=\"https://git.io/JLjnj\" width=\"700\"/>"
            ],
            "text/plain": [
              "<IPython.core.display.Image object>"
            ]
          },
          "metadata": {},
          "execution_count": 6
        }
      ],
      "source": [
        "Image(url='https://git.io/JLjnj', width=700)"
      ]
    },
    {
      "cell_type": "markdown",
      "metadata": {
        "id": "gjndBoHAo6TU"
      },
      "source": [
        " * **구글 코랩 설정**"
      ]
    },
    {
      "cell_type": "code",
      "execution_count": 7,
      "metadata": {
        "id": "XnOWggQN3RbT"
      },
      "outputs": [],
      "source": [
        "#from google.colab import drive\n",
        "#drive.mount('/content/drive/')"
      ]
    },
    {
      "cell_type": "code",
      "execution_count": 8,
      "metadata": {
        "colab": {
          "base_uri": "https://localhost:8080/"
        },
        "id": "O9XN3qSZ6Kbr",
        "outputId": "ec42f5fb-2860-4072-d6a0-f5c32446fcee"
      },
      "outputs": [
        {
          "output_type": "stream",
          "name": "stdout",
          "text": [
            "2.14.0\n",
            "GPU 여부: True\n",
            "/device:GPU:0\n"
          ]
        }
      ],
      "source": [
        "import tensorflow as tf\n",
        "\n",
        "\n",
        "print(tf.__version__)\n",
        "\n",
        "print(\"GPU 여부:\", len(tf.config.list_physical_devices('GPU')) > 0)\n",
        "\n",
        "if tf.config.list_physical_devices('GPU'):\n",
        "    device_name = tf.test.gpu_device_name()\n",
        "else:\n",
        "    device_name = 'CPU:0'\n",
        "\n",
        "print(device_name)"
      ]
    },
    {
      "cell_type": "code",
      "execution_count": 9,
      "metadata": {
        "id": "VXasfQIW3XeR"
      },
      "outputs": [],
      "source": [
        "import tensorflow_datasets as tfds\n",
        "import numpy as np\n",
        "import matplotlib.pyplot as plt\n",
        "%matplotlib inline"
      ]
    },
    {
      "cell_type": "code",
      "execution_count": 10,
      "metadata": {
        "id": "O9QIFmPZ3jjg"
      },
      "outputs": [],
      "source": [
        "def make_dcgan_generator(\n",
        "        z_size=20,\n",
        "        output_size=(28, 28, 1),\n",
        "        n_filters=128,\n",
        "        n_blocks=2):\n",
        "    size_factor = 2**n_blocks\n",
        "    hidden_size = (\n",
        "        output_size[0]//size_factor,\n",
        "        output_size[1]//size_factor\n",
        "    )\n",
        "\n",
        "    model = tf.keras.Sequential([\n",
        "        tf.keras.layers.Input(shape=(z_size,)),\n",
        "\n",
        "        tf.keras.layers.Dense(\n",
        "            units=n_filters*np.prod(hidden_size),\n",
        "            use_bias=False),\n",
        "        tf.keras.layers.BatchNormalization(),\n",
        "        tf.keras.layers.LeakyReLU(),\n",
        "        tf.keras.layers.Reshape(\n",
        "            (hidden_size[0], hidden_size[1], n_filters)),\n",
        "\n",
        "        tf.keras.layers.Conv2DTranspose(\n",
        "            filters=n_filters, kernel_size=(5, 5), strides=(1, 1),\n",
        "            padding='same', use_bias=False),\n",
        "        tf.keras.layers.BatchNormalization(),\n",
        "        tf.keras.layers.LeakyReLU()\n",
        "    ])\n",
        "\n",
        "    nf = n_filters\n",
        "    for i in range(n_blocks):\n",
        "        nf = nf // 2\n",
        "        model.add(\n",
        "            tf.keras.layers.Conv2DTranspose(\n",
        "                filters=nf, kernel_size=(5, 5), strides=(2, 2),\n",
        "                padding='same', use_bias=False))\n",
        "        model.add(tf.keras.layers.BatchNormalization())\n",
        "        model.add(tf.keras.layers.LeakyReLU())\n",
        "\n",
        "    model.add(\n",
        "        tf.keras.layers.Conv2DTranspose(\n",
        "            filters=output_size[2], kernel_size=(5, 5),\n",
        "            strides=(1, 1), padding='same', use_bias=False,\n",
        "            activation='tanh'))\n",
        "\n",
        "    return model\n",
        "\n",
        "def make_dcgan_discriminator(\n",
        "        input_size=(28, 28, 1),\n",
        "        n_filters=64,\n",
        "        n_blocks=2):\n",
        "    model = tf.keras.Sequential([\n",
        "        tf.keras.layers.Input(shape=input_size),\n",
        "        tf.keras.layers.Conv2D(\n",
        "            filters=n_filters, kernel_size=5,\n",
        "            strides=(1, 1), padding='same'),\n",
        "        tf.keras.layers.BatchNormalization(),\n",
        "        tf.keras.layers.LeakyReLU()\n",
        "    ])\n",
        "\n",
        "    nf = n_filters\n",
        "    for i in range(n_blocks):\n",
        "        nf = nf*2\n",
        "        model.add(\n",
        "            tf.keras.layers.Conv2D(\n",
        "                filters=nf, kernel_size=(5, 5),\n",
        "                strides=(2, 2),padding='same'))\n",
        "        model.add(tf.keras.layers.BatchNormalization())\n",
        "        model.add(tf.keras.layers.LeakyReLU())\n",
        "        model.add(tf.keras.layers.Dropout(0.3))\n",
        "\n",
        "    model.add(tf.keras.layers.Conv2D(\n",
        "            filters=1, kernel_size=(7, 7), padding='valid'))\n",
        "\n",
        "    model.add(tf.keras.layers.Reshape((1,)))\n",
        "\n",
        "    return model"
      ]
    },
    {
      "cell_type": "code",
      "execution_count": 11,
      "metadata": {
        "colab": {
          "base_uri": "https://localhost:8080/"
        },
        "id": "DX4INL735ARw",
        "outputId": "9a0f6b67-3106-4c16-ab9b-6621afb1d44a"
      },
      "outputs": [
        {
          "output_type": "stream",
          "name": "stdout",
          "text": [
            "Model: \"sequential\"\n",
            "_________________________________________________________________\n",
            " Layer (type)                Output Shape              Param #   \n",
            "=================================================================\n",
            " dense (Dense)               (None, 6272)              125440    \n",
            "                                                                 \n",
            " batch_normalization (Batch  (None, 6272)              25088     \n",
            " Normalization)                                                  \n",
            "                                                                 \n",
            " leaky_re_lu (LeakyReLU)     (None, 6272)              0         \n",
            "                                                                 \n",
            " reshape (Reshape)           (None, 7, 7, 128)         0         \n",
            "                                                                 \n",
            " conv2d_transpose (Conv2DTr  (None, 7, 7, 128)         409600    \n",
            " anspose)                                                        \n",
            "                                                                 \n",
            " batch_normalization_1 (Bat  (None, 7, 7, 128)         512       \n",
            " chNormalization)                                                \n",
            "                                                                 \n",
            " leaky_re_lu_1 (LeakyReLU)   (None, 7, 7, 128)         0         \n",
            "                                                                 \n",
            " conv2d_transpose_1 (Conv2D  (None, 14, 14, 64)        204800    \n",
            " Transpose)                                                      \n",
            "                                                                 \n",
            " batch_normalization_2 (Bat  (None, 14, 14, 64)        256       \n",
            " chNormalization)                                                \n",
            "                                                                 \n",
            " leaky_re_lu_2 (LeakyReLU)   (None, 14, 14, 64)        0         \n",
            "                                                                 \n",
            " conv2d_transpose_2 (Conv2D  (None, 28, 28, 32)        51200     \n",
            " Transpose)                                                      \n",
            "                                                                 \n",
            " batch_normalization_3 (Bat  (None, 28, 28, 32)        128       \n",
            " chNormalization)                                                \n",
            "                                                                 \n",
            " leaky_re_lu_3 (LeakyReLU)   (None, 28, 28, 32)        0         \n",
            "                                                                 \n",
            " conv2d_transpose_3 (Conv2D  (None, 28, 28, 1)         800       \n",
            " Transpose)                                                      \n",
            "                                                                 \n",
            "=================================================================\n",
            "Total params: 817824 (3.12 MB)\n",
            "Trainable params: 804832 (3.07 MB)\n",
            "Non-trainable params: 12992 (50.75 KB)\n",
            "_________________________________________________________________\n",
            "Model: \"sequential_1\"\n",
            "_________________________________________________________________\n",
            " Layer (type)                Output Shape              Param #   \n",
            "=================================================================\n",
            " conv2d (Conv2D)             (None, 28, 28, 64)        1664      \n",
            "                                                                 \n",
            " batch_normalization_4 (Bat  (None, 28, 28, 64)        256       \n",
            " chNormalization)                                                \n",
            "                                                                 \n",
            " leaky_re_lu_4 (LeakyReLU)   (None, 28, 28, 64)        0         \n",
            "                                                                 \n",
            " conv2d_1 (Conv2D)           (None, 14, 14, 128)       204928    \n",
            "                                                                 \n",
            " batch_normalization_5 (Bat  (None, 14, 14, 128)       512       \n",
            " chNormalization)                                                \n",
            "                                                                 \n",
            " leaky_re_lu_5 (LeakyReLU)   (None, 14, 14, 128)       0         \n",
            "                                                                 \n",
            " dropout (Dropout)           (None, 14, 14, 128)       0         \n",
            "                                                                 \n",
            " conv2d_2 (Conv2D)           (None, 7, 7, 256)         819456    \n",
            "                                                                 \n",
            " batch_normalization_6 (Bat  (None, 7, 7, 256)         1024      \n",
            " chNormalization)                                                \n",
            "                                                                 \n",
            " leaky_re_lu_6 (LeakyReLU)   (None, 7, 7, 256)         0         \n",
            "                                                                 \n",
            " dropout_1 (Dropout)         (None, 7, 7, 256)         0         \n",
            "                                                                 \n",
            " conv2d_3 (Conv2D)           (None, 1, 1, 1)           12545     \n",
            "                                                                 \n",
            " reshape_1 (Reshape)         (None, 1)                 0         \n",
            "                                                                 \n",
            "=================================================================\n",
            "Total params: 1040385 (3.97 MB)\n",
            "Trainable params: 1039489 (3.97 MB)\n",
            "Non-trainable params: 896 (3.50 KB)\n",
            "_________________________________________________________________\n"
          ]
        }
      ],
      "source": [
        "gen_model = make_dcgan_generator()\n",
        "gen_model.summary()\n",
        "\n",
        "disc_model = make_dcgan_discriminator()\n",
        "disc_model.summary()"
      ]
    },
    {
      "cell_type": "markdown",
      "metadata": {
        "id": "72tpmJjOo6TV"
      },
      "source": [
        "## 두 분포 사이의 거리 측정하기"
      ]
    },
    {
      "cell_type": "code",
      "execution_count": 12,
      "metadata": {
        "colab": {
          "base_uri": "https://localhost:8080/",
          "height": 357
        },
        "id": "-bKtNGBbo6TV",
        "outputId": "a922c4ac-3e81-4238-9d4c-f24203358de8"
      },
      "outputs": [
        {
          "output_type": "execute_result",
          "data": {
            "text/html": [
              "<img src=\"https://git.io/JLjcf\" width=\"700\"/>"
            ],
            "text/plain": [
              "<IPython.core.display.Image object>"
            ]
          },
          "metadata": {},
          "execution_count": 12
        }
      ],
      "source": [
        "Image(url='https://git.io/JLjcf', width=700)"
      ]
    },
    {
      "cell_type": "code",
      "execution_count": 13,
      "metadata": {
        "colab": {
          "base_uri": "https://localhost:8080/",
          "height": 555
        },
        "id": "QGqJNr5so6TW",
        "outputId": "cd989e0a-4054-466e-ef40-13b6ae3f9141"
      },
      "outputs": [
        {
          "output_type": "execute_result",
          "data": {
            "text/html": [
              "<img src=\"https://git.io/JLjcJ\" width=\"800\"/>"
            ],
            "text/plain": [
              "<IPython.core.display.Image object>"
            ]
          },
          "metadata": {},
          "execution_count": 13
        }
      ],
      "source": [
        "Image(url='https://git.io/JLjcJ', width=800)"
      ]
    },
    {
      "cell_type": "markdown",
      "metadata": {
        "id": "MGNV_luKo6TW"
      },
      "source": [
        "## GAN에 EM 거리 사용하기\n",
        "\n",
        "## 그래디언트 페널티\n",
        "\n",
        "## WGAN-GP로 DCGAN 모델 훈련하기"
      ]
    },
    {
      "cell_type": "code",
      "execution_count": 14,
      "metadata": {
        "id": "-iAGk1Ta6xmQ",
        "outputId": "4df8423d-1f6b-4f4b-cbcf-79581c0bb6b9",
        "colab": {
          "base_uri": "https://localhost:8080/",
          "height": 85,
          "referenced_widgets": [
            "b556ef9d96cd403f8aad0e92bf22190f",
            "ec729ee7ba7c421fb8e012efc83ff415",
            "102a223b03564a9688e27382dd39c3d2",
            "f2d17fa3e95646498bfb0195629c5247",
            "1d0dcea495eb4d7ba6a7264e64197327",
            "9bbf4916721a46bbb80d1232f3a10635",
            "48ef1572ccfe47be9b4710127ce9d74d",
            "38a4e2cf918d4f3d83c647546414b459",
            "9042ca40df234976bc152d2c0fb55890",
            "8e1a74c33c93443a82ea0b0676b00ea3",
            "2bfac3e67c784c19b386986e7a4e6268"
          ]
        }
      },
      "outputs": [
        {
          "output_type": "stream",
          "name": "stdout",
          "text": [
            "Downloading and preparing dataset 11.06 MiB (download: 11.06 MiB, generated: 21.00 MiB, total: 32.06 MiB) to /root/tensorflow_datasets/mnist/3.0.1...\n"
          ]
        },
        {
          "output_type": "display_data",
          "data": {
            "text/plain": [
              "Dl Completed...:   0%|          | 0/5 [00:00<?, ? file/s]"
            ],
            "application/vnd.jupyter.widget-view+json": {
              "version_major": 2,
              "version_minor": 0,
              "model_id": "b556ef9d96cd403f8aad0e92bf22190f"
            }
          },
          "metadata": {}
        },
        {
          "output_type": "stream",
          "name": "stdout",
          "text": [
            "Dataset mnist downloaded and prepared to /root/tensorflow_datasets/mnist/3.0.1. Subsequent calls will reuse this data.\n"
          ]
        }
      ],
      "source": [
        "mnist_bldr = tfds.builder('mnist')\n",
        "mnist_bldr.download_and_prepare()\n",
        "mnist = mnist_bldr.as_dataset(shuffle_files=False)\n",
        "\n",
        "def preprocess(ex, mode='uniform'):\n",
        "    image = ex['image']\n",
        "    image = tf.image.convert_image_dtype(image, tf.float32)\n",
        "\n",
        "    image = image*2 - 1.0\n",
        "    if mode == 'uniform':\n",
        "        input_z = tf.random.uniform(\n",
        "            shape=(z_size,), minval=-1.0, maxval=1.0)\n",
        "    elif mode == 'normal':\n",
        "        input_z = tf.random.normal(shape=(z_size,))\n",
        "    return input_z, image"
      ]
    },
    {
      "cell_type": "code",
      "execution_count": 15,
      "metadata": {
        "colab": {
          "base_uri": "https://localhost:8080/"
        },
        "id": "HCX0mOwEo6TW",
        "outputId": "10414f45-2688-41cf-b9e5-5d06beecea22"
      },
      "outputs": [
        {
          "output_type": "stream",
          "name": "stdout",
          "text": [
            "Model: \"sequential_2\"\n",
            "_________________________________________________________________\n",
            " Layer (type)                Output Shape              Param #   \n",
            "=================================================================\n",
            " dense_1 (Dense)             (None, 6272)              125440    \n",
            "                                                                 \n",
            " batch_normalization_7 (Bat  (None, 6272)              25088     \n",
            " chNormalization)                                                \n",
            "                                                                 \n",
            " leaky_re_lu_7 (LeakyReLU)   (None, 6272)              0         \n",
            "                                                                 \n",
            " reshape_2 (Reshape)         (None, 7, 7, 128)         0         \n",
            "                                                                 \n",
            " conv2d_transpose_4 (Conv2D  (None, 7, 7, 128)         409600    \n",
            " Transpose)                                                      \n",
            "                                                                 \n",
            " batch_normalization_8 (Bat  (None, 7, 7, 128)         512       \n",
            " chNormalization)                                                \n",
            "                                                                 \n",
            " leaky_re_lu_8 (LeakyReLU)   (None, 7, 7, 128)         0         \n",
            "                                                                 \n",
            " conv2d_transpose_5 (Conv2D  (None, 14, 14, 64)        204800    \n",
            " Transpose)                                                      \n",
            "                                                                 \n",
            " batch_normalization_9 (Bat  (None, 14, 14, 64)        256       \n",
            " chNormalization)                                                \n",
            "                                                                 \n",
            " leaky_re_lu_9 (LeakyReLU)   (None, 14, 14, 64)        0         \n",
            "                                                                 \n",
            " conv2d_transpose_6 (Conv2D  (None, 28, 28, 32)        51200     \n",
            " Transpose)                                                      \n",
            "                                                                 \n",
            " batch_normalization_10 (Ba  (None, 28, 28, 32)        128       \n",
            " tchNormalization)                                               \n",
            "                                                                 \n",
            " leaky_re_lu_10 (LeakyReLU)  (None, 28, 28, 32)        0         \n",
            "                                                                 \n",
            " conv2d_transpose_7 (Conv2D  (None, 28, 28, 1)         800       \n",
            " Transpose)                                                      \n",
            "                                                                 \n",
            "=================================================================\n",
            "Total params: 817824 (3.12 MB)\n",
            "Trainable params: 804832 (3.07 MB)\n",
            "Non-trainable params: 12992 (50.75 KB)\n",
            "_________________________________________________________________\n",
            "Model: \"sequential_3\"\n",
            "_________________________________________________________________\n",
            " Layer (type)                Output Shape              Param #   \n",
            "=================================================================\n",
            " conv2d_4 (Conv2D)           (None, 28, 28, 64)        1664      \n",
            "                                                                 \n",
            " batch_normalization_11 (Ba  (None, 28, 28, 64)        256       \n",
            " tchNormalization)                                               \n",
            "                                                                 \n",
            " leaky_re_lu_11 (LeakyReLU)  (None, 28, 28, 64)        0         \n",
            "                                                                 \n",
            " conv2d_5 (Conv2D)           (None, 14, 14, 128)       204928    \n",
            "                                                                 \n",
            " batch_normalization_12 (Ba  (None, 14, 14, 128)       512       \n",
            " tchNormalization)                                               \n",
            "                                                                 \n",
            " leaky_re_lu_12 (LeakyReLU)  (None, 14, 14, 128)       0         \n",
            "                                                                 \n",
            " dropout_2 (Dropout)         (None, 14, 14, 128)       0         \n",
            "                                                                 \n",
            " conv2d_6 (Conv2D)           (None, 7, 7, 256)         819456    \n",
            "                                                                 \n",
            " batch_normalization_13 (Ba  (None, 7, 7, 256)         1024      \n",
            " tchNormalization)                                               \n",
            "                                                                 \n",
            " leaky_re_lu_13 (LeakyReLU)  (None, 7, 7, 256)         0         \n",
            "                                                                 \n",
            " dropout_3 (Dropout)         (None, 7, 7, 256)         0         \n",
            "                                                                 \n",
            " conv2d_7 (Conv2D)           (None, 1, 1, 1)           12545     \n",
            "                                                                 \n",
            " reshape_3 (Reshape)         (None, 1)                 0         \n",
            "                                                                 \n",
            "=================================================================\n",
            "Total params: 1040385 (3.97 MB)\n",
            "Trainable params: 1039489 (3.97 MB)\n",
            "Non-trainable params: 896 (3.50 KB)\n",
            "_________________________________________________________________\n"
          ]
        }
      ],
      "source": [
        "num_epochs = 100\n",
        "batch_size = 128\n",
        "image_size = (28, 28)\n",
        "z_size = 20\n",
        "mode_z = 'uniform'\n",
        "lambda_gp = 10.0\n",
        "\n",
        "tf.random.set_seed(1)\n",
        "np.random.seed(1)\n",
        "\n",
        "## 데이터셋 준비\n",
        "mnist_trainset = mnist['train']\n",
        "mnist_trainset = mnist_trainset.map(preprocess)\n",
        "\n",
        "mnist_trainset = mnist_trainset.shuffle(10000)\n",
        "mnist_trainset = mnist_trainset.batch(\n",
        "    batch_size, drop_remainder=True)\n",
        "\n",
        "## 모델 생성\n",
        "with tf.device(device_name):\n",
        "    gen_model = make_dcgan_generator()\n",
        "    gen_model.build(input_shape=(None, z_size))\n",
        "    gen_model.summary()\n",
        "\n",
        "    disc_model = make_dcgan_discriminator()\n",
        "    disc_model.build(input_shape=(None, np.prod(image_size)))\n",
        "    disc_model.summary()"
      ]
    },
    {
      "cell_type": "code",
      "execution_count": 16,
      "metadata": {
        "colab": {
          "base_uri": "https://localhost:8080/"
        },
        "id": "caAjzvI_o6TW",
        "outputId": "25e7589c-d4c5-4ecc-f098-a55d495f0049"
      },
      "outputs": [
        {
          "metadata": {
            "tags": null
          },
          "name": "stderr",
          "output_type": "stream",
          "text": [
            "WARNING:tensorflow:5 out of the last 5 calls to <function _BaseOptimizer._update_step_xla at 0x7946d87e13f0> triggered tf.function retracing. Tracing is expensive and the excessive number of tracings could be due to (1) creating @tf.function repeatedly in a loop, (2) passing tensors with different shapes, (3) passing Python objects instead of tensors. For (1), please define your @tf.function outside of the loop. For (2), @tf.function has reduce_retracing=True option that can avoid unnecessary retracing. For (3), please refer to https://www.tensorflow.org/guide/function#controlling_retracing and https://www.tensorflow.org/api_docs/python/tf/function for  more details.\n",
            "WARNING:tensorflow:6 out of the last 6 calls to <function _BaseOptimizer._update_step_xla at 0x7946d87e13f0> triggered tf.function retracing. Tracing is expensive and the excessive number of tracings could be due to (1) creating @tf.function repeatedly in a loop, (2) passing tensors with different shapes, (3) passing Python objects instead of tensors. For (1), please define your @tf.function outside of the loop. For (2), @tf.function has reduce_retracing=True option that can avoid unnecessary retracing. For (3), please refer to https://www.tensorflow.org/guide/function#controlling_retracing and https://www.tensorflow.org/api_docs/python/tf/function for  more details.\n"
          ]
        },
        {
          "output_type": "stream",
          "name": "stdout",
          "text": [
            "에포크   1 | 시간 1.46 min | 평균 손실 >> 생성자/판별자 202.82/-334.89 [판별자-진짜: -206.73 판별자-가짜: -202.82]\n",
            "에포크   2 | 시간 2.67 min | 평균 손실 >> 생성자/판별자 234.80/-207.13 [판별자-진짜: -158.48 판별자-가짜: -234.80]\n",
            "에포크   3 | 시간 3.88 min | 평균 손실 >> 생성자/판별자 144.78/-43.22 [판별자-진짜: -58.92 판별자-가짜: -144.78]\n",
            "에포크   4 | 시간 5.09 min | 평균 손실 >> 생성자/판별자  94.69/ 10.60 [판별자-진짜: -18.09 판별자-가짜: -94.69]\n",
            "에포크   5 | 시간 6.30 min | 평균 손실 >> 생성자/판별자  59.15/-14.41 [판별자-진짜: -14.35 판별자-가짜: -59.15]\n",
            "에포크   6 | 시간 7.52 min | 평균 손실 >> 생성자/판별자  43.81/  2.39 [판별자-진짜:   3.78 판별자-가짜: -43.81]\n",
            "에포크   7 | 시간 8.74 min | 평균 손실 >> 생성자/판별자  57.37/-19.29 [판별자-진짜:  31.12 판별자-가짜: -57.37]\n",
            "에포크   8 | 시간 9.97 min | 평균 손실 >> 생성자/판별자  59.18/-25.08 [판별자-진짜:  29.30 판별자-가짜: -59.18]\n",
            "에포크   9 | 시간 11.18 min | 평균 손실 >> 생성자/판별자  72.61/-38.90 [판별자-진짜:  23.60 판별자-가짜: -72.61]\n",
            "에포크  10 | 시간 12.40 min | 평균 손실 >> 생성자/판별자  56.56/-26.91 [판별자-진짜:  10.29 판별자-가짜: -56.56]\n",
            "에포크  11 | 시간 13.62 min | 평균 손실 >> 생성자/판별자  79.68/-39.28 [판별자-진짜:  30.04 판별자-가짜: -79.68]\n",
            "에포크  12 | 시간 14.83 min | 평균 손실 >> 생성자/판별자  72.02/-45.49 [판별자-진짜:  11.73 판별자-가짜: -72.02]\n",
            "에포크  13 | 시간 16.05 min | 평균 손실 >> 생성자/판별자  71.32/-29.28 [판별자-진짜:  20.80 판별자-가짜: -71.32]\n",
            "에포크  14 | 시간 17.27 min | 평균 손실 >> 생성자/판별자  74.58/-34.01 [판별자-진짜:  31.02 판별자-가짜: -74.58]\n",
            "에포크  15 | 시간 18.50 min | 평균 손실 >> 생성자/판별자  68.44/-24.09 [판별자-진짜:  26.53 판별자-가짜: -68.44]\n",
            "에포크  16 | 시간 19.72 min | 평균 손실 >> 생성자/판별자  55.22/-29.22 [판별자-진짜:  19.40 판별자-가짜: -55.22]\n",
            "에포크  17 | 시간 20.94 min | 평균 손실 >> 생성자/판별자  59.42/-37.91 [판별자-진짜:  12.63 판별자-가짜: -59.42]\n",
            "에포크  18 | 시간 22.15 min | 평균 손실 >> 생성자/판별자  65.91/-27.29 [판별자-진짜:  29.16 판별자-가짜: -65.91]\n",
            "에포크  19 | 시간 23.37 min | 평균 손실 >> 생성자/판별자  69.29/-32.55 [판별자-진짜:  24.82 판별자-가짜: -69.29]\n",
            "에포크  20 | 시간 24.59 min | 평균 손실 >> 생성자/판별자  65.29/-12.74 [판별자-진짜:  32.43 판별자-가짜: -65.29]\n",
            "에포크  21 | 시간 25.81 min | 평균 손실 >> 생성자/판별자  62.42/-23.15 [판별자-진짜:  31.42 판별자-가짜: -62.42]\n",
            "에포크  22 | 시간 27.03 min | 평균 손실 >> 생성자/판별자  63.00/-21.51 [판별자-진짜:  32.37 판별자-가짜: -63.00]\n",
            "에포크  23 | 시간 28.25 min | 평균 손실 >> 생성자/판별자  80.15/-31.73 [판별자-진짜:  45.66 판별자-가짜: -80.15]\n",
            "에포크  24 | 시간 29.46 min | 평균 손실 >> 생성자/판별자  94.63/-27.95 [판별자-진짜:  61.64 판별자-가짜: -94.63]\n",
            "에포크  25 | 시간 30.68 min | 평균 손실 >> 생성자/판별자 129.46/-37.22 [판별자-진짜:  84.86 판별자-가짜: -129.46]\n",
            "에포크  26 | 시간 31.90 min | 평균 손실 >> 생성자/판별자 141.22/-33.43 [판별자-진짜:  98.52 판별자-가짜: -141.22]\n",
            "에포크  27 | 시간 33.12 min | 평균 손실 >> 생성자/판별자 151.16/-33.54 [판별자-진짜: 109.64 판별자-가짜: -151.16]\n",
            "에포크  28 | 시간 34.34 min | 평균 손실 >> 생성자/판별자 156.49/-39.86 [판별자-진짜: 106.82 판별자-가짜: -156.49]\n",
            "에포크  29 | 시간 35.57 min | 평균 손실 >> 생성자/판별자 131.73/-26.88 [판별자-진짜:  93.56 판별자-가짜: -131.73]\n",
            "에포크  30 | 시간 36.79 min | 평균 손실 >> 생성자/판별자 180.93/-35.61 [판별자-진짜: 134.44 판별자-가짜: -180.93]\n",
            "에포크  31 | 시간 38.01 min | 평균 손실 >> 생성자/판별자 185.15/-35.71 [판별자-진짜: 138.00 판별자-가짜: -185.15]\n",
            "에포크  32 | 시간 39.24 min | 평균 손실 >> 생성자/판별자 161.17/-27.16 [판별자-진짜: 125.01 판별자-가짜: -161.17]\n",
            "에포크  33 | 시간 40.46 min | 평균 손실 >> 생성자/판별자 179.09/-41.24 [판별자-진짜: 122.11 판별자-가짜: -179.09]\n",
            "에포크  34 | 시간 41.68 min | 평균 손실 >> 생성자/판별자 272.87/-53.23 [판별자-진짜: 210.14 판별자-가짜: -272.87]\n",
            "에포크  35 | 시간 42.91 min | 평균 손실 >> 생성자/판별자 175.89/-50.48 [판별자-진짜:  94.57 판별자-가짜: -175.89]\n",
            "에포크  36 | 시간 44.15 min | 평균 손실 >> 생성자/판별자 259.09/-43.61 [판별자-진짜: 207.21 판별자-가짜: -259.09]\n",
            "에포크  37 | 시간 45.38 min | 평균 손실 >> 생성자/판별자 286.56/-47.39 [판별자-진짜: 224.12 판별자-가짜: -286.56]\n",
            "에포크  38 | 시간 46.60 min | 평균 손실 >> 생성자/판별자 310.23/-57.61 [판별자-진짜: 241.71 판별자-가짜: -310.23]\n",
            "에포크  39 | 시간 47.82 min | 평균 손실 >> 생성자/판별자 279.79/-41.69 [판별자-진짜: 215.52 판별자-가짜: -279.79]\n",
            "에포크  40 | 시간 49.04 min | 평균 손실 >> 생성자/판별자 306.90/-66.84 [판별자-진짜: 229.16 판별자-가짜: -306.90]\n",
            "에포크  41 | 시간 50.26 min | 평균 손실 >> 생성자/판별자 362.32/-24.47 [판별자-진짜: 318.97 판별자-가짜: -362.32]\n",
            "에포크  42 | 시간 51.47 min | 평균 손실 >> 생성자/판별자 329.68/-51.71 [판별자-진짜: 270.70 판별자-가짜: -329.68]\n",
            "에포크  43 | 시간 52.69 min | 평균 손실 >> 생성자/판별자 414.96/-45.66 [판별자-진짜: 361.96 판별자-가짜: -414.96]\n",
            "에포크  44 | 시간 53.92 min | 평균 손실 >> 생성자/판별자 457.41/-58.11 [판별자-진짜: 392.14 판별자-가짜: -457.41]\n",
            "에포크  45 | 시간 55.13 min | 평균 손실 >> 생성자/판별자 412.77/-48.61 [판별자-진짜: 357.73 판별자-가짜: -412.77]\n",
            "에포크  46 | 시간 56.34 min | 평균 손실 >> 생성자/판별자 446.76/-48.82 [판별자-진짜: 391.74 판별자-가짜: -446.76]\n",
            "에포크  47 | 시간 57.55 min | 평균 손실 >> 생성자/판별자 493.81/-55.32 [판별자-진짜: 430.35 판별자-가짜: -493.81]\n",
            "에포크  48 | 시간 58.77 min | 평균 손실 >> 생성자/판별자 649.44/-73.51 [판별자-진짜: 558.12 판별자-가짜: -649.44]\n",
            "에포크  49 | 시간 59.97 min | 평균 손실 >> 생성자/판별자 696.97/-81.80 [판별자-진짜: 602.22 판별자-가짜: -696.97]\n",
            "에포크  50 | 시간 61.18 min | 평균 손실 >> 생성자/판별자 672.01/-108.91 [판별자-진짜: 550.44 판별자-가짜: -672.01]\n",
            "에포크  51 | 시간 62.39 min | 평균 손실 >> 생성자/판별자 846.76/-87.57 [판별자-진짜: 748.56 판별자-가짜: -846.76]\n",
            "에포크  52 | 시간 63.60 min | 평균 손실 >> 생성자/판별자 914.80/-86.78 [판별자-진짜: 810.68 판별자-가짜: -914.80]\n",
            "에포크  53 | 시간 64.81 min | 평균 손실 >> 생성자/판별자 956.64/-95.61 [판별자-진짜: 851.66 판별자-가짜: -956.64]\n",
            "에포크  54 | 시간 66.02 min | 평균 손실 >> 생성자/판별자 861.48/-108.92 [판별자-진짜: 740.73 판별자-가짜: -861.48]\n",
            "에포크  55 | 시간 67.23 min | 평균 손실 >> 생성자/판별자 1025.88/-127.60 [판별자-진짜: 882.42 판별자-가짜: -1025.88]\n",
            "에포크  56 | 시간 68.44 min | 평균 손실 >> 생성자/판별자 1097.69/-161.70 [판별자-진짜: 910.29 판별자-가짜: -1097.69]\n",
            "에포크  57 | 시간 69.66 min | 평균 손실 >> 생성자/판별자 1120.30/-133.22 [판별자-진짜: 973.53 판별자-가짜: -1120.30]\n",
            "에포크  58 | 시간 70.87 min | 평균 손실 >> 생성자/판별자 1146.90/-97.67 [판별자-진짜: 1042.65 판별자-가짜: -1146.90]\n",
            "에포크  59 | 시간 72.08 min | 평균 손실 >> 생성자/판별자 1156.45/-123.79 [판별자-진짜: 1001.23 판별자-가짜: -1156.45]\n",
            "에포크  60 | 시간 73.29 min | 평균 손실 >> 생성자/판별자 1445.01/-162.23 [판별자-진짜: 1266.63 판별자-가짜: -1445.01]\n",
            "에포크  61 | 시간 74.51 min | 평균 손실 >> 생성자/판별자 1511.27/-145.34 [판별자-진짜: 1341.27 판별자-가짜: -1511.27]\n",
            "에포크  62 | 시간 75.73 min | 평균 손실 >> 생성자/판별자 1415.55/-159.41 [판별자-진짜: 1246.16 판별자-가짜: -1415.55]\n",
            "에포크  63 | 시간 76.93 min | 평균 손실 >> 생성자/판별자 1719.66/-255.73 [판별자-진짜: 1437.34 판별자-가짜: -1719.66]\n",
            "에포크  64 | 시간 78.15 min | 평균 손실 >> 생성자/판별자 1692.99/-232.00 [판별자-진짜: 1441.92 판별자-가짜: -1692.99]\n",
            "에포크  65 | 시간 79.37 min | 평균 손실 >> 생성자/판별자 1445.34/-215.05 [판별자-진짜: 1209.31 판별자-가짜: -1445.34]\n",
            "에포크  66 | 시간 80.57 min | 평균 손실 >> 생성자/판별자 1339.74/-183.17 [판별자-진짜: 1145.34 판별자-가짜: -1339.74]\n",
            "에포크  67 | 시간 81.77 min | 평균 손실 >> 생성자/판별자 1818.47/-254.93 [판별자-진짜: 1548.11 판별자-가짜: -1818.47]\n",
            "에포크  68 | 시간 82.97 min | 평균 손실 >> 생성자/판별자 2116.56/-324.54 [판별자-진짜: 1748.23 판별자-가짜: -2116.56]\n",
            "에포크  69 | 시간 84.16 min | 평균 손실 >> 생성자/판별자 2099.70/-341.10 [판별자-진짜: 1735.20 판별자-가짜: -2099.70]\n",
            "에포크  70 | 시간 85.36 min | 평균 손실 >> 생성자/판별자 1617.92/-251.46 [판별자-진짜: 1343.85 판별자-가짜: -1617.92]\n",
            "에포크  71 | 시간 86.56 min | 평균 손실 >> 생성자/판별자 2099.79/-376.34 [판별자-진짜: 1659.09 판별자-가짜: -2099.79]\n",
            "에포크  72 | 시간 87.75 min | 평균 손실 >> 생성자/판별자 2386.26/-528.34 [판별자-진짜: 1846.86 판별자-가짜: -2386.26]\n",
            "에포크  73 | 시간 88.96 min | 평균 손실 >> 생성자/판별자 2720.02/-645.55 [판별자-진짜: 2045.42 판별자-가짜: -2720.02]\n",
            "에포크  74 | 시간 90.16 min | 평균 손실 >> 생성자/판별자 2491.67/-587.06 [판별자-진짜: 1823.92 판별자-가짜: -2491.67]\n",
            "에포크  75 | 시간 91.35 min | 평균 손실 >> 생성자/판별자 2745.52/-656.08 [판별자-진짜: 2064.66 판별자-가짜: -2745.52]\n",
            "에포크  76 | 시간 92.56 min | 평균 손실 >> 생성자/판별자 2427.18/-594.28 [판별자-진짜: 1804.51 판별자-가짜: -2427.18]\n",
            "에포크  77 | 시간 93.76 min | 평균 손실 >> 생성자/판별자 3166.66/-836.28 [판별자-진짜: 2291.14 판별자-가짜: -3166.66]\n",
            "에포크  78 | 시간 94.96 min | 평균 손실 >> 생성자/판별자 2948.40/-838.05 [판별자-진짜: 2085.82 판별자-가짜: -2948.40]\n",
            "에포크  79 | 시간 96.16 min | 평균 손실 >> 생성자/판별자 3536.23/-958.62 [판별자-진짜: 2458.02 판별자-가짜: -3536.23]\n",
            "에포크  80 | 시간 97.35 min | 평균 손실 >> 생성자/판별자 3680.76/-1057.96 [판별자-진짜: 2575.85 판별자-가짜: -3680.76]\n",
            "에포크  81 | 시간 98.55 min | 평균 손실 >> 생성자/판별자 3974.77/-1192.83 [판별자-진짜: 2704.77 판별자-가짜: -3974.77]\n",
            "에포크  82 | 시간 99.74 min | 평균 손실 >> 생성자/판별자 3679.21/-1090.78 [판별자-진짜: 2557.78 판별자-가짜: -3679.21]\n",
            "에포크  83 | 시간 100.94 min | 평균 손실 >> 생성자/판별자 4049.93/-1221.55 [판별자-진짜: 2784.08 판별자-가짜: -4049.93]\n",
            "에포크  84 | 시간 102.14 min | 평균 손실 >> 생성자/판별자 4455.76/-1346.84 [판별자-진짜: 3047.48 판별자-가짜: -4455.76]\n",
            "에포크  85 | 시간 103.33 min | 평균 손실 >> 생성자/판별자 3400.58/-1066.14 [판별자-진짜: 2316.64 판별자-가짜: -3400.58]\n",
            "에포크  86 | 시간 104.53 min | 평균 손실 >> 생성자/판별자 4658.09/-1376.51 [판별자-진짜: 3175.95 판별자-가짜: -4658.09]\n",
            "에포크  87 | 시간 105.72 min | 평균 손실 >> 생성자/판별자 4800.27/-1390.62 [판별자-진짜: 3274.06 판별자-가짜: -4800.27]\n",
            "에포크  88 | 시간 106.92 min | 평균 손실 >> 생성자/판별자 4970.92/-1488.97 [판별자-진짜: 3399.67 판별자-가짜: -4970.92]\n",
            "에포크  89 | 시간 108.12 min | 평균 손실 >> 생성자/판별자 3910.17/-1278.95 [판별자-진짜: 2592.79 판별자-가짜: -3910.17]\n",
            "에포크  90 | 시간 109.32 min | 평균 손실 >> 생성자/판별자 4589.68/-1410.95 [판별자-진짜: 3151.78 판별자-가짜: -4589.68]\n",
            "에포크  91 | 시간 110.52 min | 평균 손실 >> 생성자/판별자 5000.36/-1498.20 [판별자-진짜: 3415.67 판별자-가짜: -5000.36]\n",
            "에포크  92 | 시간 111.71 min | 평균 손실 >> 생성자/판별자 5054.33/-1426.58 [판별자-진짜: 3515.95 판별자-가짜: -5054.33]\n",
            "에포크  93 | 시간 112.91 min | 평균 손실 >> 생성자/판별자 5646.80/-1705.28 [판별자-진짜: 3873.47 판별자-가짜: -5646.80]\n",
            "에포크  94 | 시간 114.11 min | 평균 손실 >> 생성자/판별자 5685.14/-1698.12 [판별자-진짜: 3893.99 판별자-가짜: -5685.14]\n",
            "에포크  95 | 시간 115.31 min | 평균 손실 >> 생성자/판별자 5463.27/-1707.57 [판별자-진짜: 3696.08 판별자-가짜: -5463.27]\n",
            "에포크  96 | 시간 116.51 min | 평균 손실 >> 생성자/판별자 6224.34/-1882.55 [판별자-진짜: 4278.12 판별자-가짜: -6224.34]\n",
            "에포크  97 | 시간 117.71 min | 평균 손실 >> 생성자/판별자 6191.74/-1746.91 [판별자-진짜: 4331.04 판별자-가짜: -6191.74]\n",
            "에포크  98 | 시간 118.90 min | 평균 손실 >> 생성자/판별자 4973.28/-1500.55 [판별자-진짜: 3451.36 판별자-가짜: -4973.28]\n",
            "에포크  99 | 시간 120.10 min | 평균 손실 >> 생성자/판별자 6723.90/-1881.30 [판별자-진짜: 4695.19 판별자-가짜: -6723.90]\n",
            "에포크 100 | 시간 121.30 min | 평균 손실 >> 생성자/판별자 6872.52/-2095.87 [판별자-진짜: 4708.04 판별자-가짜: -6872.52]\n"
          ]
        }
      ],
      "source": [
        "import time\n",
        "\n",
        "\n",
        "## 옵티마이저:\n",
        "g_optimizer = tf.keras.optimizers.Adam(0.0002)\n",
        "d_optimizer = tf.keras.optimizers.Adam(0.0002)\n",
        "\n",
        "if mode_z == 'uniform':\n",
        "    fixed_z = tf.random.uniform(\n",
        "        shape=(batch_size, z_size),\n",
        "        minval=-1, maxval=1)\n",
        "elif mode_z == 'normal':\n",
        "    fixed_z = tf.random.normal(\n",
        "        shape=(batch_size, z_size))\n",
        "\n",
        "def create_samples(g_model, input_z):\n",
        "    g_output = g_model(input_z, training=False)\n",
        "    images = tf.reshape(g_output, (batch_size, *image_size))\n",
        "    return (images+1)/2.0\n",
        "\n",
        "all_losses = []\n",
        "epoch_samples = []\n",
        "\n",
        "start_time = time.time()\n",
        "\n",
        "for epoch in range(1, num_epochs+1):\n",
        "    epoch_losses = []\n",
        "    for i,(input_z,input_real) in enumerate(mnist_trainset):\n",
        "\n",
        "        with tf.GradientTape() as d_tape, tf.GradientTape() as g_tape:\n",
        "            g_output = gen_model(input_z, training=True)\n",
        "\n",
        "            d_critics_real = disc_model(input_real, training=True)\n",
        "            d_critics_fake = disc_model(g_output, training=True)\n",
        "\n",
        "            ## 생성자 손실을 계산합니다:\n",
        "            g_loss = -tf.math.reduce_mean(d_critics_fake)\n",
        "\n",
        "            ## 판별자 손실을 계산합니다:\n",
        "            d_loss_real = -tf.math.reduce_mean(d_critics_real)\n",
        "            d_loss_fake =  tf.math.reduce_mean(d_critics_fake)\n",
        "            d_loss = d_loss_real + d_loss_fake\n",
        "\n",
        "            ## 그래디언트 페널티:\n",
        "            with tf.GradientTape() as gp_tape:\n",
        "                alpha = tf.random.uniform(\n",
        "                    shape=[d_critics_real.shape[0], 1, 1, 1],\n",
        "                    minval=0.0, maxval=1.0)\n",
        "                interpolated = (\n",
        "                    alpha*input_real + (1-alpha)*g_output)\n",
        "                gp_tape.watch(interpolated)\n",
        "                d_critics_intp = disc_model(interpolated)\n",
        "\n",
        "            grads_intp = gp_tape.gradient(\n",
        "                d_critics_intp, [interpolated,])[0]\n",
        "            grads_intp_l2 = tf.sqrt(\n",
        "                tf.reduce_sum(tf.square(grads_intp), axis=[1, 2, 3]))\n",
        "            grad_penalty = tf.reduce_mean(tf.square(grads_intp_l2 - 1.0))\n",
        "\n",
        "            d_loss = d_loss + lambda_gp*grad_penalty\n",
        "\n",
        "        ## 최적화: 그래디언트를 계산하고 적용합니다\n",
        "        d_grads = d_tape.gradient(d_loss, disc_model.trainable_variables)\n",
        "        d_optimizer.apply_gradients(\n",
        "            grads_and_vars=zip(d_grads, disc_model.trainable_variables))\n",
        "\n",
        "        g_grads = g_tape.gradient(g_loss, gen_model.trainable_variables)\n",
        "        g_optimizer.apply_gradients(\n",
        "            grads_and_vars=zip(g_grads, gen_model.trainable_variables))\n",
        "\n",
        "        epoch_losses.append(\n",
        "            (g_loss.numpy(), d_loss.numpy(),\n",
        "             d_loss_real.numpy(), d_loss_fake.numpy()))\n",
        "\n",
        "    all_losses.append(epoch_losses)\n",
        "\n",
        "    print('에포크 {:-3d} | 시간 {:.2f} min | 평균 손실 >>'\n",
        "          ' 생성자/판별자 {:6.2f}/{:6.2f} [판별자-진짜: {:6.2f} 판별자-가짜: {:6.2f}]'\n",
        "          .format(epoch, (time.time() - start_time)/60,\n",
        "                  *list(np.mean(all_losses[-1], axis=0)))\n",
        "    )\n",
        "\n",
        "    epoch_samples.append(\n",
        "        create_samples(gen_model, fixed_z).numpy()\n",
        "    )"
      ]
    },
    {
      "cell_type": "code",
      "execution_count": 17,
      "metadata": {
        "colab": {
          "base_uri": "https://localhost:8080/",
          "height": 637
        },
        "id": "EhyoIu75o6TX",
        "outputId": "0df33d47-203a-4c4b-bd73-4359487c4fa6"
      },
      "outputs": [
        {
          "output_type": "display_data",
          "data": {
            "text/plain": [
              "<Figure size 800x600 with 2 Axes>"
            ],
            "image/png": "[encoded data removed]"
          },
          "metadata": {}
        }
      ],
      "source": [
        "import itertools\n",
        "\n",
        "\n",
        "fig = plt.figure(figsize=(8, 6))\n",
        "\n",
        "## 손실 그래프\n",
        "ax = fig.add_subplot(1, 1, 1)\n",
        "g_losses = [item[0] for item in itertools.chain(*all_losses)]\n",
        "d_losses = [item[1] for item in itertools.chain(*all_losses)]\n",
        "plt.plot(g_losses, label='Generator loss', alpha=0.95)\n",
        "plt.plot(d_losses, label='Discriminator loss', alpha=0.95)\n",
        "plt.legend(fontsize=20)\n",
        "ax.set_xlabel('Iteration', size=15)\n",
        "ax.set_ylabel('Loss', size=15)\n",
        "\n",
        "epochs = np.arange(1, 101)\n",
        "epoch2iter = lambda e: e*len(all_losses[-1])\n",
        "epoch_ticks = [1, 20, 40, 60, 80, 100]\n",
        "newpos   = [epoch2iter(e) for e in epoch_ticks]\n",
        "ax2 = ax.twiny()\n",
        "ax2.set_xticks(newpos)\n",
        "ax2.set_xticklabels(epoch_ticks)\n",
        "ax2.xaxis.set_ticks_position('bottom')\n",
        "ax2.xaxis.set_label_position('bottom')\n",
        "ax2.spines['bottom'].set_position(('outward', 60))\n",
        "ax2.set_xlabel('Epoch', size=15)\n",
        "ax2.set_xlim(ax.get_xlim())\n",
        "ax.tick_params(axis='both', which='major', labelsize=15)\n",
        "ax2.tick_params(axis='both', which='major', labelsize=15)\n",
        "\n",
        "plt.show()"
      ]
    },
    {
      "cell_type": "code",
      "execution_count": 18,
      "metadata": {
        "colab": {
          "base_uri": "https://localhost:8080/",
          "height": 1000
        },
        "id": "FPW5iPQeo6TX",
        "outputId": "424e94ad-81ea-4e50-e6fb-292d3f923759"
      },
      "outputs": [
        {
          "output_type": "display_data",
          "data": {
            "text/plain": [
              "<Figure size 1000x1400 with 30 Axes>"
            ],
            "image/png": "[encoded data removed]"
          },
          "metadata": {}
        }
      ],
      "source": [
        "selected_epochs = [1, 2, 4, 10, 50, 100]\n",
        "fig = plt.figure(figsize=(10, 14))\n",
        "for i,e in enumerate(selected_epochs):\n",
        "    for j in range(5):\n",
        "        ax = fig.add_subplot(6, 5, i*5+j+1)\n",
        "        ax.set_xticks([])\n",
        "        ax.set_yticks([])\n",
        "        if j == 0:\n",
        "            ax.text(\n",
        "                -0.06, 0.5, 'Epoch {}'.format(e),\n",
        "                rotation=90, size=18, color='red',\n",
        "                horizontalalignment='right',\n",
        "                verticalalignment='center',\n",
        "                transform=ax.transAxes)\n",
        "\n",
        "        image = epoch_samples[e-1][j]\n",
        "        ax.imshow(image, cmap='gray_r')\n",
        "\n",
        "plt.show()"
      ]
    },
    {
      "cell_type": "markdown",
      "metadata": {
        "id": "YBrkP6vWo6TY"
      },
      "source": [
        "## 모드 붕괴"
      ]
    },
    {
      "cell_type": "code",
      "execution_count": 19,
      "metadata": {
        "colab": {
          "base_uri": "https://localhost:8080/",
          "height": 622
        },
        "id": "y0a0y7LEo6TY",
        "outputId": "762169b4-33d8-4226-91d2-db454ba929a6"
      },
      "outputs": [
        {
          "output_type": "execute_result",
          "data": {
            "text/html": [
              "<img src=\"https://git.io/JLjcT\" width=\"600\"/>"
            ],
            "text/plain": [
              "<IPython.core.display.Image object>"
            ]
          },
          "metadata": {},
          "execution_count": 19
        }
      ],
      "source": [
        "Image(url='https://git.io/JLjcT', width=600)"
      ]
    }
  ],
  "metadata": {
    "accelerator": "GPU",
    "colab": {
      "machine_shape": "hm",
      "name": "ch17-DCGAN.ipynb",
      "provenance": [],
      "gpuType": "A100"
    },
    "kernelspec": {
      "display_name": "Python 3",
      "name": "python3"
    },
    "language_info": {
      "codemirror_mode": {
        "name": "ipython",
        "version": 3
      },
      "file_extension": ".py",
      "mimetype": "text/x-python",
      "name": "python",
      "nbconvert_exporter": "python",
      "pygments_lexer": "ipython3",
      "version": "3.7.3"
    },
    "widgets": {
      "application/vnd.jupyter.widget-state+json": {
        "b556ef9d96cd403f8aad0e92bf22190f": {
          "model_module": "@jupyter-widgets/controls",
          "model_name": "HBoxModel",
          "model_module_version": "1.5.0",
          "state": {
            "_dom_classes": [],
            "_model_module": "@jupyter-widgets/controls",
            "_model_module_version": "1.5.0",
            "_model_name": "HBoxModel",
            "_view_count": null,
            "_view_module": "@jupyter-widgets/controls",
            "_view_module_version": "1.5.0",
            "_view_name": "HBoxView",
            "box_style": "",
            "children": [
              "IPY_MODEL_ec729ee7ba7c421fb8e012efc83ff415",
              "IPY_MODEL_102a223b03564a9688e27382dd39c3d2",
              "IPY_MODEL_f2d17fa3e95646498bfb0195629c5247"
            ],
            "layout": "IPY_MODEL_1d0dcea495eb4d7ba6a7264e64197327"
          }
        },
        "ec729ee7ba7c421fb8e012efc83ff415": {
          "model_module": "@jupyter-widgets/controls",
          "model_name": "HTMLModel",
          "model_module_version": "1.5.0",
          "state": {
            "_dom_classes": [],
            "_model_module": "@jupyter-widgets/controls",
            "_model_module_version": "1.5.0",
            "_model_name": "HTMLModel",
            "_view_count": null,
            "_view_module": "@jupyter-widgets/controls",
            "_view_module_version": "1.5.0",
            "_view_name": "HTMLView",
            "description": "",
            "description_tooltip": null,
            "layout": "IPY_MODEL_9bbf4916721a46bbb80d1232f3a10635",
            "placeholder": "​",
            "style": "IPY_MODEL_48ef1572ccfe47be9b4710127ce9d74d",
            "value": "Dl Completed...: 100%"
          }
        },
        "102a223b03564a9688e27382dd39c3d2": {
          "model_module": "@jupyter-widgets/controls",
          "model_name": "FloatProgressModel",
          "model_module_version": "1.5.0",
          "state": {
            "_dom_classes": [],
            "_model_module": "@jupyter-widgets/controls",
            "_model_module_version": "1.5.0",
            "_model_name": "FloatProgressModel",
            "_view_count": null,
            "_view_module": "@jupyter-widgets/controls",
            "_view_module_version": "1.5.0",
            "_view_name": "ProgressView",
            "bar_style": "success",
            "description": "",
            "description_tooltip": null,
            "layout": "IPY_MODEL_38a4e2cf918d4f3d83c647546414b459",
            "max": 5,
            "min": 0,
            "orientation": "horizontal",
            "style": "IPY_MODEL_9042ca40df234976bc152d2c0fb55890",
            "value": 5
          }
        },
        "f2d17fa3e95646498bfb0195629c5247": {
          "model_module": "@jupyter-widgets/controls",
          "model_name": "HTMLModel",
          "model_module_version": "1.5.0",
          "state": {
            "_dom_classes": [],
            "_model_module": "@jupyter-widgets/controls",
            "_model_module_version": "1.5.0",
            "_model_name": "HTMLModel",
            "_view_count": null,
            "_view_module": "@jupyter-widgets/controls",
            "_view_module_version": "1.5.0",
            "_view_name": "HTMLView",
            "description": "",
            "description_tooltip": null,
            "layout": "IPY_MODEL_8e1a74c33c93443a82ea0b0676b00ea3",
            "placeholder": "​",
            "style": "IPY_MODEL_2bfac3e67c784c19b386986e7a4e6268",
            "value": " 5/5 [00:05&lt;00:00,  1.14s/ file]"
          }
        },
        "1d0dcea495eb4d7ba6a7264e64197327": {
          "model_module": "@jupyter-widgets/base",
          "model_name": "LayoutModel",
          "model_module_version": "1.2.0",
          "state": {
            "_model_module": "@jupyter-widgets/base",
            "_model_module_version": "1.2.0",
            "_model_name": "LayoutModel",
            "_view_count": null,
            "_view_module": "@jupyter-widgets/base",
            "_view_module_version": "1.2.0",
            "_view_name": "LayoutView",
            "align_content": null,
            "align_items": null,
            "align_self": null,
            "border": null,
            "bottom": null,
            "display": null,
            "flex": null,
            "flex_flow": null,
            "grid_area": null,
            "grid_auto_columns": null,
            "grid_auto_flow": null,
            "grid_auto_rows": null,
            "grid_column": null,
            "grid_gap": null,
            "grid_row": null,
            "grid_template_areas": null,
            "grid_template_columns": null,
            "grid_template_rows": null,
            "height": null,
            "justify_content": null,
            "justify_items": null,
            "left": null,
            "margin": null,
            "max_height": null,
            "max_width": null,
            "min_height": null,
            "min_width": null,
            "object_fit": null,
            "object_position": null,
            "order": null,
            "overflow": null,
            "overflow_x": null,
            "overflow_y": null,
            "padding": null,
            "right": null,
            "top": null,
            "visibility": null,
            "width": null
          }
        },
        "9bbf4916721a46bbb80d1232f3a10635": {
          "model_module": "@jupyter-widgets/base",
          "model_name": "LayoutModel",
          "model_module_version": "1.2.0",
          "state": {
            "_model_module": "@jupyter-widgets/base",
            "_model_module_version": "1.2.0",
            "_model_name": "LayoutModel",
            "_view_count": null,
            "_view_module": "@jupyter-widgets/base",
            "_view_module_version": "1.2.0",
            "_view_name": "LayoutView",
            "align_content": null,
            "align_items": null,
            "align_self": null,
            "border": null,
            "bottom": null,
            "display": null,
            "flex": null,
            "flex_flow": null,
            "grid_area": null,
            "grid_auto_columns": null,
            "grid_auto_flow": null,
            "grid_auto_rows": null,
            "grid_column": null,
            "grid_gap": null,
            "grid_row": null,
            "grid_template_areas": null,
            "grid_template_columns": null,
            "grid_template_rows": null,
            "height": null,
            "justify_content": null,
            "justify_items": null,
            "left": null,
            "margin": null,
            "max_height": null,
            "max_width": null,
            "min_height": null,
            "min_width": null,
            "object_fit": null,
            "object_position": null,
            "order": null,
            "overflow": null,
            "overflow_x": null,
            "overflow_y": null,
            "padding": null,
            "right": null,
            "top": null,
            "visibility": null,
            "width": null
          }
        },
        "48ef1572ccfe47be9b4710127ce9d74d": {
          "model_module": "@jupyter-widgets/controls",
          "model_name": "DescriptionStyleModel",
          "model_module_version": "1.5.0",
          "state": {
            "_model_module": "@jupyter-widgets/controls",
            "_model_module_version": "1.5.0",
            "_model_name": "DescriptionStyleModel",
            "_view_count": null,
            "_view_module": "@jupyter-widgets/base",
            "_view_module_version": "1.2.0",
            "_view_name": "StyleView",
            "description_width": ""
          }
        },
        "38a4e2cf918d4f3d83c647546414b459": {
          "model_module": "@jupyter-widgets/base",
          "model_name": "LayoutModel",
          "model_module_version": "1.2.0",
          "state": {
            "_model_module": "@jupyter-widgets/base",
            "_model_module_version": "1.2.0",
            "_model_name": "LayoutModel",
            "_view_count": null,
            "_view_module": "@jupyter-widgets/base",
            "_view_module_version": "1.2.0",
            "_view_name": "LayoutView",
            "align_content": null,
            "align_items": null,
            "align_self": null,
            "border": null,
            "bottom": null,
            "display": null,
            "flex": null,
            "flex_flow": null,
            "grid_area": null,
            "grid_auto_columns": null,
            "grid_auto_flow": null,
            "grid_auto_rows": null,
            "grid_column": null,
            "grid_gap": null,
            "grid_row": null,
            "grid_template_areas": null,
            "grid_template_columns": null,
            "grid_template_rows": null,
            "height": null,
            "justify_content": null,
            "justify_items": null,
            "left": null,
            "margin": null,
            "max_height": null,
            "max_width": null,
            "min_height": null,
            "min_width": null,
            "object_fit": null,
            "object_position": null,
            "order": null,
            "overflow": null,
            "overflow_x": null,
            "overflow_y": null,
            "padding": null,
            "right": null,
            "top": null,
            "visibility": null,
            "width": null
          }
        },
        "9042ca40df234976bc152d2c0fb55890": {
          "model_module": "@jupyter-widgets/controls",
          "model_name": "ProgressStyleModel",
          "model_module_version": "1.5.0",
          "state": {
            "_model_module": "@jupyter-widgets/controls",
            "_model_module_version": "1.5.0",
            "_model_name": "ProgressStyleModel",
            "_view_count": null,
            "_view_module": "@jupyter-widgets/base",
            "_view_module_version": "1.2.0",
            "_view_name": "StyleView",
            "bar_color": null,
            "description_width": ""
          }
        },
        "8e1a74c33c93443a82ea0b0676b00ea3": {
          "model_module": "@jupyter-widgets/base",
          "model_name": "LayoutModel",
          "model_module_version": "1.2.0",
          "state": {
            "_model_module": "@jupyter-widgets/base",
            "_model_module_version": "1.2.0",
            "_model_name": "LayoutModel",
            "_view_count": null,
            "_view_module": "@jupyter-widgets/base",
            "_view_module_version": "1.2.0",
            "_view_name": "LayoutView",
            "align_content": null,
            "align_items": null,
            "align_self": null,
            "border": null,
            "bottom": null,
            "display": null,
            "flex": null,
            "flex_flow": null,
            "grid_area": null,
            "grid_auto_columns": null,
            "grid_auto_flow": null,
            "grid_auto_rows": null,
            "grid_column": null,
            "grid_gap": null,
            "grid_row": null,
            "grid_template_areas": null,
            "grid_template_columns": null,
            "grid_template_rows": null,
            "height": null,
            "justify_content": null,
            "justify_items": null,
            "left": null,
            "margin": null,
            "max_height": null,
            "max_width": null,
            "min_height": null,
            "min_width": null,
            "object_fit": null,
            "object_position": null,
            "order": null,
            "overflow": null,
            "overflow_x": null,
            "overflow_y": null,
            "padding": null,
            "right": null,
            "top": null,
            "visibility": null,
            "width": null
          }
        },
        "2bfac3e67c784c19b386986e7a4e6268": {
          "model_module": "@jupyter-widgets/controls",
          "model_name": "DescriptionStyleModel",
          "model_module_version": "1.5.0",
          "state": {
            "_model_module": "@jupyter-widgets/controls",
            "_model_module_version": "1.5.0",
            "_model_name": "DescriptionStyleModel",
            "_view_count": null,
            "_view_module": "@jupyter-widgets/base",
            "_view_module_version": "1.2.0",
            "_view_name": "StyleView",
            "description_width": ""
          }
        }
      }
    }
  },
  "nbformat": 4,
  "nbformat_minor": 0
}