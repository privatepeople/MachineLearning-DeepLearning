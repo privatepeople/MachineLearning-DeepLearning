{
  "cells": [
    {
      "cell_type": "markdown",
      "metadata": {
        "id": "9y222HgfM-OA"
      },
      "source": [
        "# 머신 러닝 교과서 3판"
      ]
    },
    {
      "cell_type": "markdown",
      "metadata": {
        "id": "-5SXCZX_M-OD"
      },
      "source": [
        "# 17장 - 새로운 데이터 합성을 위한 생성적 적대 신경망 (1/2)"
      ]
    },
    {
      "cell_type": "markdown",
      "metadata": {
        "id": "hx1MAB0FbouH"
      },
      "source": [
        "**아래 링크를 통해 이 노트북을 주피터 노트북 뷰어(nbviewer.jupyter.org)로 보거나 구글 코랩(colab.research.google.com)에서 실행할 수 있습니다.**\n",
        "\n",
        "<table class=\"tfo-notebook-buttons\" align=\"left\">\n",
        "  <td>\n",
        "    <a target=\"_blank\" href=\"https://nbviewer.org/github/rickiepark/python-machine-learning-book-3rd-edition/blob/master/ch17/ch17_part1.ipynb\"><img src=\"https://jupyter.org/assets/share.png\" width=\"60\" />주피터 노트북 뷰어로 보기</a>\n",
        "  </td>\n",
        "  <td>\n",
        "    <a target=\"_blank\" href=\"https://colab.research.google.com/github/rickiepark/python-machine-learning-book-3rd-edition/blob/master/ch17/ch17_part1.ipynb\"><img src=\"https://www.tensorflow.org/images/colab_logo_32px.png\" />구글 코랩(Colab)에서 실행하기</a>\n",
        "  </td>\n",
        "</table>"
      ]
    },
    {
      "cell_type": "markdown",
      "metadata": {
        "id": "4wzfKSEhbouH"
      },
      "source": [
        "### 목차"
      ]
    },
    {
      "cell_type": "markdown",
      "metadata": {
        "id": "1vc8_zr4bouH"
      },
      "source": [
        "- 생성적 적대 신경망 소개\n",
        "    - 오토인코더\n",
        "    - 새로운 데이터 합성을 위한 생성 모델\n",
        "    - GAN으로 새로운 샘플 생성하기\n",
        "    - GAN의 생성자와 판별자 손실 함수 이해하기\n",
        "- 밑바닥부터 GAN 모델 구현하기\n",
        "    - 구글 코랩에서 GAN 모델 훈련하기\n",
        "    - 생성자와 판별자 신경망 구현하기\n",
        "    - 훈련 데이터셋 정의하기\n",
        "    - GAN 모델 훈련하기"
      ]
    },
    {
      "cell_type": "code",
      "execution_count": 1,
      "metadata": {
        "id": "2AfJgihdM-OE"
      },
      "outputs": [],
      "source": [
        "from IPython.display import Image"
      ]
    },
    {
      "cell_type": "markdown",
      "metadata": {
        "id": "41bk3eM5M-OE"
      },
      "source": [
        "# 생성적 적대 신경망 소개\n",
        "\n",
        "## 오토인코더"
      ]
    },
    {
      "cell_type": "code",
      "execution_count": 2,
      "metadata": {
        "colab": {
          "base_uri": "https://localhost:8080/",
          "height": 471
        },
        "id": "phbH6zGQM-OE",
        "outputId": "d5b1da00-0247-4804-8e91-ff6e98021e09"
      },
      "outputs": [
        {
          "output_type": "execute_result",
          "data": {
            "text/html": [
              "<img src=\"https://git.io/JLAQ2\" width=\"500\"/>"
            ],
            "text/plain": [
              "<IPython.core.display.Image object>"
            ]
          },
          "metadata": {},
          "execution_count": 2
        }
      ],
      "source": [
        "Image(url='https://git.io/JLAQ2', width=500)"
      ]
    },
    {
      "cell_type": "markdown",
      "metadata": {
        "id": "Cuw0DGR2M-OF"
      },
      "source": [
        "## 새로운 데이터 합성을 위한 생성 모델"
      ]
    },
    {
      "cell_type": "code",
      "execution_count": 3,
      "metadata": {
        "colab": {
          "base_uri": "https://localhost:8080/",
          "height": 438
        },
        "id": "ziTpZ3G5M-OF",
        "outputId": "ed04f6ef-3583-4f8f-9b21-ca0cbb82d732"
      },
      "outputs": [
        {
          "output_type": "execute_result",
          "data": {
            "text/html": [
              "<img src=\"https://git.io/JLAQH\" width=\"700\"/>"
            ],
            "text/plain": [
              "<IPython.core.display.Image object>"
            ]
          },
          "metadata": {},
          "execution_count": 3
        }
      ],
      "source": [
        "Image(url='https://git.io/JLAQH', width=700)"
      ]
    },
    {
      "cell_type": "markdown",
      "metadata": {
        "id": "U1DsTJvLM-OF"
      },
      "source": [
        "## GAN으로 새로운 샘플 생성하기"
      ]
    },
    {
      "cell_type": "code",
      "execution_count": 4,
      "metadata": {
        "colab": {
          "base_uri": "https://localhost:8080/",
          "height": 338
        },
        "id": "2DijKimVM-OF",
        "outputId": "464dabe6-0665-484a-af2a-97b0395c9a66"
      },
      "outputs": [
        {
          "output_type": "execute_result",
          "data": {
            "text/html": [
              "<img src=\"https://git.io/JLAQ7\" width=\"700\"/>"
            ],
            "text/plain": [
              "<IPython.core.display.Image object>"
            ]
          },
          "metadata": {},
          "execution_count": 4
        }
      ],
      "source": [
        "Image(url='https://git.io/JLAQ7', width=700)"
      ]
    },
    {
      "cell_type": "markdown",
      "metadata": {
        "id": "iamOayQfM-OF"
      },
      "source": [
        "## GAN의 생성자와 판별자 손실 함수 이해하기"
      ]
    },
    {
      "cell_type": "code",
      "execution_count": 5,
      "metadata": {
        "colab": {
          "base_uri": "https://localhost:8080/",
          "height": 516
        },
        "id": "P0SEKNGpM-OG",
        "outputId": "1676837d-c866-41f3-9924-0325f1cfb8cb"
      },
      "outputs": [
        {
          "output_type": "execute_result",
          "data": {
            "text/html": [
              "<img src=\"https://git.io/JLAQF\" width=\"800\"/>"
            ],
            "text/plain": [
              "<IPython.core.display.Image object>"
            ]
          },
          "metadata": {},
          "execution_count": 5
        }
      ],
      "source": [
        "Image(url='https://git.io/JLAQF', width=800)"
      ]
    },
    {
      "cell_type": "markdown",
      "metadata": {
        "id": "mgleEEF1M-OG"
      },
      "source": [
        "# 밑바닥부터 GAN 모델 구현하기"
      ]
    },
    {
      "cell_type": "markdown",
      "metadata": {
        "id": "a1UBoKm_M-OG"
      },
      "source": [
        "## 구글 코랩에서 GAN 모델 훈련하기"
      ]
    },
    {
      "cell_type": "code",
      "execution_count": 6,
      "metadata": {
        "colab": {
          "base_uri": "https://localhost:8080/",
          "height": 508
        },
        "id": "sBdI0g22M-OG",
        "outputId": "7070c24d-01fa-453f-b5cb-15573512ceb1"
      },
      "outputs": [
        {
          "output_type": "execute_result",
          "data": {
            "text/html": [
              "<img src=\"https://git.io/JLAQb\" width=\"700\"/>"
            ],
            "text/plain": [
              "<IPython.core.display.Image object>"
            ]
          },
          "metadata": {},
          "execution_count": 6
        }
      ],
      "source": [
        "Image(url='https://git.io/JLAQb', width=700)"
      ]
    },
    {
      "cell_type": "code",
      "execution_count": 7,
      "metadata": {
        "colab": {
          "base_uri": "https://localhost:8080/",
          "height": 526
        },
        "id": "Mf0pXqraM-OH",
        "outputId": "d00e2d19-01a5-49ea-f029-4ce5c6395f10"
      },
      "outputs": [
        {
          "output_type": "execute_result",
          "data": {
            "text/html": [
              "<img src=\"https://git.io/JLAQN\" width=\"600\"/>"
            ],
            "text/plain": [
              "<IPython.core.display.Image object>"
            ]
          },
          "metadata": {},
          "execution_count": 7
        }
      ],
      "source": [
        "Image(url='https://git.io/JLAQN', width=600)"
      ]
    },
    {
      "cell_type": "code",
      "execution_count": 8,
      "metadata": {
        "colab": {
          "base_uri": "https://localhost:8080/",
          "height": 534
        },
        "id": "Nd67sNNIM-OH",
        "outputId": "eb4bc708-1646-4104-f4e6-5c1113a8b412"
      },
      "outputs": [
        {
          "output_type": "execute_result",
          "data": {
            "text/html": [
              "<img src=\"https://git.io/JLAQA\" width=\"600\"/>"
            ],
            "text/plain": [
              "<IPython.core.display.Image object>"
            ]
          },
          "metadata": {},
          "execution_count": 8
        }
      ],
      "source": [
        "Image(url='https://git.io/JLAQA', width=600)"
      ]
    },
    {
      "cell_type": "code",
      "execution_count": 9,
      "metadata": {
        "colab": {
          "base_uri": "https://localhost:8080/"
        },
        "id": "_khN3hi1xxQ-",
        "outputId": "d7c9ae45-b74d-42d7-d71e-545c082474b2"
      },
      "outputs": [
        {
          "output_type": "stream",
          "name": "stdout",
          "text": [
            "2.14.0\n",
            "GPU 여부: True\n",
            "/device:GPU:0\n"
          ]
        }
      ],
      "source": [
        "import tensorflow as tf\n",
        "print(tf.__version__)\n",
        "\n",
        "print(\"GPU 여부:\", len(tf.config.list_physical_devices('GPU')) > 0)\n",
        "\n",
        "if tf.config.list_physical_devices('GPU'):\n",
        "    device_name = tf.test.gpu_device_name()\n",
        "else:\n",
        "    device_name = 'cpu:0'\n",
        "\n",
        "print(device_name)"
      ]
    },
    {
      "cell_type": "code",
      "execution_count": 10,
      "metadata": {
        "colab": {
          "base_uri": "https://localhost:8080/"
        },
        "id": "ceNFHOHHNVwz",
        "outputId": "7dad837e-9aa0-4092-cf65-dc1a50cd3505"
      },
      "outputs": [
        {
          "output_type": "stream",
          "name": "stderr",
          "text": [
            "WARNING:tensorflow:From <ipython-input-10-b9c5066405f4>:1: get_memory_usage (from tensorflow.python.framework.config) is deprecated and will be removed in a future version.\n",
            "Instructions for updating:\n",
            "Use tf.config.experimental.get_memory_info(device)['current'] instead.\n"
          ]
        },
        {
          "output_type": "execute_result",
          "data": {
            "text/plain": [
              "0"
            ]
          },
          "metadata": {},
          "execution_count": 10
        }
      ],
      "source": [
        "tf.config.experimental.get_memory_usage('GPU:0')"
      ]
    },
    {
      "cell_type": "code",
      "execution_count": 11,
      "metadata": {
        "colab": {
          "base_uri": "https://localhost:8080/"
        },
        "id": "5sNcfuwHPQMs",
        "outputId": "eccafefa-7b91-40e8-ebed-d15cf4d9e3c2"
      },
      "outputs": [
        {
          "output_type": "stream",
          "name": "stdout",
          "text": [
            "Sat Nov 11 01:34:19 2023       \n",
            "+-----------------------------------------------------------------------------+\n",
            "| NVIDIA-SMI 525.105.17   Driver Version: 525.105.17   CUDA Version: 12.0     |\n",
            "|-------------------------------+----------------------+----------------------+\n",
            "| GPU  Name        Persistence-M| Bus-Id        Disp.A | Volatile Uncorr. ECC |\n",
            "| Fan  Temp  Perf  Pwr:Usage/Cap|         Memory-Usage | GPU-Util  Compute M. |\n",
            "|                               |                      |               MIG M. |\n",
            "|===============================+======================+======================|\n",
            "|   0  NVIDIA A100-SXM...  Off  | 00000000:00:04.0 Off |                    0 |\n",
            "| N/A   32C    P0    49W / 400W |    627MiB / 40960MiB |      1%      Default |\n",
            "|                               |                      |             Disabled |\n",
            "+-------------------------------+----------------------+----------------------+\n",
            "                                                                               \n",
            "+-----------------------------------------------------------------------------+\n",
            "| Processes:                                                                  |\n",
            "|  GPU   GI   CI        PID   Type   Process name                  GPU Memory |\n",
            "|        ID   ID                                                   Usage      |\n",
            "|=============================================================================|\n",
            "+-----------------------------------------------------------------------------+\n"
          ]
        }
      ],
      "source": [
        "!nvidia-smi"
      ]
    },
    {
      "cell_type": "code",
      "execution_count": 12,
      "metadata": {
        "colab": {
          "base_uri": "https://localhost:8080/"
        },
        "id": "4_yH3L4wTOLb",
        "outputId": "f295b2c7-1774-443f-fa5f-60001fc3b7d5"
      },
      "outputs": [
        {
          "output_type": "stream",
          "name": "stdout",
          "text": [
            "No LSB modules are available.\n",
            "Distributor ID:\tUbuntu\n",
            "Description:\tUbuntu 22.04.2 LTS\n",
            "Release:\t22.04\n",
            "Codename:\tjammy\n"
          ]
        }
      ],
      "source": [
        "!lsb_release -a"
      ]
    },
    {
      "cell_type": "code",
      "execution_count": 13,
      "metadata": {
        "id": "ehoy80rqwNnl"
      },
      "outputs": [],
      "source": [
        "#from google.colab import drive\n",
        "#drive.mount('/content/drive/')"
      ]
    },
    {
      "cell_type": "markdown",
      "metadata": {
        "id": "jHHcQfM2M-OI"
      },
      "source": [
        "## 생성자와 판별자 신경망 구현하기"
      ]
    },
    {
      "cell_type": "code",
      "execution_count": 14,
      "metadata": {
        "colab": {
          "base_uri": "https://localhost:8080/",
          "height": 474
        },
        "id": "ig_rZtXqM-OI",
        "outputId": "0c4fb239-941b-4290-d0f0-a24dda6214f1"
      },
      "outputs": [
        {
          "output_type": "execute_result",
          "data": {
            "text/html": [
              "<img src=\"https://git.io/JLAQp\" width=\"600\"/>"
            ],
            "text/plain": [
              "<IPython.core.display.Image object>"
            ]
          },
          "metadata": {},
          "execution_count": 14
        }
      ],
      "source": [
        "Image(url='https://git.io/JLAQp', width=600)"
      ]
    },
    {
      "cell_type": "code",
      "execution_count": 15,
      "metadata": {
        "colab": {
          "base_uri": "https://localhost:8080/",
          "height": 360
        },
        "id": "uc4FQzczM-OJ",
        "outputId": "d0dc1c80-8658-4250-e0e1-74de6cd2b9ee"
      },
      "outputs": [
        {
          "output_type": "execute_result",
          "data": {
            "text/html": [
              "<img src=\"https://git.io/JLAQh\" width=\"600\"/>"
            ],
            "text/plain": [
              "<IPython.core.display.Image object>"
            ]
          },
          "metadata": {},
          "execution_count": 15
        }
      ],
      "source": [
        "Image(url='https://git.io/JLAQh', width=600)"
      ]
    },
    {
      "cell_type": "code",
      "execution_count": 16,
      "metadata": {
        "id": "FRh8E66HwXRL"
      },
      "outputs": [],
      "source": [
        "import tensorflow as tf\n",
        "import tensorflow_datasets as tfds\n",
        "import numpy as np\n",
        "import matplotlib.pyplot as plt"
      ]
    },
    {
      "cell_type": "code",
      "execution_count": 17,
      "metadata": {
        "id": "tOL56FmXwoL-"
      },
      "outputs": [],
      "source": [
        "## 생성자 함수를 정의합니다:\n",
        "def make_generator_network(\n",
        "        num_hidden_layers=1,\n",
        "        num_hidden_units=100,\n",
        "        num_output_units=784):\n",
        "    model = tf.keras.Sequential()\n",
        "    for i in range(num_hidden_layers):\n",
        "        model.add(\n",
        "            tf.keras.layers.Dense(\n",
        "                units=num_hidden_units,\n",
        "                use_bias=False)\n",
        "            )\n",
        "        model.add(tf.keras.layers.LeakyReLU())\n",
        "\n",
        "    model.add(tf.keras.layers.Dense(\n",
        "        units=num_output_units, activation='tanh'))\n",
        "    return model\n",
        "\n",
        "## 판별자 함수를 정의합니다:\n",
        "def make_discriminator_network(\n",
        "        num_hidden_layers=1,\n",
        "        num_hidden_units=100,\n",
        "        num_output_units=1):\n",
        "    model = tf.keras.Sequential()\n",
        "    for i in range(num_hidden_layers):\n",
        "        model.add(tf.keras.layers.Dense(units=num_hidden_units))\n",
        "        model.add(tf.keras.layers.LeakyReLU())\n",
        "        model.add(tf.keras.layers.Dropout(rate=0.5))\n",
        "\n",
        "    model.add(\n",
        "        tf.keras.layers.Dense(\n",
        "            units=num_output_units,\n",
        "            activation=None)\n",
        "        )\n",
        "    return model"
      ]
    },
    {
      "cell_type": "code",
      "execution_count": 18,
      "metadata": {
        "colab": {
          "base_uri": "https://localhost:8080/"
        },
        "id": "9Z4JQb9MxD5p",
        "outputId": "523b360d-2016-4ea2-d258-e5721fa5307e"
      },
      "outputs": [
        {
          "output_type": "stream",
          "name": "stdout",
          "text": [
            "Model: \"sequential\"\n",
            "_________________________________________________________________\n",
            " Layer (type)                Output Shape              Param #   \n",
            "=================================================================\n",
            " dense (Dense)               (None, 100)               2000      \n",
            "                                                                 \n",
            " leaky_re_lu (LeakyReLU)     (None, 100)               0         \n",
            "                                                                 \n",
            " dense_1 (Dense)             (None, 784)               79184     \n",
            "                                                                 \n",
            "=================================================================\n",
            "Total params: 81184 (317.12 KB)\n",
            "Trainable params: 81184 (317.12 KB)\n",
            "Non-trainable params: 0 (0.00 Byte)\n",
            "_________________________________________________________________\n"
          ]
        }
      ],
      "source": [
        "image_size = (28, 28)\n",
        "z_size = 20\n",
        "mode_z = 'uniform'  # 'uniform' vs. 'normal'\n",
        "gen_hidden_layers = 1\n",
        "gen_hidden_size = 100\n",
        "disc_hidden_layers = 1\n",
        "disc_hidden_size = 100\n",
        "\n",
        "tf.random.set_seed(1)\n",
        "\n",
        "gen_model = make_generator_network(\n",
        "    num_hidden_layers=gen_hidden_layers,\n",
        "    num_hidden_units=gen_hidden_size,\n",
        "    num_output_units=np.prod(image_size))\n",
        "\n",
        "gen_model.build(input_shape=(None, z_size))\n",
        "gen_model.summary()"
      ]
    },
    {
      "cell_type": "code",
      "execution_count": 19,
      "metadata": {
        "colab": {
          "base_uri": "https://localhost:8080/"
        },
        "id": "QAhbOUZHxN1b",
        "outputId": "bcdd325d-802e-4bdf-9d5a-271c3d6aae6b"
      },
      "outputs": [
        {
          "output_type": "stream",
          "name": "stdout",
          "text": [
            "Model: \"sequential_1\"\n",
            "_________________________________________________________________\n",
            " Layer (type)                Output Shape              Param #   \n",
            "=================================================================\n",
            " dense_2 (Dense)             (None, 100)               78500     \n",
            "                                                                 \n",
            " leaky_re_lu_1 (LeakyReLU)   (None, 100)               0         \n",
            "                                                                 \n",
            " dropout (Dropout)           (None, 100)               0         \n",
            "                                                                 \n",
            " dense_3 (Dense)             (None, 1)                 101       \n",
            "                                                                 \n",
            "=================================================================\n",
            "Total params: 78601 (307.04 KB)\n",
            "Trainable params: 78601 (307.04 KB)\n",
            "Non-trainable params: 0 (0.00 Byte)\n",
            "_________________________________________________________________\n"
          ]
        }
      ],
      "source": [
        "disc_model = make_discriminator_network(\n",
        "    num_hidden_layers=disc_hidden_layers,\n",
        "    num_hidden_units=disc_hidden_size)\n",
        "\n",
        "disc_model.build(input_shape=(None, np.prod(image_size)))\n",
        "disc_model.summary()"
      ]
    },
    {
      "cell_type": "markdown",
      "metadata": {
        "id": "edHUQPQxM-OK"
      },
      "source": [
        "## 훈련 데이터셋 정의하기"
      ]
    },
    {
      "cell_type": "code",
      "execution_count": 20,
      "metadata": {
        "colab": {
          "base_uri": "https://localhost:8080/",
          "height": 156,
          "referenced_widgets": [
            "7c09dda7eeb241508cb2cd6592fcf80c",
            "4031a96ff1774e8bbe71a02da617faf1",
            "70173d794bf14346a57eb8224a198e34",
            "eadf9fcc81ce4955a0ffc627ed3969b2",
            "6b94e9c7a4fd4993b1f8c91a216da696",
            "0c1ac0f5831c4fb7b5d300a831cb53c6",
            "23af028da94e47539c7ec6268869fa3f",
            "7321144c23ca4587afd927a717dc2483",
            "63ce20e955e6458196a771f56bd66163",
            "074e16370b554088884fc89a4c265a04",
            "06e14526222044b08b6468f1bcc0a401"
          ]
        },
        "id": "ApQ1ICJixf2w",
        "outputId": "e6a2d6e4-8a80-478e-dd6c-6de7c3f3427c"
      },
      "outputs": [
        {
          "output_type": "stream",
          "name": "stdout",
          "text": [
            "Downloading and preparing dataset 11.06 MiB (download: 11.06 MiB, generated: 21.00 MiB, total: 32.06 MiB) to /root/tensorflow_datasets/mnist/3.0.1...\n"
          ]
        },
        {
          "output_type": "display_data",
          "data": {
            "text/plain": [
              "Dl Completed...:   0%|          | 0/5 [00:00<?, ? file/s]"
            ],
            "application/vnd.jupyter.widget-view+json": {
              "version_major": 2,
              "version_minor": 0,
              "model_id": "7c09dda7eeb241508cb2cd6592fcf80c"
            }
          },
          "metadata": {}
        },
        {
          "output_type": "stream",
          "name": "stdout",
          "text": [
            "Dataset mnist downloaded and prepared to /root/tensorflow_datasets/mnist/3.0.1. Subsequent calls will reuse this data.\n",
            "전처리 전:  \n",
            "dtype:  <dtype: 'uint8'>  최소: 0 최대: 255\n",
            "전처리 후:  \n",
            "dtype:  <dtype: 'float32'>  최소: -0.8737728595733643 최대: 0.9460210800170898\n"
          ]
        }
      ],
      "source": [
        "mnist_bldr = tfds.builder('mnist')\n",
        "mnist_bldr.download_and_prepare()\n",
        "mnist = mnist_bldr.as_dataset(shuffle_files=False)\n",
        "\n",
        "def preprocess(ex, mode='uniform'):\n",
        "    image = ex['image']\n",
        "    image = tf.image.convert_image_dtype(image, tf.float32)\n",
        "    image = tf.reshape(image, [-1])\n",
        "    image = image*2 - 1.0\n",
        "    if mode == 'uniform':\n",
        "        input_z = tf.random.uniform(\n",
        "            shape=(z_size,), minval=-1.0, maxval=1.0)\n",
        "    elif mode == 'normal':\n",
        "        input_z = tf.random.normal(shape=(z_size,))\n",
        "    return input_z, image\n",
        "\n",
        "\n",
        "\n",
        "mnist_trainset = mnist['train']\n",
        "\n",
        "print('전처리 전:  ')\n",
        "example = next(iter(mnist_trainset))['image']\n",
        "print('dtype: ', example.dtype, ' 최소: {} 최대: {}'.format(np.min(example), np.max(example)))\n",
        "\n",
        "mnist_trainset = mnist_trainset.map(preprocess)\n",
        "\n",
        "print('전처리 후:  ')\n",
        "example = next(iter(mnist_trainset))[0]\n",
        "print('dtype: ', example.dtype, ' 최소: {} 최대: {}'.format(np.min(example), np.max(example)))"
      ]
    },
    {
      "cell_type": "markdown",
      "metadata": {
        "id": "HT57CGAz0RDr"
      },
      "source": [
        " * **데이터 흐름을 단계별로 밟아보기**"
      ]
    },
    {
      "cell_type": "code",
      "execution_count": 21,
      "metadata": {
        "colab": {
          "base_uri": "https://localhost:8080/"
        },
        "id": "kdAXXUtryFGs",
        "outputId": "b1cd6041-4e8c-4cfc-bed6-489da17bf3cb"
      },
      "outputs": [
        {
          "output_type": "stream",
          "name": "stdout",
          "text": [
            "input-z -- 크기: (32, 20)\n",
            "input-real -- 크기: (32, 784)\n",
            "생성자 출력 -- 크기: (32, 784)\n",
            "판별자 (진짜) -- 크기: (32, 1)\n",
            "판별자 (가짜) -- 크기: (32, 1)\n"
          ]
        }
      ],
      "source": [
        "mnist_trainset = mnist_trainset.batch(32, drop_remainder=True)\n",
        "input_z, input_real = next(iter(mnist_trainset))\n",
        "print('input-z -- 크기:', input_z.shape)\n",
        "print('input-real -- 크기:', input_real.shape)\n",
        "\n",
        "g_output = gen_model(input_z)\n",
        "print('생성자 출력 -- 크기:', g_output.shape)\n",
        "\n",
        "d_logits_real = disc_model(input_real)\n",
        "d_logits_fake = disc_model(g_output)\n",
        "print('판별자 (진짜) -- 크기:', d_logits_real.shape)\n",
        "print('판별자 (가짜) -- 크기:', d_logits_fake.shape)"
      ]
    },
    {
      "cell_type": "markdown",
      "metadata": {
        "id": "Nb2H-Ac3M-OK"
      },
      "source": [
        "## GAN 모델 훈련하기"
      ]
    },
    {
      "cell_type": "code",
      "execution_count": 22,
      "metadata": {
        "colab": {
          "base_uri": "https://localhost:8080/"
        },
        "id": "-c9xVvjJySZk",
        "outputId": "374d9387-1b4d-47ea-a261-2dd9913654f3"
      },
      "outputs": [
        {
          "output_type": "stream",
          "name": "stdout",
          "text": [
            "생성자 손실: 0.6984\n",
            "판별자 손실: 진짜 0.2477 가짜 0.6916\n"
          ]
        }
      ],
      "source": [
        "loss_fn = tf.keras.losses.BinaryCrossentropy(from_logits=True)\n",
        "\n",
        "## 생성자 손실\n",
        "g_labels_real = tf.ones_like(d_logits_fake)\n",
        "g_loss = loss_fn(y_true=g_labels_real, y_pred=d_logits_fake)\n",
        "print('생성자 손실: {:.4f}'.format(g_loss))\n",
        "\n",
        "## 판별자 손실\n",
        "d_labels_real = tf.ones_like(d_logits_real)\n",
        "d_labels_fake = tf.zeros_like(d_logits_fake)\n",
        "\n",
        "d_loss_real = loss_fn(y_true=d_labels_real, y_pred=d_logits_real)\n",
        "d_loss_fake = loss_fn(y_true=d_labels_fake, y_pred=d_logits_fake)\n",
        "print('판별자 손실: 진짜 {:.4f} 가짜 {:.4f}'\n",
        "      .format(d_loss_real.numpy(), d_loss_fake.numpy()))"
      ]
    },
    {
      "cell_type": "markdown",
      "metadata": {
        "id": "jtxdTVyF0KCF"
      },
      "source": [
        " * **최종 훈련**"
      ]
    },
    {
      "cell_type": "code",
      "execution_count": 23,
      "metadata": {
        "colab": {
          "base_uri": "https://localhost:8080/"
        },
        "id": "yeFKLGNfAF5J",
        "outputId": "882a1558-4b11-4605-a277-bd06fc4ca6d8"
      },
      "outputs": [
        {
          "output_type": "stream",
          "name": "stderr",
          "text": [
            "WARNING:tensorflow:5 out of the last 5 calls to <function _BaseOptimizer._update_step_xla at 0x79fddd1cbbe0> triggered tf.function retracing. Tracing is expensive and the excessive number of tracings could be due to (1) creating @tf.function repeatedly in a loop, (2) passing tensors with different shapes, (3) passing Python objects instead of tensors. For (1), please define your @tf.function outside of the loop. For (2), @tf.function has reduce_retracing=True option that can avoid unnecessary retracing. For (3), please refer to https://www.tensorflow.org/guide/function#controlling_retracing and https://www.tensorflow.org/api_docs/python/tf/function for  more details.\n",
            "WARNING:tensorflow:6 out of the last 6 calls to <function _BaseOptimizer._update_step_xla at 0x79fddd1cbbe0> triggered tf.function retracing. Tracing is expensive and the excessive number of tracings could be due to (1) creating @tf.function repeatedly in a loop, (2) passing tensors with different shapes, (3) passing Python objects instead of tensors. For (1), please define your @tf.function outside of the loop. For (2), @tf.function has reduce_retracing=True option that can avoid unnecessary retracing. For (3), please refer to https://www.tensorflow.org/guide/function#controlling_retracing and https://www.tensorflow.org/api_docs/python/tf/function for  more details.\n"
          ]
        },
        {
          "output_type": "stream",
          "name": "stdout",
          "text": [
            "에포크 001 | 시간 0.72 min | 평균 손실 >> 생성자/판별자 2.9682/0.2987 [판별자-진짜: 0.0330 판별자-가짜: 0.2658]\n",
            "에포크 002 | 시간 1.39 min | 평균 손실 >> 생성자/판별자 4.9700/0.3043 [판별자-진짜: 0.0969 판별자-가짜: 0.2074]\n",
            "에포크 003 | 시간 2.05 min | 평균 손실 >> 생성자/판별자 3.7117/0.6227 [판별자-진짜: 0.2698 판별자-가짜: 0.3529]\n",
            "에포크 004 | 시간 2.72 min | 평균 손실 >> 생성자/판별자 2.1959/0.8859 [판별자-진짜: 0.4327 판별자-가짜: 0.4532]\n",
            "에포크 005 | 시간 3.38 min | 평균 손실 >> 생성자/판별자 2.2290/0.7819 [판별자-진짜: 0.4272 판별자-가짜: 0.3548]\n",
            "에포크 006 | 시간 4.05 min | 평균 손실 >> 생성자/판별자 1.6863/0.9263 [판별자-진짜: 0.5147 판별자-가짜: 0.4116]\n",
            "에포크 007 | 시간 4.71 min | 평균 손실 >> 생성자/판별자 1.7057/0.9675 [판별자-진짜: 0.5167 판별자-가짜: 0.4508]\n",
            "에포크 008 | 시간 5.37 min | 평균 손실 >> 생성자/판별자 1.4655/1.0108 [판별자-진짜: 0.5518 판별자-가짜: 0.4590]\n",
            "에포크 009 | 시간 6.04 min | 평균 손실 >> 생성자/판별자 1.5040/0.9920 [판별자-진짜: 0.5426 판별자-가짜: 0.4494]\n",
            "에포크 010 | 시간 6.71 min | 평균 손실 >> 생성자/판별자 1.4708/0.9936 [판별자-진짜: 0.5464 판별자-가짜: 0.4471]\n",
            "에포크 011 | 시간 7.38 min | 평균 손실 >> 생성자/판별자 1.4586/1.0476 [판별자-진짜: 0.5591 판별자-가짜: 0.4885]\n",
            "에포크 012 | 시간 8.05 min | 평균 손실 >> 생성자/판별자 1.2618/1.0958 [판별자-진짜: 0.5840 판별자-가짜: 0.5118]\n",
            "에포크 013 | 시간 8.71 min | 평균 손실 >> 생성자/판별자 1.3207/1.1025 [판별자-진짜: 0.5822 판별자-가짜: 0.5203]\n",
            "에포크 014 | 시간 9.37 min | 평균 손실 >> 생성자/판별자 1.2535/1.1556 [판별자-진짜: 0.5972 판별자-가짜: 0.5584]\n",
            "에포크 015 | 시간 10.04 min | 평균 손실 >> 생성자/판별자 1.1510/1.1871 [판별자-진짜: 0.6151 판별자-가짜: 0.5721]\n",
            "에포크 016 | 시간 10.71 min | 평균 손실 >> 생성자/판별자 1.0960/1.2090 [판별자-진짜: 0.6248 판별자-가짜: 0.5842]\n",
            "에포크 017 | 시간 11.37 min | 평균 손실 >> 생성자/판별자 1.2611/1.1628 [판별자-진짜: 0.5985 판별자-가짜: 0.5644]\n",
            "에포크 018 | 시간 12.04 min | 평균 손실 >> 생성자/판별자 1.0957/1.2118 [판별자-진짜: 0.6239 판별자-가짜: 0.5879]\n",
            "에포크 019 | 시간 12.70 min | 평균 손실 >> 생성자/판별자 1.1300/1.1819 [판별자-진짜: 0.6089 판별자-가짜: 0.5730]\n",
            "에포크 020 | 시간 13.37 min | 평균 손실 >> 생성자/판별자 1.1829/1.1976 [판별자-진짜: 0.6099 판별자-가짜: 0.5877]\n",
            "에포크 021 | 시간 14.04 min | 평균 손실 >> 생성자/판별자 1.1001/1.2283 [판별자-진짜: 0.6267 판별자-가짜: 0.6016]\n",
            "에포크 022 | 시간 14.71 min | 평균 손실 >> 생성자/판별자 1.0800/1.2179 [판별자-진짜: 0.6228 판별자-가짜: 0.5952]\n",
            "에포크 023 | 시간 15.39 min | 평균 손실 >> 생성자/판별자 1.1102/1.2162 [판별자-진짜: 0.6203 판별자-가짜: 0.5960]\n",
            "에포크 024 | 시간 16.05 min | 평균 손실 >> 생성자/판별자 1.0613/1.2296 [판별자-진짜: 0.6253 판별자-가짜: 0.6043]\n",
            "에포크 025 | 시간 16.72 min | 평균 손실 >> 생성자/판별자 1.0747/1.2356 [판별자-진짜: 0.6281 판별자-가짜: 0.6075]\n",
            "에포크 026 | 시간 17.39 min | 평균 손실 >> 생성자/판별자 1.1006/1.2295 [판별자-진짜: 0.6225 판별자-가짜: 0.6070]\n",
            "에포크 027 | 시간 18.06 min | 평균 손실 >> 생성자/판별자 1.0458/1.2295 [판별자-진짜: 0.6270 판별자-가짜: 0.6025]\n",
            "에포크 028 | 시간 18.73 min | 평균 손실 >> 생성자/판별자 1.0213/1.2526 [판별자-진짜: 0.6363 판별자-가짜: 0.6163]\n",
            "에포크 029 | 시간 19.40 min | 평균 손실 >> 생성자/판별자 1.0016/1.2773 [판별자-진짜: 0.6415 판별자-가짜: 0.6357]\n",
            "에포크 030 | 시간 20.06 min | 평균 손실 >> 생성자/판별자 0.9722/1.2945 [판별자-진짜: 0.6516 판별자-가짜: 0.6429]\n",
            "에포크 031 | 시간 20.73 min | 평균 손실 >> 생성자/판별자 0.9942/1.2642 [판별자-진짜: 0.6401 판별자-가짜: 0.6242]\n",
            "에포크 032 | 시간 21.39 min | 평균 손실 >> 생성자/판별자 1.0377/1.2560 [판별자-진짜: 0.6335 판별자-가짜: 0.6225]\n",
            "에포크 033 | 시간 22.06 min | 평균 손실 >> 생성자/판별자 0.9786/1.2734 [판별자-진짜: 0.6439 판별자-가짜: 0.6295]\n",
            "에포크 034 | 시간 22.72 min | 평균 손실 >> 생성자/판별자 0.9801/1.2733 [판별자-진짜: 0.6426 판별자-가짜: 0.6307]\n",
            "에포크 035 | 시간 23.39 min | 평균 손실 >> 생성자/판별자 0.9964/1.2705 [판별자-진짜: 0.6423 판별자-가짜: 0.6282]\n",
            "에포크 036 | 시간 24.05 min | 평균 손실 >> 생성자/판별자 1.0205/1.2722 [판별자-진짜: 0.6366 판별자-가짜: 0.6356]\n",
            "에포크 037 | 시간 24.72 min | 평균 손실 >> 생성자/판별자 0.9517/1.2897 [판별자-진짜: 0.6497 판별자-가짜: 0.6400]\n",
            "에포크 038 | 시간 25.38 min | 평균 손실 >> 생성자/판별자 0.9446/1.3009 [판별자-진짜: 0.6549 판별자-가짜: 0.6460]\n",
            "에포크 039 | 시간 26.05 min | 평균 손실 >> 생성자/판별자 1.0219/1.2726 [판별자-진짜: 0.6393 판별자-가짜: 0.6334]\n",
            "에포크 040 | 시간 26.71 min | 평균 손실 >> 생성자/판별자 0.9654/1.2797 [판별자-진짜: 0.6439 판별자-가짜: 0.6359]\n",
            "에포크 041 | 시간 27.38 min | 평균 손실 >> 생성자/판별자 0.9571/1.2818 [판별자-진짜: 0.6456 판별자-가짜: 0.6362]\n",
            "에포크 042 | 시간 28.04 min | 평균 손실 >> 생성자/판별자 0.9663/1.2874 [판별자-진짜: 0.6461 판별자-가짜: 0.6414]\n",
            "에포크 043 | 시간 28.71 min | 평균 손실 >> 생성자/판별자 1.0119/1.2833 [판별자-진짜: 0.6457 판별자-가짜: 0.6376]\n",
            "에포크 044 | 시간 29.38 min | 평균 손실 >> 생성자/판별자 0.9797/1.2826 [판별자-진짜: 0.6471 판별자-가짜: 0.6355]\n",
            "에포크 045 | 시간 30.04 min | 평균 손실 >> 생성자/판별자 0.9551/1.2850 [판별자-진짜: 0.6474 판별자-가짜: 0.6375]\n",
            "에포크 046 | 시간 30.71 min | 평균 손실 >> 생성자/판별자 0.9485/1.3029 [판별자-진짜: 0.6521 판별자-가짜: 0.6508]\n",
            "에포크 047 | 시간 31.38 min | 평균 손실 >> 생성자/판별자 0.9814/1.2957 [판별자-진짜: 0.6482 판별자-가짜: 0.6475]\n",
            "에포크 048 | 시간 32.04 min | 평균 손실 >> 생성자/판별자 0.9731/1.2807 [판별자-진짜: 0.6466 판별자-가짜: 0.6341]\n",
            "에포크 049 | 시간 32.71 min | 평균 손실 >> 생성자/판별자 0.9403/1.2871 [판별자-진짜: 0.6473 판별자-가짜: 0.6398]\n",
            "에포크 050 | 시간 33.38 min | 평균 손실 >> 생성자/판별자 0.9500/1.3004 [판별자-진짜: 0.6519 판별자-가짜: 0.6485]\n",
            "에포크 051 | 시간 34.05 min | 평균 손실 >> 생성자/판별자 0.9708/1.2962 [판별자-진짜: 0.6507 판별자-가짜: 0.6455]\n",
            "에포크 052 | 시간 34.71 min | 평균 손실 >> 생성자/판별자 0.9720/1.2942 [판별자-진짜: 0.6500 판별자-가짜: 0.6442]\n",
            "에포크 053 | 시간 35.38 min | 평균 손실 >> 생성자/판별자 0.9284/1.2902 [판별자-진짜: 0.6495 판별자-가짜: 0.6407]\n",
            "에포크 054 | 시간 36.04 min | 평균 손실 >> 생성자/판별자 0.9052/1.3117 [판별자-진짜: 0.6579 판별자-가짜: 0.6538]\n",
            "에포크 055 | 시간 36.70 min | 평균 손실 >> 생성자/판별자 0.9440/1.3121 [판별자-진짜: 0.6572 판별자-가짜: 0.6549]\n",
            "에포크 056 | 시간 37.37 min | 평균 손실 >> 생성자/판별자 0.9472/1.3049 [판별자-진짜: 0.6539 판별자-가짜: 0.6510]\n",
            "에포크 057 | 시간 38.04 min | 평균 손실 >> 생성자/판별자 0.9292/1.3026 [판별자-진짜: 0.6556 판별자-가짜: 0.6471]\n",
            "에포크 058 | 시간 38.71 min | 평균 손실 >> 생성자/판별자 0.9418/1.3132 [판별자-진짜: 0.6584 판별자-가짜: 0.6548]\n",
            "에포크 059 | 시간 39.37 min | 평균 손실 >> 생성자/판별자 0.9499/1.2961 [판별자-진짜: 0.6510 판별자-가짜: 0.6451]\n",
            "에포크 060 | 시간 40.04 min | 평균 손실 >> 생성자/판별자 0.9483/1.3055 [판별자-진짜: 0.6545 판별자-가짜: 0.6509]\n",
            "에포크 061 | 시간 40.71 min | 평균 손실 >> 생성자/판별자 0.9042/1.3180 [판별자-진짜: 0.6598 판별자-가짜: 0.6582]\n",
            "에포크 062 | 시간 41.38 min | 평균 손실 >> 생성자/판별자 0.9129/1.3102 [판별자-진짜: 0.6591 판별자-가짜: 0.6511]\n",
            "에포크 063 | 시간 42.04 min | 평균 손실 >> 생성자/판별자 0.9112/1.3132 [판별자-진짜: 0.6583 판별자-가짜: 0.6549]\n",
            "에포크 064 | 시간 42.71 min | 평균 손실 >> 생성자/판별자 0.9533/1.3041 [판별자-진짜: 0.6540 판별자-가짜: 0.6500]\n",
            "에포크 065 | 시간 43.37 min | 평균 손실 >> 생성자/판별자 0.9316/1.2983 [판별자-진짜: 0.6519 판별자-가짜: 0.6463]\n",
            "에포크 066 | 시간 44.03 min | 평균 손실 >> 생성자/판별자 0.9133/1.3127 [판별자-진짜: 0.6599 판별자-가짜: 0.6529]\n",
            "에포크 067 | 시간 44.69 min | 평균 손실 >> 생성자/판별자 0.9513/1.3086 [판별자-진짜: 0.6563 판별자-가짜: 0.6523]\n",
            "에포크 068 | 시간 45.36 min | 평균 손실 >> 생성자/판별자 0.9390/1.3004 [판별자-진짜: 0.6516 판별자-가짜: 0.6488]\n",
            "에포크 069 | 시간 46.02 min | 평균 손실 >> 생성자/판별자 0.8923/1.3192 [판별자-진짜: 0.6617 판별자-가짜: 0.6574]\n",
            "에포크 070 | 시간 46.69 min | 평균 손실 >> 생성자/판별자 0.9945/1.2940 [판별자-진짜: 0.6478 판별자-가짜: 0.6462]\n",
            "에포크 071 | 시간 47.35 min | 평균 손실 >> 생성자/판별자 0.9231/1.3035 [판별자-진짜: 0.6546 판별자-가짜: 0.6489]\n",
            "에포크 072 | 시간 48.02 min | 평균 손실 >> 생성자/판별자 0.8941/1.3198 [판별자-진짜: 0.6623 판별자-가짜: 0.6575]\n",
            "에포크 073 | 시간 48.69 min | 평균 손실 >> 생성자/판별자 0.9696/1.2985 [판별자-진짜: 0.6513 판별자-가짜: 0.6472]\n",
            "에포크 074 | 시간 49.35 min | 평균 손실 >> 생성자/판별자 0.9070/1.3158 [판별자-진짜: 0.6595 판별자-가짜: 0.6563]\n",
            "에포크 075 | 시간 50.02 min | 평균 손실 >> 생성자/판별자 0.9233/1.3115 [판별자-진짜: 0.6577 판별자-가짜: 0.6538]\n",
            "에포크 076 | 시간 50.69 min | 평균 손실 >> 생성자/판별자 0.9441/1.2990 [판별자-진짜: 0.6518 판별자-가짜: 0.6472]\n",
            "에포크 077 | 시간 51.35 min | 평균 손실 >> 생성자/판별자 0.8913/1.3201 [판별자-진짜: 0.6647 판별자-가짜: 0.6554]\n",
            "에포크 078 | 시간 52.01 min | 평균 손실 >> 생성자/판별자 0.9400/1.3134 [판별자-진짜: 0.6584 판별자-가짜: 0.6551]\n",
            "에포크 079 | 시간 52.68 min | 평균 손실 >> 생성자/판별자 0.9224/1.3160 [판별자-진짜: 0.6599 판별자-가짜: 0.6561]\n",
            "에포크 080 | 시간 53.34 min | 평균 손실 >> 생성자/판별자 0.9180/1.3117 [판별자-진짜: 0.6595 판별자-가짜: 0.6521]\n",
            "에포크 081 | 시간 54.01 min | 평균 손실 >> 생성자/판별자 0.9286/1.3145 [판별자-진짜: 0.6591 판별자-가짜: 0.6554]\n",
            "에포크 082 | 시간 54.67 min | 평균 손실 >> 생성자/판별자 0.9180/1.3100 [판별자-진짜: 0.6560 판별자-가짜: 0.6540]\n",
            "에포크 083 | 시간 55.33 min | 평균 손실 >> 생성자/판별자 0.8849/1.3169 [판별자-진짜: 0.6593 판별자-가짜: 0.6576]\n",
            "에포크 084 | 시간 55.99 min | 평균 손실 >> 생성자/판별자 0.9320/1.3058 [판별자-진짜: 0.6547 판별자-가짜: 0.6510]\n",
            "에포크 085 | 시간 56.66 min | 평균 손실 >> 생성자/판별자 0.8832/1.3228 [판별자-진짜: 0.6631 판별자-가짜: 0.6598]\n",
            "에포크 086 | 시간 57.33 min | 평균 손실 >> 생성자/판별자 0.9631/1.2975 [판별자-진짜: 0.6511 판별자-가짜: 0.6464]\n",
            "에포크 087 | 시간 58.00 min | 평균 손실 >> 생성자/판별자 0.9304/1.3057 [판별자-진짜: 0.6557 판별자-가짜: 0.6500]\n",
            "에포크 088 | 시간 58.66 min | 평균 손실 >> 생성자/판별자 0.8759/1.3222 [판별자-진짜: 0.6637 판별자-가짜: 0.6585]\n",
            "에포크 089 | 시간 59.33 min | 평균 손실 >> 생성자/판별자 0.9384/1.3129 [판별자-진짜: 0.6559 판별자-가짜: 0.6570]\n",
            "에포크 090 | 시간 59.99 min | 평균 손실 >> 생성자/판별자 0.9403/1.3117 [판별자-진짜: 0.6583 판별자-가짜: 0.6534]\n",
            "에포크 091 | 시간 60.66 min | 평균 손실 >> 생성자/판별자 0.8884/1.3227 [판별자-진짜: 0.6658 판별자-가짜: 0.6569]\n",
            "에포크 092 | 시간 61.32 min | 평균 손실 >> 생성자/판별자 0.9144/1.3193 [판별자-진짜: 0.6619 판별자-가짜: 0.6575]\n",
            "에포크 093 | 시간 61.99 min | 평균 손실 >> 생성자/판별자 0.9396/1.3042 [판별자-진짜: 0.6523 판별자-가짜: 0.6518]\n",
            "에포크 094 | 시간 62.65 min | 평균 손실 >> 생성자/판별자 0.8942/1.3268 [판별자-진짜: 0.6645 판별자-가짜: 0.6623]\n",
            "에포크 095 | 시간 63.32 min | 평균 손실 >> 생성자/판별자 0.8894/1.3291 [판별자-진짜: 0.6665 판별자-가짜: 0.6626]\n",
            "에포크 096 | 시간 63.99 min | 평균 손실 >> 생성자/판별자 0.9248/1.3169 [판별자-진짜: 0.6609 판별자-가짜: 0.6560]\n",
            "에포크 097 | 시간 64.65 min | 평균 손실 >> 생성자/판별자 0.8919/1.3169 [판별자-진짜: 0.6624 판별자-가짜: 0.6545]\n",
            "에포크 098 | 시간 65.32 min | 평균 손실 >> 생성자/판별자 0.9275/1.3183 [판별자-진짜: 0.6610 판별자-가짜: 0.6573]\n",
            "에포크 099 | 시간 65.99 min | 평균 손실 >> 생성자/판별자 0.9424/1.3100 [판별자-진짜: 0.6585 판별자-가짜: 0.6515]\n",
            "에포크 100 | 시간 66.65 min | 평균 손실 >> 생성자/판별자 0.8891/1.3146 [판별자-진짜: 0.6596 판별자-가짜: 0.6550]\n"
          ]
        }
      ],
      "source": [
        "import time\n",
        "\n",
        "\n",
        "num_epochs = 100\n",
        "batch_size = 64\n",
        "image_size = (28, 28)\n",
        "z_size = 20\n",
        "mode_z = 'uniform'\n",
        "gen_hidden_layers = 1\n",
        "gen_hidden_size = 100\n",
        "disc_hidden_layers = 1\n",
        "disc_hidden_size = 100\n",
        "\n",
        "tf.random.set_seed(1)\n",
        "np.random.seed(1)\n",
        "\n",
        "\n",
        "if mode_z == 'uniform':\n",
        "    fixed_z = tf.random.uniform(\n",
        "        shape=(batch_size, z_size),\n",
        "        minval=-1, maxval=1)\n",
        "elif mode_z == 'normal':\n",
        "    fixed_z = tf.random.normal(\n",
        "        shape=(batch_size, z_size))\n",
        "\n",
        "\n",
        "def create_samples(g_model, input_z):\n",
        "    g_output = g_model(input_z, training=False)\n",
        "    images = tf.reshape(g_output, (batch_size, *image_size))\n",
        "    return (images+1)/2.0\n",
        "\n",
        "## 데이터셋 준비\n",
        "mnist_trainset = mnist['train']\n",
        "mnist_trainset = mnist_trainset.map(\n",
        "    lambda ex: preprocess(ex, mode=mode_z))\n",
        "\n",
        "mnist_trainset = mnist_trainset.shuffle(10000)\n",
        "mnist_trainset = mnist_trainset.batch(\n",
        "    batch_size, drop_remainder=True)\n",
        "\n",
        "## 모델 준비\n",
        "with tf.device(device_name):\n",
        "    gen_model = make_generator_network(\n",
        "        num_hidden_layers=gen_hidden_layers,\n",
        "        num_hidden_units=gen_hidden_size,\n",
        "        num_output_units=np.prod(image_size))\n",
        "    gen_model.build(input_shape=(None, z_size))\n",
        "\n",
        "    disc_model = make_discriminator_network(\n",
        "        num_hidden_layers=disc_hidden_layers,\n",
        "        num_hidden_units=disc_hidden_size)\n",
        "    disc_model.build(input_shape=(None, np.prod(image_size)))\n",
        "\n",
        "## 손실 함수와 옵티마이저:\n",
        "loss_fn = tf.keras.losses.BinaryCrossentropy(from_logits=True)\n",
        "g_optimizer = tf.keras.optimizers.Adam()\n",
        "d_optimizer = tf.keras.optimizers.Adam()\n",
        "\n",
        "all_losses = []\n",
        "all_d_vals = []\n",
        "epoch_samples = []\n",
        "\n",
        "start_time = time.time()\n",
        "for epoch in range(1, num_epochs+1):\n",
        "    epoch_losses, epoch_d_vals = [], []\n",
        "    for i,(input_z,input_real) in enumerate(mnist_trainset):\n",
        "\n",
        "        ## 생성자 손실을 계산합니다\n",
        "        with tf.GradientTape() as g_tape:\n",
        "            g_output = gen_model(input_z)\n",
        "            d_logits_fake = disc_model(g_output, training=True)\n",
        "            labels_real = tf.ones_like(d_logits_fake)\n",
        "            g_loss = loss_fn(y_true=labels_real, y_pred=d_logits_fake)\n",
        "\n",
        "        # g_loss의 그래디언트를 계산합니다\n",
        "        g_grads = g_tape.gradient(g_loss, gen_model.trainable_variables)\n",
        "\n",
        "        # 최적화: 그래디언트를 적용합니다\n",
        "        g_optimizer.apply_gradients(\n",
        "            grads_and_vars=zip(g_grads, gen_model.trainable_variables))\n",
        "\n",
        "        ## 판별자 손실을 계산합니다\n",
        "        with tf.GradientTape() as d_tape:\n",
        "            d_logits_real = disc_model(input_real, training=True)\n",
        "\n",
        "            d_labels_real = tf.ones_like(d_logits_real)\n",
        "\n",
        "            d_loss_real = loss_fn(\n",
        "                y_true=d_labels_real, y_pred=d_logits_real)\n",
        "\n",
        "            d_logits_fake = disc_model(g_output, training=True)\n",
        "            d_labels_fake = tf.zeros_like(d_logits_fake)\n",
        "\n",
        "            d_loss_fake = loss_fn(\n",
        "                y_true=d_labels_fake, y_pred=d_logits_fake)\n",
        "\n",
        "            d_loss = d_loss_real + d_loss_fake\n",
        "\n",
        "        ## d_loss의 그래디언트를 계산합니다\n",
        "        d_grads = d_tape.gradient(d_loss, disc_model.trainable_variables)\n",
        "\n",
        "        ## 최적화: 그래디언트를 적용합니다\n",
        "        d_optimizer.apply_gradients(\n",
        "            grads_and_vars=zip(d_grads, disc_model.trainable_variables))\n",
        "\n",
        "        epoch_losses.append(\n",
        "            (g_loss.numpy(), d_loss.numpy(),\n",
        "             d_loss_real.numpy(), d_loss_fake.numpy()))\n",
        "\n",
        "        d_probs_real = tf.reduce_mean(tf.sigmoid(d_logits_real))\n",
        "        d_probs_fake = tf.reduce_mean(tf.sigmoid(d_logits_fake))\n",
        "        epoch_d_vals.append((d_probs_real.numpy(), d_probs_fake.numpy()))\n",
        "    all_losses.append(epoch_losses)\n",
        "    all_d_vals.append(epoch_d_vals)\n",
        "    print(\n",
        "        '에포크 {:03d} | 시간 {:.2f} min | 평균 손실 >>'\n",
        "        ' 생성자/판별자 {:.4f}/{:.4f} [판별자-진짜: {:.4f} 판별자-가짜: {:.4f}]'\n",
        "        .format(\n",
        "            epoch, (time.time() - start_time)/60,\n",
        "            *list(np.mean(all_losses[-1], axis=0))))\n",
        "    epoch_samples.append(\n",
        "        create_samples(gen_model, fixed_z).numpy())"
      ]
    },
    {
      "cell_type": "code",
      "execution_count": 24,
      "metadata": {
        "colab": {
          "base_uri": "https://localhost:8080/",
          "height": 637
        },
        "id": "TQyQ8deLaHmw",
        "outputId": "eb2af2ba-65f2-4bbd-dadc-0abd2e5e0623"
      },
      "outputs": [
        {
          "output_type": "display_data",
          "data": {
            "text/plain": [
              "<Figure size 1600x600 with 4 Axes>"
            ],
            "image/png": "[encoded data removed]"
          },
          "metadata": {}
        }
      ],
      "source": [
        "import itertools\n",
        "\n",
        "\n",
        "fig = plt.figure(figsize=(16, 6))\n",
        "\n",
        "## 손실 그래프\n",
        "ax = fig.add_subplot(1, 2, 1)\n",
        "g_losses = [item[0] for item in itertools.chain(*all_losses)]\n",
        "d_losses = [item[1]/2.0 for item in itertools.chain(*all_losses)]\n",
        "plt.plot(g_losses, label='Generator loss', alpha=0.95)\n",
        "plt.plot(d_losses, label='Discriminator loss', alpha=0.95)\n",
        "plt.legend(fontsize=20)\n",
        "ax.set_xlabel('Iteration', size=15)\n",
        "ax.set_ylabel('Loss', size=15)\n",
        "\n",
        "epochs = np.arange(1, 101)\n",
        "epoch2iter = lambda e: e*len(all_losses[-1])\n",
        "epoch_ticks = [1, 20, 40, 60, 80, 100]\n",
        "newpos = [epoch2iter(e) for e in epoch_ticks]\n",
        "ax2 = ax.twiny()\n",
        "ax2.set_xticks(newpos)\n",
        "ax2.set_xticklabels(epoch_ticks)\n",
        "ax2.xaxis.set_ticks_position('bottom')\n",
        "ax2.xaxis.set_label_position('bottom')\n",
        "ax2.spines['bottom'].set_position(('outward', 60))\n",
        "ax2.set_xlabel('Epoch', size=15)\n",
        "ax2.set_xlim(ax.get_xlim())\n",
        "ax.tick_params(axis='both', which='major', labelsize=15)\n",
        "ax2.tick_params(axis='both', which='major', labelsize=15)\n",
        "\n",
        "## 판별자의 출력\n",
        "ax = fig.add_subplot(1, 2, 2)\n",
        "d_vals_real = [item[0] for item in itertools.chain(*all_d_vals)]\n",
        "d_vals_fake = [item[1] for item in itertools.chain(*all_d_vals)]\n",
        "plt.plot(d_vals_real, alpha=0.75, label=r'Real: $D(\\mathbf{x})$')\n",
        "plt.plot(d_vals_fake, alpha=0.75, label=r'Fake: $D(G(\\mathbf{z}))$')\n",
        "plt.legend(fontsize=20)\n",
        "ax.set_xlabel('Iteration', size=15)\n",
        "ax.set_ylabel('Discriminator output', size=15)\n",
        "\n",
        "ax2 = ax.twiny()\n",
        "ax2.set_xticks(newpos)\n",
        "ax2.set_xticklabels(epoch_ticks)\n",
        "ax2.xaxis.set_ticks_position('bottom')\n",
        "ax2.xaxis.set_label_position('bottom')\n",
        "ax2.spines['bottom'].set_position(('outward', 60))\n",
        "ax2.set_xlabel('Epoch', size=15)\n",
        "ax2.set_xlim(ax.get_xlim())\n",
        "ax.tick_params(axis='both', which='major', labelsize=15)\n",
        "ax2.tick_params(axis='both', which='major', labelsize=15)\n",
        "\n",
        "plt.show()"
      ]
    },
    {
      "cell_type": "code",
      "execution_count": 25,
      "metadata": {
        "colab": {
          "base_uri": "https://localhost:8080/",
          "height": 1000
        },
        "id": "iENdPX_gPoJ7",
        "outputId": "9abf0c8e-f7bd-4aa2-b6f1-962fedc40c61"
      },
      "outputs": [
        {
          "output_type": "display_data",
          "data": {
            "text/plain": [
              "<Figure size 1000x1400 with 30 Axes>"
            ],
            "image/png": "[encoded data removed]"
          },
          "metadata": {}
        }
      ],
      "source": [
        "selected_epochs = [1, 2, 4, 10, 50, 100]\n",
        "fig = plt.figure(figsize=(10, 14))\n",
        "for i,e in enumerate(selected_epochs):\n",
        "    for j in range(5):\n",
        "        ax = fig.add_subplot(6, 5, i*5+j+1)\n",
        "        ax.set_xticks([])\n",
        "        ax.set_yticks([])\n",
        "        if j == 0:\n",
        "            ax.text(\n",
        "                -0.06, 0.5, 'Epoch {}'.format(e),\n",
        "                rotation=90, size=18, color='red',\n",
        "                horizontalalignment='right',\n",
        "                verticalalignment='center',\n",
        "                transform=ax.transAxes)\n",
        "\n",
        "        image = epoch_samples[e-1][j]\n",
        "        ax.imshow(image, cmap='gray_r')\n",
        "\n",
        "plt.show()"
      ]
    }
  ],
  "metadata": {
    "accelerator": "GPU",
    "colab": {
      "name": "ch17-basic-GAN.ipynb",
      "provenance": [],
      "machine_shape": "hm",
      "gpuType": "A100"
    },
    "kernelspec": {
      "display_name": "Python 3",
      "name": "python3"
    },
    "language_info": {
      "codemirror_mode": {
        "name": "ipython",
        "version": 3
      },
      "file_extension": ".py",
      "mimetype": "text/x-python",
      "name": "python",
      "nbconvert_exporter": "python",
      "pygments_lexer": "ipython3",
      "version": "3.7.3"
    },
    "widgets": {
      "application/vnd.jupyter.widget-state+json": {
        "7c09dda7eeb241508cb2cd6592fcf80c": {
          "model_module": "@jupyter-widgets/controls",
          "model_name": "HBoxModel",
          "model_module_version": "1.5.0",
          "state": {
            "_dom_classes": [],
            "_model_module": "@jupyter-widgets/controls",
            "_model_module_version": "1.5.0",
            "_model_name": "HBoxModel",
            "_view_count": null,
            "_view_module": "@jupyter-widgets/controls",
            "_view_module_version": "1.5.0",
            "_view_name": "HBoxView",
            "box_style": "",
            "children": [
              "IPY_MODEL_4031a96ff1774e8bbe71a02da617faf1",
              "IPY_MODEL_70173d794bf14346a57eb8224a198e34",
              "IPY_MODEL_eadf9fcc81ce4955a0ffc627ed3969b2"
            ],
            "layout": "IPY_MODEL_6b94e9c7a4fd4993b1f8c91a216da696"
          }
        },
        "4031a96ff1774e8bbe71a02da617faf1": {
          "model_module": "@jupyter-widgets/controls",
          "model_name": "HTMLModel",
          "model_module_version": "1.5.0",
          "state": {
            "_dom_classes": [],
            "_model_module": "@jupyter-widgets/controls",
            "_model_module_version": "1.5.0",
            "_model_name": "HTMLModel",
            "_view_count": null,
            "_view_module": "@jupyter-widgets/controls",
            "_view_module_version": "1.5.0",
            "_view_name": "HTMLView",
            "description": "",
            "description_tooltip": null,
            "layout": "IPY_MODEL_0c1ac0f5831c4fb7b5d300a831cb53c6",
            "placeholder": "​",
            "style": "IPY_MODEL_23af028da94e47539c7ec6268869fa3f",
            "value": "Dl Completed...: 100%"
          }
        },
        "70173d794bf14346a57eb8224a198e34": {
          "model_module": "@jupyter-widgets/controls",
          "model_name": "FloatProgressModel",
          "model_module_version": "1.5.0",
          "state": {
            "_dom_classes": [],
            "_model_module": "@jupyter-widgets/controls",
            "_model_module_version": "1.5.0",
            "_model_name": "FloatProgressModel",
            "_view_count": null,
            "_view_module": "@jupyter-widgets/controls",
            "_view_module_version": "1.5.0",
            "_view_name": "ProgressView",
            "bar_style": "success",
            "description": "",
            "description_tooltip": null,
            "layout": "IPY_MODEL_7321144c23ca4587afd927a717dc2483",
            "max": 5,
            "min": 0,
            "orientation": "horizontal",
            "style": "IPY_MODEL_63ce20e955e6458196a771f56bd66163",
            "value": 5
          }
        },
        "eadf9fcc81ce4955a0ffc627ed3969b2": {
          "model_module": "@jupyter-widgets/controls",
          "model_name": "HTMLModel",
          "model_module_version": "1.5.0",
          "state": {
            "_dom_classes": [],
            "_model_module": "@jupyter-widgets/controls",
            "_model_module_version": "1.5.0",
            "_model_name": "HTMLModel",
            "_view_count": null,
            "_view_module": "@jupyter-widgets/controls",
            "_view_module_version": "1.5.0",
            "_view_name": "HTMLView",
            "description": "",
            "description_tooltip": null,
            "layout": "IPY_MODEL_074e16370b554088884fc89a4c265a04",
            "placeholder": "​",
            "style": "IPY_MODEL_06e14526222044b08b6468f1bcc0a401",
            "value": " 5/5 [00:03&lt;00:00,  1.25 file/s]"
          }
        },
        "6b94e9c7a4fd4993b1f8c91a216da696": {
          "model_module": "@jupyter-widgets/base",
          "model_name": "LayoutModel",
          "model_module_version": "1.2.0",
          "state": {
            "_model_module": "@jupyter-widgets/base",
            "_model_module_version": "1.2.0",
            "_model_name": "LayoutModel",
            "_view_count": null,
            "_view_module": "@jupyter-widgets/base",
            "_view_module_version": "1.2.0",
            "_view_name": "LayoutView",
            "align_content": null,
            "align_items": null,
            "align_self": null,
            "border": null,
            "bottom": null,
            "display": null,
            "flex": null,
            "flex_flow": null,
            "grid_area": null,
            "grid_auto_columns": null,
            "grid_auto_flow": null,
            "grid_auto_rows": null,
            "grid_column": null,
            "grid_gap": null,
            "grid_row": null,
            "grid_template_areas": null,
            "grid_template_columns": null,
            "grid_template_rows": null,
            "height": null,
            "justify_content": null,
            "justify_items": null,
            "left": null,
            "margin": null,
            "max_height": null,
            "max_width": null,
            "min_height": null,
            "min_width": null,
            "object_fit": null,
            "object_position": null,
            "order": null,
            "overflow": null,
            "overflow_x": null,
            "overflow_y": null,
            "padding": null,
            "right": null,
            "top": null,
            "visibility": null,
            "width": null
          }
        },
        "0c1ac0f5831c4fb7b5d300a831cb53c6": {
          "model_module": "@jupyter-widgets/base",
          "model_name": "LayoutModel",
          "model_module_version": "1.2.0",
          "state": {
            "_model_module": "@jupyter-widgets/base",
            "_model_module_version": "1.2.0",
            "_model_name": "LayoutModel",
            "_view_count": null,
            "_view_module": "@jupyter-widgets/base",
            "_view_module_version": "1.2.0",
            "_view_name": "LayoutView",
            "align_content": null,
            "align_items": null,
            "align_self": null,
            "border": null,
            "bottom": null,
            "display": null,
            "flex": null,
            "flex_flow": null,
            "grid_area": null,
            "grid_auto_columns": null,
            "grid_auto_flow": null,
            "grid_auto_rows": null,
            "grid_column": null,
            "grid_gap": null,
            "grid_row": null,
            "grid_template_areas": null,
            "grid_template_columns": null,
            "grid_template_rows": null,
            "height": null,
            "justify_content": null,
            "justify_items": null,
            "left": null,
            "margin": null,
            "max_height": null,
            "max_width": null,
            "min_height": null,
            "min_width": null,
            "object_fit": null,
            "object_position": null,
            "order": null,
            "overflow": null,
            "overflow_x": null,
            "overflow_y": null,
            "padding": null,
            "right": null,
            "top": null,
            "visibility": null,
            "width": null
          }
        },
        "23af028da94e47539c7ec6268869fa3f": {
          "model_module": "@jupyter-widgets/controls",
          "model_name": "DescriptionStyleModel",
          "model_module_version": "1.5.0",
          "state": {
            "_model_module": "@jupyter-widgets/controls",
            "_model_module_version": "1.5.0",
            "_model_name": "DescriptionStyleModel",
            "_view_count": null,
            "_view_module": "@jupyter-widgets/base",
            "_view_module_version": "1.2.0",
            "_view_name": "StyleView",
            "description_width": ""
          }
        },
        "7321144c23ca4587afd927a717dc2483": {
          "model_module": "@jupyter-widgets/base",
          "model_name": "LayoutModel",
          "model_module_version": "1.2.0",
          "state": {
            "_model_module": "@jupyter-widgets/base",
            "_model_module_version": "1.2.0",
            "_model_name": "LayoutModel",
            "_view_count": null,
            "_view_module": "@jupyter-widgets/base",
            "_view_module_version": "1.2.0",
            "_view_name": "LayoutView",
            "align_content": null,
            "align_items": null,
            "align_self": null,
            "border": null,
            "bottom": null,
            "display": null,
            "flex": null,
            "flex_flow": null,
            "grid_area": null,
            "grid_auto_columns": null,
            "grid_auto_flow": null,
            "grid_auto_rows": null,
            "grid_column": null,
            "grid_gap": null,
            "grid_row": null,
            "grid_template_areas": null,
            "grid_template_columns": null,
            "grid_template_rows": null,
            "height": null,
            "justify_content": null,
            "justify_items": null,
            "left": null,
            "margin": null,
            "max_height": null,
            "max_width": null,
            "min_height": null,
            "min_width": null,
            "object_fit": null,
            "object_position": null,
            "order": null,
            "overflow": null,
            "overflow_x": null,
            "overflow_y": null,
            "padding": null,
            "right": null,
            "top": null,
            "visibility": null,
            "width": null
          }
        },
        "63ce20e955e6458196a771f56bd66163": {
          "model_module": "@jupyter-widgets/controls",
          "model_name": "ProgressStyleModel",
          "model_module_version": "1.5.0",
          "state": {
            "_model_module": "@jupyter-widgets/controls",
            "_model_module_version": "1.5.0",
            "_model_name": "ProgressStyleModel",
            "_view_count": null,
            "_view_module": "@jupyter-widgets/base",
            "_view_module_version": "1.2.0",
            "_view_name": "StyleView",
            "bar_color": null,
            "description_width": ""
          }
        },
        "074e16370b554088884fc89a4c265a04": {
          "model_module": "@jupyter-widgets/base",
          "model_name": "LayoutModel",
          "model_module_version": "1.2.0",
          "state": {
            "_model_module": "@jupyter-widgets/base",
            "_model_module_version": "1.2.0",
            "_model_name": "LayoutModel",
            "_view_count": null,
            "_view_module": "@jupyter-widgets/base",
            "_view_module_version": "1.2.0",
            "_view_name": "LayoutView",
            "align_content": null,
            "align_items": null,
            "align_self": null,
            "border": null,
            "bottom": null,
            "display": null,
            "flex": null,
            "flex_flow": null,
            "grid_area": null,
            "grid_auto_columns": null,
            "grid_auto_flow": null,
            "grid_auto_rows": null,
            "grid_column": null,
            "grid_gap": null,
            "grid_row": null,
            "grid_template_areas": null,
            "grid_template_columns": null,
            "grid_template_rows": null,
            "height": null,
            "justify_content": null,
            "justify_items": null,
            "left": null,
            "margin": null,
            "max_height": null,
            "max_width": null,
            "min_height": null,
            "min_width": null,
            "object_fit": null,
            "object_position": null,
            "order": null,
            "overflow": null,
            "overflow_x": null,
            "overflow_y": null,
            "padding": null,
            "right": null,
            "top": null,
            "visibility": null,
            "width": null
          }
        },
        "06e14526222044b08b6468f1bcc0a401": {
          "model_module": "@jupyter-widgets/controls",
          "model_name": "DescriptionStyleModel",
          "model_module_version": "1.5.0",
          "state": {
            "_model_module": "@jupyter-widgets/controls",
            "_model_module_version": "1.5.0",
            "_model_name": "DescriptionStyleModel",
            "_view_count": null,
            "_view_module": "@jupyter-widgets/base",
            "_view_module_version": "1.2.0",
            "_view_name": "StyleView",
            "description_width": ""
          }
        }
      }
    }
  },
  "nbformat": 4,
  "nbformat_minor": 0
}