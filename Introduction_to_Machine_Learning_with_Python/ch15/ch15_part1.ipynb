{
  "cells": [
    {
      "cell_type": "markdown",
      "metadata": {
        "id": "bmTf8Nr0ifCU"
      },
      "source": [
        "# 머신 러닝 교과서 3판"
      ]
    },
    {
      "cell_type": "markdown",
      "metadata": {
        "id": "urDF4hh_ifCV"
      },
      "source": [
        "# 15장 - 심층 합성곱 신경망으로 이미지 분류 (1/2)"
      ]
    },
    {
      "cell_type": "markdown",
      "metadata": {
        "id": "R5cTA0rXifCV"
      },
      "source": [
        "**아래 링크를 통해 이 노트북을 주피터 노트북 뷰어(nbviewer.jupyter.org)로 보거나 구글 코랩(colab.research.google.com)에서 실행할 수 있습니다.**\n",
        "\n",
        "<table class=\"tfo-notebook-buttons\" align=\"left\">\n",
        "  <td>\n",
        "    <a target=\"_blank\" href=\"https://nbviewer.org/github/rickiepark/python-machine-learning-book-3rd-edition/blob/master/ch15/ch15_part1.ipynb\"><img src=\"https://jupyter.org/assets/share.png\" width=\"60\" />주피터 노트북 뷰어로 보기</a>\n",
        "  </td>\n",
        "  <td>\n",
        "    <a target=\"_blank\" href=\"https://colab.research.google.com/github/rickiepark/python-machine-learning-book-3rd-edition/blob/master/ch15/ch15_part1.ipynb\"><img src=\"https://www.tensorflow.org/images/colab_logo_32px.png\" />구글 코랩(Colab)에서 실행하기</a>\n",
        "  </td>\n",
        "</table>"
      ]
    },
    {
      "cell_type": "markdown",
      "metadata": {
        "id": "f27nCXbrifCW"
      },
      "source": [
        "### 목차"
      ]
    },
    {
      "cell_type": "markdown",
      "metadata": {
        "id": "2_7fyte5ifCW"
      },
      "source": [
        "- 합성곱 신경망의 구성 요소\n",
        "    - CNN과 특성 계층 학습\n",
        "    - 이산 합성곱 수행\n",
        "        - 1차원 이산 합성곱 수행\n",
        "        - 출력 특성 맵의 크기를 조절하기 위해 입력에 패딩하기\n",
        "        - 합성곱 출력 크기 계산\n",
        "        - 2D 이산 합성곱 수행\n",
        "    - 서브샘플링\n",
        "- 기본 구성 요소를 사용하여 심층 합성곱 신경망 구성\n",
        "    - 여러 개의 입력 또는 컬러 채널 다루기\n",
        "    - 드롭아웃으로 신경망 규제\n",
        "    - 분류를 위한 손실 함수\n",
        "- 텐서플로를 사용하여 심층 합성곱 신경망 구현\n",
        "    - 다층 CNN 구조\n",
        "    - 데이터 적재와 전처리\n",
        "    - 텐서플로 케라스 API를 사용해 CNN 구현하기\n",
        "        - 케라스에서 CNN 층 설정하기\n",
        "        - 케라스로 CNN 구성하기"
      ]
    },
    {
      "cell_type": "code",
      "execution_count": 1,
      "metadata": {
        "id": "177002meifCW"
      },
      "outputs": [],
      "source": [
        "from IPython.display import Image"
      ]
    },
    {
      "cell_type": "markdown",
      "metadata": {
        "id": "QhoWUw-DifCW"
      },
      "source": [
        "## 합성곱 신경망의 구성 요소\n",
        "\n",
        "### CNN과 특성 계층 학습"
      ]
    },
    {
      "cell_type": "code",
      "execution_count": 2,
      "metadata": {
        "colab": {
          "base_uri": "https://localhost:8080/",
          "height": 305
        },
        "id": "Z1yJcNPqifCW",
        "outputId": "4af6db10-33a5-4ae7-a345-332a9e1d75ee"
      },
      "outputs": [
        {
          "output_type": "execute_result",
          "data": {
            "text/html": [
              "<img src=\"https://git.io/JL5O3\" width=\"700\"/>"
            ],
            "text/plain": [
              "<IPython.core.display.Image object>"
            ]
          },
          "metadata": {},
          "execution_count": 2
        }
      ],
      "source": [
        "Image(url='https://git.io/JL5O3', width=700)"
      ]
    },
    {
      "cell_type": "markdown",
      "metadata": {
        "id": "n1CfLNUSifCX"
      },
      "source": [
        "### 이산 합성곱 수행\n",
        "\n",
        "#### 1차원 이산 합성곱 수행"
      ]
    },
    {
      "cell_type": "code",
      "execution_count": 3,
      "metadata": {
        "colab": {
          "base_uri": "https://localhost:8080/",
          "height": 278
        },
        "id": "GKOpZy2TifCX",
        "outputId": "1b0e570d-5979-4c4d-b541-e85532338640"
      },
      "outputs": [
        {
          "output_type": "execute_result",
          "data": {
            "text/html": [
              "<img src=\"https://git.io/JL5On\" width=\"700\"/>"
            ],
            "text/plain": [
              "<IPython.core.display.Image object>"
            ]
          },
          "metadata": {},
          "execution_count": 3
        }
      ],
      "source": [
        "Image(url='https://git.io/JL5On', width=700)"
      ]
    },
    {
      "cell_type": "code",
      "execution_count": 4,
      "metadata": {
        "colab": {
          "base_uri": "https://localhost:8080/",
          "height": 454
        },
        "id": "E3J3_NTNifCY",
        "outputId": "99b78ead-c430-44ee-804f-e8646e13e2c8"
      },
      "outputs": [
        {
          "output_type": "execute_result",
          "data": {
            "text/html": [
              "<img src=\"https://git.io/JL5O8\" width=\"700\"/>"
            ],
            "text/plain": [
              "<IPython.core.display.Image object>"
            ]
          },
          "metadata": {},
          "execution_count": 4
        }
      ],
      "source": [
        "Image(url='https://git.io/JL5O8', width=700)"
      ]
    },
    {
      "cell_type": "markdown",
      "metadata": {
        "id": "4FylyB5IifCY"
      },
      "source": [
        "#### 출력 특성 맵의 크기를 조절하기 위해 입력에 패딩하기"
      ]
    },
    {
      "cell_type": "code",
      "execution_count": 5,
      "metadata": {
        "colab": {
          "base_uri": "https://localhost:8080/",
          "height": 212
        },
        "id": "atIWe4jRifCY",
        "outputId": "75ec7740-a3a4-4e01-8cbf-e1d36ba0cfb4"
      },
      "outputs": [
        {
          "output_type": "execute_result",
          "data": {
            "text/html": [
              "<img src=\"https://git.io/JL5Ow\" width=\"700\"/>"
            ],
            "text/plain": [
              "<IPython.core.display.Image object>"
            ]
          },
          "metadata": {},
          "execution_count": 5
        }
      ],
      "source": [
        "Image(url='https://git.io/JL5Ow', width=700)"
      ]
    },
    {
      "cell_type": "markdown",
      "metadata": {
        "id": "fjCOUYGWifCY"
      },
      "source": [
        "#### 합성곱 출력 크기 계산"
      ]
    },
    {
      "cell_type": "code",
      "execution_count": 6,
      "metadata": {
        "colab": {
          "base_uri": "https://localhost:8080/"
        },
        "id": "kLmHMacdifCY",
        "outputId": "f5e8707b-7c43-4c8b-fbb8-d16ce4662b31"
      },
      "outputs": [
        {
          "output_type": "stream",
          "name": "stdout",
          "text": [
            "텐서플로 버전: 2.14.0\n",
            "넘파이 버전:  1.23.5\n"
          ]
        }
      ],
      "source": [
        "import tensorflow as tf\n",
        "import numpy as np\n",
        "\n",
        "print('텐서플로 버전:', tf.__version__)\n",
        "print('넘파이 버전: ', np.__version__)"
      ]
    },
    {
      "cell_type": "code",
      "execution_count": 7,
      "metadata": {
        "colab": {
          "base_uri": "https://localhost:8080/"
        },
        "id": "15FDd_AMifCZ",
        "outputId": "c999ad77-6990-4018-97fa-eaa5652899e1"
      },
      "outputs": [
        {
          "output_type": "stream",
          "name": "stdout",
          "text": [
            "Conv1d 구현: [ 5. 14. 16. 26. 24. 34. 19. 22.]\n",
            "넘파이 결과: [ 5 14 16 26 24 34 19 22]\n"
          ]
        }
      ],
      "source": [
        "def conv1d(x, w, p=0, s=1):\n",
        "    w_rot = np.array(w[::-1])\n",
        "    x_padded = np.array(x)\n",
        "    if p > 0:\n",
        "        zero_pad = np.zeros(shape=p)\n",
        "        x_padded = np.concatenate(\n",
        "            [zero_pad, x_padded, zero_pad])\n",
        "    res = []\n",
        "    for i in range(0, int((len(x_padded) - len(w_rot)) / s) + 1, s):\n",
        "        res.append(np.sum(\n",
        "            x_padded[i:i+w_rot.shape[0]] * w_rot))\n",
        "    return np.array(res)\n",
        "\n",
        "\n",
        "## 테스트:\n",
        "x = [1, 3, 2, 4, 5, 6, 1, 3]\n",
        "w = [1, 0, 3, 1, 2]\n",
        "\n",
        "print('Conv1d 구현:',\n",
        "      conv1d(x, w, p=2, s=1))\n",
        "\n",
        "print('넘파이 결과:',\n",
        "      np.convolve(x, w, mode='same'))"
      ]
    },
    {
      "cell_type": "markdown",
      "metadata": {
        "id": "22WjlUkgifCZ"
      },
      "source": [
        "#### 2D 이산 합성곱 수행"
      ]
    },
    {
      "cell_type": "code",
      "execution_count": 8,
      "metadata": {
        "colab": {
          "base_uri": "https://localhost:8080/",
          "height": 413
        },
        "id": "vOAuCO9kifCZ",
        "outputId": "5061c287-0944-4c74-a957-8ed2d796e745"
      },
      "outputs": [
        {
          "output_type": "execute_result",
          "data": {
            "text/html": [
              "<img src=\"https://git.io/JL5OP\" width=\"700\"/>"
            ],
            "text/plain": [
              "<IPython.core.display.Image object>"
            ]
          },
          "metadata": {},
          "execution_count": 8
        }
      ],
      "source": [
        "Image(url='https://git.io/JL5OP', width=700)"
      ]
    },
    {
      "cell_type": "code",
      "execution_count": 9,
      "metadata": {
        "colab": {
          "base_uri": "https://localhost:8080/",
          "height": 352
        },
        "id": "il5jQ-mZifCZ",
        "outputId": "f082f230-92a7-424f-c86a-5a028d47d5cb",
        "scrolled": true
      },
      "outputs": [
        {
          "output_type": "execute_result",
          "data": {
            "text/html": [
              "<img src=\"https://git.io/JL5OD\" width=\"600\"/>"
            ],
            "text/plain": [
              "<IPython.core.display.Image object>"
            ]
          },
          "metadata": {},
          "execution_count": 9
        }
      ],
      "source": [
        "Image(url='https://git.io/JL5OD', width=600)"
      ]
    },
    {
      "cell_type": "code",
      "execution_count": 10,
      "metadata": {
        "colab": {
          "base_uri": "https://localhost:8080/",
          "height": 374
        },
        "id": "TVLqLnMXifCa",
        "outputId": "7120254d-01a3-4ba0-9e9e-84f56381b730"
      },
      "outputs": [
        {
          "output_type": "execute_result",
          "data": {
            "text/html": [
              "<img src=\"https://git.io/JL5OS\" width=\"800\"/>"
            ],
            "text/plain": [
              "<IPython.core.display.Image object>"
            ]
          },
          "metadata": {},
          "execution_count": 10
        }
      ],
      "source": [
        "Image(url='https://git.io/JL5OS', width=800)"
      ]
    },
    {
      "cell_type": "code",
      "execution_count": 11,
      "metadata": {
        "colab": {
          "base_uri": "https://localhost:8080/"
        },
        "id": "I8VBXnCjifCa",
        "outputId": "145fd0b6-cb95-4355-d4fc-957902f758c3"
      },
      "outputs": [
        {
          "output_type": "stream",
          "name": "stdout",
          "text": [
            "Conv2d 구현:\n",
            " [[11. 25. 32. 13.]\n",
            " [19. 25. 24. 13.]\n",
            " [13. 28. 25. 17.]\n",
            " [11. 17. 14.  9.]]\n",
            "싸이파이 결과:\n",
            " [[11 25 32 13]\n",
            " [19 25 24 13]\n",
            " [13 28 25 17]\n",
            " [11 17 14  9]]\n"
          ]
        }
      ],
      "source": [
        "import scipy.signal\n",
        "\n",
        "\n",
        "def conv2d(X, W, p=(0, 0), s=(1, 1)):\n",
        "    W_rot = np.array(W)[::-1,::-1]\n",
        "    X_orig = np.array(X)\n",
        "    n1 = X_orig.shape[0] + 2*p[0]\n",
        "    n2 = X_orig.shape[1] + 2*p[1]\n",
        "    X_padded = np.zeros(shape=(n1, n2))\n",
        "    X_padded[p[0]:p[0]+X_orig.shape[0],\n",
        "    p[1]:p[1]+X_orig.shape[1]] = X_orig\n",
        "\n",
        "    res = []\n",
        "    for i in range(0, int((X_padded.shape[0] -\n",
        "                           W_rot.shape[0])/s[0])+1, s[0]):\n",
        "        res.append([])\n",
        "        for j in range(0, int((X_padded.shape[1] -\n",
        "                               W_rot.shape[1])/s[1])+1, s[1]):\n",
        "            X_sub = X_padded[i:i+W_rot.shape[0],\n",
        "                             j:j+W_rot.shape[1]]\n",
        "            res[-1].append(np.sum(X_sub * W_rot))\n",
        "    return(np.array(res))\n",
        "\n",
        "X = [[1, 3, 2, 4], [5, 6, 1, 3], [1, 2, 0, 2], [3, 4, 3, 2]]\n",
        "W = [[1, 0, 3], [1, 2, 1], [0, 1, 1]]\n",
        "\n",
        "print('Conv2d 구현:\\n',\n",
        "    conv2d(X, W, p=(1, 1), s=(1, 1)))\n",
        "\n",
        "\n",
        "print('싸이파이 결과:\\n',\n",
        "    scipy.signal.convolve2d(X, W, mode='same'))"
      ]
    },
    {
      "cell_type": "markdown",
      "metadata": {
        "id": "RHePysibifCa"
      },
      "source": [
        "### 서브샘플링"
      ]
    },
    {
      "cell_type": "code",
      "execution_count": 12,
      "metadata": {
        "colab": {
          "base_uri": "https://localhost:8080/",
          "height": 366
        },
        "id": "kc1ZMqcLifCa",
        "outputId": "87802ea2-ea9b-4bd8-a07e-3ef36cdde60a"
      },
      "outputs": [
        {
          "output_type": "execute_result",
          "data": {
            "text/html": [
              "<img src=\"https://git.io/JL5OH\" width=\"700\"/>"
            ],
            "text/plain": [
              "<IPython.core.display.Image object>"
            ]
          },
          "metadata": {},
          "execution_count": 12
        }
      ],
      "source": [
        "Image(url='https://git.io/JL5OH', width=700)"
      ]
    },
    {
      "cell_type": "markdown",
      "metadata": {
        "id": "57cBF6lxifCb"
      },
      "source": [
        "## 기본 구성 요소를 사용하여 심층 합성곱 신경망 구성\n",
        "\n",
        "### 여러 개의 입력 또는 컬러 채널 다루기"
      ]
    },
    {
      "cell_type": "code",
      "execution_count": 13,
      "metadata": {
        "colab": {
          "base_uri": "https://localhost:8080/",
          "height": 422
        },
        "id": "VdJuRn5AifCb",
        "outputId": "3a2d55c3-30cf-4390-9199-1493c99d5942"
      },
      "outputs": [
        {
          "output_type": "execute_result",
          "data": {
            "text/html": [
              "<img src=\"https://git.io/JL5O5\" width=\"800\"/>"
            ],
            "text/plain": [
              "<IPython.core.display.Image object>"
            ]
          },
          "metadata": {},
          "execution_count": 13
        }
      ],
      "source": [
        "Image(url='https://git.io/JL5O5', width=800)"
      ]
    },
    {
      "cell_type": "markdown",
      "metadata": {
        "id": "ldWAgzDQifCb"
      },
      "source": [
        "**팁: 이미지 파일 읽기**"
      ]
    },
    {
      "cell_type": "code",
      "execution_count": 14,
      "metadata": {
        "colab": {
          "base_uri": "https://localhost:8080/"
        },
        "id": "U2_UgtcxvuJj",
        "outputId": "a069ed2b-de06-49df-adb0-1b77a4a13a5d"
      },
      "outputs": [
        {
          "output_type": "stream",
          "name": "stdout",
          "text": [
            "--2023-11-10 05:55:47--  https://git.io/JL5Ob\n",
            "Resolving git.io (git.io)... 140.82.112.21\n",
            "Connecting to git.io (git.io)|140.82.112.21|:443... connected.\n",
            "HTTP request sent, awaiting response... 301 Moved Permanently\n",
            "Location: https://github.com/rickiepark/python-machine-learning-book-3rd-edition/raw/master/ch15/example-image.png [following]\n",
            "--2023-11-10 05:55:48--  https://github.com/rickiepark/python-machine-learning-book-3rd-edition/raw/master/ch15/example-image.png\n",
            "Resolving github.com (github.com)... 140.82.112.3\n",
            "Connecting to github.com (github.com)|140.82.112.3|:443... connected.\n",
            "HTTP request sent, awaiting response... 302 Found\n",
            "Location: https://raw.githubusercontent.com/rickiepark/python-machine-learning-book-3rd-edition/master/ch15/example-image.png [following]\n",
            "--2023-11-10 05:55:48--  https://raw.githubusercontent.com/rickiepark/python-machine-learning-book-3rd-edition/master/ch15/example-image.png\n",
            "Resolving raw.githubusercontent.com (raw.githubusercontent.com)... 185.199.111.133, 185.199.108.133, 185.199.109.133, ...\n",
            "Connecting to raw.githubusercontent.com (raw.githubusercontent.com)|185.199.111.133|:443... connected.\n",
            "HTTP request sent, awaiting response... 200 OK\n",
            "Length: 22283 (22K) [image/png]\n",
            "Saving to: ‘example-image.png’\n",
            "\n",
            "example-image.png   100%[===================>]  21.76K  --.-KB/s    in 0.002s  \n",
            "\n",
            "2023-11-10 05:55:48 (14.0 MB/s) - ‘example-image.png’ saved [22283/22283]\n",
            "\n"
          ]
        }
      ],
      "source": [
        "# 코랩에서 실행할 경우 이미지를 먼저 다운로드합니다\n",
        "!wget https://git.io/JL5Ob -O example-image.png"
      ]
    },
    {
      "cell_type": "code",
      "execution_count": 15,
      "metadata": {
        "colab": {
          "base_uri": "https://localhost:8080/"
        },
        "id": "2lQymxAJifCb",
        "outputId": "e4358781-e621-464f-cb83-41cd26ff2d64"
      },
      "outputs": [
        {
          "output_type": "stream",
          "name": "stdout",
          "text": [
            "이미지 크기: (252, 221, 3)\n",
            "채널 개수: 3\n",
            "이미지 데이터 타입: <dtype: 'uint8'>\n",
            "tf.Tensor(\n",
            "[[[179 134 110]\n",
            "  [182 136 112]]\n",
            "\n",
            " [[180 135 111]\n",
            "  [182 137 113]]], shape=(2, 2, 3), dtype=uint8)\n"
          ]
        }
      ],
      "source": [
        "import tensorflow as tf\n",
        "\n",
        "\n",
        "img_raw = tf.io.read_file('example-image.png')\n",
        "img = tf.image.decode_image(img_raw)\n",
        "print('이미지 크기:', img.shape)\n",
        "print('채널 개수:', img.shape[2])\n",
        "print('이미지 데이터 타입:', img.dtype)\n",
        "print(img[100:102, 100:102, :])"
      ]
    },
    {
      "cell_type": "code",
      "execution_count": 16,
      "metadata": {
        "colab": {
          "base_uri": "https://localhost:8080/"
        },
        "id": "qo8Ybg9wifCc",
        "outputId": "a5bd2905-7756-4a5f-bfea-d5102b8ea1e7"
      },
      "outputs": [
        {
          "output_type": "stream",
          "name": "stdout",
          "text": [
            "이미지 크기: (252, 221, 3)\n",
            "채널 개수: 3\n",
            "이미지 데이터 타입: uint8\n",
            "[[[179 134 110]\n",
            "  [182 136 112]]\n",
            "\n",
            " [[180 135 111]\n",
            "  [182 137 113]]]\n"
          ]
        },
        {
          "output_type": "stream",
          "name": "stderr",
          "text": [
            "<ipython-input-16-a4e5e9d88497>:4: DeprecationWarning: Starting with ImageIO v3 the behavior of this function will switch to that of iio.v3.imread. To keep the current behavior (and make this warning disappear) use `import imageio.v2 as imageio` or call `imageio.v2.imread` directly.\n",
            "  img = imageio.imread('example-image.png')\n"
          ]
        }
      ],
      "source": [
        "import imageio\n",
        "\n",
        "\n",
        "img = imageio.imread('example-image.png')\n",
        "print('이미지 크기:', img.shape)\n",
        "print('채널 개수:', img.shape[2])\n",
        "print('이미지 데이터 타입:', img.dtype)\n",
        "print(img[100:102, 100:102, :])"
      ]
    },
    {
      "cell_type": "markdown",
      "metadata": {
        "id": "pRudlk4_ifCd"
      },
      "source": [
        "**노트: CNN 입력을 위한 흑백 이미지의 랭크**"
      ]
    },
    {
      "cell_type": "code",
      "execution_count": 17,
      "metadata": {
        "colab": {
          "base_uri": "https://localhost:8080/"
        },
        "id": "LeRSnSZEw45S",
        "outputId": "b19eba7f-611f-425b-d02d-c66c2b5562da"
      },
      "outputs": [
        {
          "output_type": "stream",
          "name": "stdout",
          "text": [
            "--2023-11-10 05:55:52--  https://git.io/JL5Op\n",
            "Resolving git.io (git.io)... 140.82.112.21\n",
            "Connecting to git.io (git.io)|140.82.112.21|:443... connected.\n",
            "HTTP request sent, awaiting response... 301 Moved Permanently\n",
            "Location: https://github.com/rickiepark/python-machine-learning-book-3rd-edition/raw/master/ch15/example-image-gray.png [following]\n",
            "--2023-11-10 05:55:52--  https://github.com/rickiepark/python-machine-learning-book-3rd-edition/raw/master/ch15/example-image-gray.png\n",
            "Resolving github.com (github.com)... 140.82.112.4\n",
            "Connecting to github.com (github.com)|140.82.112.4|:443... connected.\n",
            "HTTP request sent, awaiting response... 302 Found\n",
            "Location: https://raw.githubusercontent.com/rickiepark/python-machine-learning-book-3rd-edition/master/ch15/example-image-gray.png [following]\n",
            "--2023-11-10 05:55:52--  https://raw.githubusercontent.com/rickiepark/python-machine-learning-book-3rd-edition/master/ch15/example-image-gray.png\n",
            "Resolving raw.githubusercontent.com (raw.githubusercontent.com)... 185.199.108.133, 185.199.109.133, 185.199.110.133, ...\n",
            "Connecting to raw.githubusercontent.com (raw.githubusercontent.com)|185.199.108.133|:443... connected.\n",
            "HTTP request sent, awaiting response... 200 OK\n",
            "Length: 8501 (8.3K) [image/png]\n",
            "Saving to: ‘example-image-gray.png’\n",
            "\n",
            "example-image-gray. 100%[===================>]   8.30K  --.-KB/s    in 0s      \n",
            "\n",
            "2023-11-10 05:55:52 (80.7 MB/s) - ‘example-image-gray.png’ saved [8501/8501]\n",
            "\n"
          ]
        }
      ],
      "source": [
        "# 코랩에서 실행할 경우 이미지를 먼저 다운로드합니다\n",
        "!wget https://git.io/JL5Op -O example-image-gray.png"
      ]
    },
    {
      "cell_type": "code",
      "execution_count": 18,
      "metadata": {
        "colab": {
          "base_uri": "https://localhost:8080/"
        },
        "id": "ZyCzEMJOifCd",
        "outputId": "f62dfe13-fce4-4643-a527-cd289937140e"
      },
      "outputs": [
        {
          "output_type": "stream",
          "name": "stdout",
          "text": [
            "랭크: 3\n",
            "크기: TensorShape([252, 221, 1])\n"
          ]
        }
      ],
      "source": [
        "img_raw = tf.io.read_file('example-image-gray.png')\n",
        "img = tf.image.decode_image(img_raw)\n",
        "tf.print('랭크:', tf.rank(img))\n",
        "tf.print('크기:', img.shape)"
      ]
    },
    {
      "cell_type": "code",
      "execution_count": 19,
      "metadata": {
        "colab": {
          "base_uri": "https://localhost:8080/"
        },
        "id": "OwY7M7mxifCd",
        "outputId": "2acabf18-971f-494d-a9b1-0f246d0952f7"
      },
      "outputs": [
        {
          "output_type": "stream",
          "name": "stdout",
          "text": [
            "랭크: 2\n",
            "크기: (252, 221)\n",
            "새로운 크기: TensorShape([252, 221, 1])\n"
          ]
        },
        {
          "output_type": "stream",
          "name": "stderr",
          "text": [
            "<ipython-input-19-1945a6479fb6>:1: DeprecationWarning: Starting with ImageIO v3 the behavior of this function will switch to that of iio.v3.imread. To keep the current behavior (and make this warning disappear) use `import imageio.v2 as imageio` or call `imageio.v2.imread` directly.\n",
            "  img = imageio.imread('example-image-gray.png')\n"
          ]
        }
      ],
      "source": [
        "img = imageio.imread('example-image-gray.png')\n",
        "tf.print('랭크:', tf.rank(img))\n",
        "tf.print('크기:', img.shape)\n",
        "\n",
        "img_reshaped = tf.reshape(img, (img.shape[0], img.shape[1], 1))\n",
        "tf.print('새로운 크기:', img_reshaped.shape)"
      ]
    },
    {
      "cell_type": "markdown",
      "metadata": {
        "id": "Zy4sB8jVifCd"
      },
      "source": [
        "### 드롭아웃으로 신경망 규제"
      ]
    },
    {
      "cell_type": "code",
      "execution_count": 20,
      "metadata": {
        "colab": {
          "base_uri": "https://localhost:8080/",
          "height": 380
        },
        "id": "Lrc2CPzwifCe",
        "outputId": "d7c6b80b-c0f0-4d9b-ae6a-7ae6bc2d7029"
      },
      "outputs": [
        {
          "output_type": "execute_result",
          "data": {
            "text/html": [
              "<img src=\"https://git.io/JL5Oh\" width=\"700\"/>"
            ],
            "text/plain": [
              "<IPython.core.display.Image object>"
            ]
          },
          "metadata": {},
          "execution_count": 20
        }
      ],
      "source": [
        "Image(url='https://git.io/JL5Oh', width=700)"
      ]
    },
    {
      "cell_type": "code",
      "execution_count": 21,
      "metadata": {
        "id": "Mp-rHuGVifCe"
      },
      "outputs": [],
      "source": [
        "from tensorflow import keras\n",
        "\n",
        "\n",
        "conv_layer = keras.layers.Conv2D(\n",
        "    filters=16, kernel_size=(3, 3),\n",
        "    kernel_regularizer=keras.regularizers.l2(0.001))\n",
        "\n",
        "fc_layer = keras.layers.Dense(\n",
        "    units=16, kernel_regularizer=keras.regularizers.l2(0.001))"
      ]
    },
    {
      "cell_type": "markdown",
      "metadata": {
        "id": "Kv1zkQutifCe"
      },
      "source": [
        "### 분류를 위한 손실 함수\n",
        "\n",
        " * **`BinaryCrossentropy()`**\n",
        "   * `from_logits=False`\n",
        "   * `from_logits=True`\n",
        "\n",
        " * **`CategoricalCrossentropy()`**\n",
        "   * `from_logits=False`\n",
        "   * `from_logits=True`\n",
        "   \n",
        " * **`SparseCategoricalCrossentropy()`**\n",
        "   * `from_logits=False`\n",
        "   * `from_logits=True`"
      ]
    },
    {
      "cell_type": "code",
      "execution_count": 22,
      "metadata": {
        "colab": {
          "base_uri": "https://localhost:8080/",
          "height": 358
        },
        "id": "iOAinQEQifCe",
        "outputId": "64d22161-ad63-4724-daa6-500b4968947e"
      },
      "outputs": [
        {
          "output_type": "execute_result",
          "data": {
            "text/html": [
              "<img src=\"https://git.io/JL53f\" width=\"800\"/>"
            ],
            "text/plain": [
              "<IPython.core.display.Image object>"
            ]
          },
          "metadata": {},
          "execution_count": 22
        }
      ],
      "source": [
        "Image(url='https://git.io/JL53f', width=800)"
      ]
    },
    {
      "cell_type": "code",
      "execution_count": 23,
      "metadata": {
        "colab": {
          "base_uri": "https://localhost:8080/"
        },
        "id": "B5oj-jDgifCf",
        "outputId": "f88bbaac-8178-499b-fa39-1b432f001149"
      },
      "outputs": [
        {
          "output_type": "stream",
          "name": "stdout",
          "text": [
            "BCE (확률): 0.3711 (로짓): 0.3711\n",
            "CCE (확률): 0.5996 (로짓): 0.5996\n",
            "Sparse CCE (확률): 0.5996 (로짓): 0.5996\n"
          ]
        },
        {
          "output_type": "stream",
          "name": "stderr",
          "text": [
            "<ipython-input-23-46de39851a3f>:27: DeprecationWarning: distutils Version classes are deprecated. Use packaging.version instead.\n",
            "  if Version(tf.__version__) >= '2.3.0':\n"
          ]
        }
      ],
      "source": [
        "from packaging.version import Version\n",
        "\n",
        "\n",
        "####### 이진 크로스 엔트로피\n",
        "bce_probas = tf.keras.losses.BinaryCrossentropy(from_logits=False)\n",
        "bce_logits = tf.keras.losses.BinaryCrossentropy(from_logits=True)\n",
        "\n",
        "logits = tf.constant([0.8])\n",
        "probas = tf.keras.activations.sigmoid(logits)\n",
        "\n",
        "tf.print(\n",
        "    'BCE (확률): {:.4f}'.format(\n",
        "    bce_probas(y_true=[1], y_pred=probas)),\n",
        "    '(로짓): {:.4f}'.format(\n",
        "    bce_logits(y_true=[1], y_pred=logits)))\n",
        "\n",
        "\n",
        "####### 범주형 크로스 엔트로피\n",
        "cce_probas = tf.keras.losses.CategoricalCrossentropy(\n",
        "    from_logits=False)\n",
        "cce_logits = tf.keras.losses.CategoricalCrossentropy(\n",
        "    from_logits=True)\n",
        "\n",
        "logits = tf.constant([[1.5, 0.8, 2.1]])\n",
        "probas = tf.keras.activations.softmax(logits)\n",
        "\n",
        "if Version(tf.__version__) >= Version('2.3.0'):\n",
        "    tf.print(\n",
        "        'CCE (확률): {:.4f}'.format(\n",
        "        cce_probas(y_true=[[0, 0, 1]], y_pred=probas)),\n",
        "        '(로짓): {:.4f}'.format(\n",
        "        cce_logits(y_true=[[0, 0, 1]], y_pred=logits)))\n",
        "else:\n",
        "    tf.print(\n",
        "        'CCE (확률): {:.4f}'.format(\n",
        "        cce_probas(y_true=[0, 0, 1], y_pred=probas)),\n",
        "        '(로짓): {:.4f}'.format(\n",
        "        cce_logits(y_true=[0, 0, 1], y_pred=logits)))\n",
        "\n",
        "####### 희소 범주형 크로스 엔트로피\n",
        "sp_cce_probas = tf.keras.losses.SparseCategoricalCrossentropy(\n",
        "    from_logits=False)\n",
        "sp_cce_logits = tf.keras.losses.SparseCategoricalCrossentropy(\n",
        "    from_logits=True)\n",
        "\n",
        "tf.print(\n",
        "    'Sparse CCE (확률): {:.4f}'.format(\n",
        "    sp_cce_probas(y_true=[2], y_pred=probas)),\n",
        "    '(로짓): {:.4f}'.format(\n",
        "    sp_cce_logits(y_true=[2], y_pred=logits)))"
      ]
    },
    {
      "cell_type": "markdown",
      "metadata": {
        "id": "EcQnpguXifCf"
      },
      "source": [
        "## 텐서플로를 사용하여 심층 합성곱 신경망 구현\n",
        "\n",
        "### 다층 CNN 구조"
      ]
    },
    {
      "cell_type": "code",
      "execution_count": 24,
      "metadata": {
        "colab": {
          "base_uri": "https://localhost:8080/",
          "height": 289
        },
        "id": "n893uGaEifCf",
        "outputId": "0da03fb0-cf78-4d4f-e565-3893561c8c10"
      },
      "outputs": [
        {
          "output_type": "execute_result",
          "data": {
            "text/html": [
              "<img src=\"https://git.io/JL53U\" width=\"800\"/>"
            ],
            "text/plain": [
              "<IPython.core.display.Image object>"
            ]
          },
          "metadata": {},
          "execution_count": 24
        }
      ],
      "source": [
        "Image(url='https://git.io/JL53U', width=800)"
      ]
    },
    {
      "cell_type": "markdown",
      "metadata": {
        "id": "klgI_t62ifCf"
      },
      "source": [
        "### 데이터 적재와 전처리"
      ]
    },
    {
      "cell_type": "code",
      "execution_count": 25,
      "metadata": {
        "id": "qGT2_kbKifCf"
      },
      "outputs": [],
      "source": [
        "import tensorflow_datasets as tfds\n",
        "import pandas as pd\n",
        "\n",
        "import matplotlib.pyplot as plt"
      ]
    },
    {
      "cell_type": "code",
      "execution_count": 26,
      "metadata": {
        "colab": {
          "base_uri": "https://localhost:8080/",
          "height": 123,
          "referenced_widgets": [
            "f5811f7a80374167ab567e6993aa7305",
            "f14a9a46ed324257ab26fbccf5ed5fa6",
            "b7a23744985b4457a51e9a9dd5f52b44",
            "c190d2c40d1045cca1cef4ec4261473d",
            "4d7074fe24804f2d8af5c1806cde1098",
            "1297a1c9e5dc4515a8c8cdec783119a1",
            "cd15ff3ec76947d29c9f2be267ed92c0",
            "6ed5ab9f93ca400faa09f9ad89ecd8e2",
            "8ef4468985274fb8a0e7566755228f80",
            "cc52b2d1cf7c4261a25b9701cbef5fbf",
            "3698440c0e9a420ab29237955cdd5bb0"
          ]
        },
        "id": "csMbYS6PifCf",
        "outputId": "235fd882-c2f7-49f2-8057-92f82dabe7c8"
      },
      "outputs": [
        {
          "output_type": "stream",
          "name": "stdout",
          "text": [
            "Downloading and preparing dataset 11.06 MiB (download: 11.06 MiB, generated: 21.00 MiB, total: 32.06 MiB) to /root/tensorflow_datasets/mnist/3.0.1...\n"
          ]
        },
        {
          "output_type": "display_data",
          "data": {
            "text/plain": [
              "Dl Completed...:   0%|          | 0/5 [00:00<?, ? file/s]"
            ],
            "application/vnd.jupyter.widget-view+json": {
              "version_major": 2,
              "version_minor": 0,
              "model_id": "f5811f7a80374167ab567e6993aa7305"
            }
          },
          "metadata": {}
        },
        {
          "output_type": "stream",
          "name": "stdout",
          "text": [
            "Dataset mnist downloaded and prepared to /root/tensorflow_datasets/mnist/3.0.1. Subsequent calls will reuse this data.\n",
            "dict_keys(['test', 'train'])\n"
          ]
        }
      ],
      "source": [
        "## MNIST 데이터셋\n",
        "\n",
        "mnist_bldr = tfds.builder('mnist')\n",
        "mnist_bldr.download_and_prepare()\n",
        "datasets = mnist_bldr.as_dataset(shuffle_files=False)\n",
        "print(datasets.keys())\n",
        "mnist_train_orig, mnist_test_orig = datasets['train'], datasets['test']"
      ]
    },
    {
      "cell_type": "code",
      "execution_count": 27,
      "metadata": {
        "id": "B0b0Q15oifCg"
      },
      "outputs": [],
      "source": [
        "BUFFER_SIZE = 10000\n",
        "BATCH_SIZE = 64\n",
        "NUM_EPOCHS = 20"
      ]
    },
    {
      "cell_type": "code",
      "execution_count": 28,
      "metadata": {
        "id": "PnBbEngHifCg"
      },
      "outputs": [],
      "source": [
        "mnist_train = mnist_train_orig.map(\n",
        "    lambda item: (tf.cast(item['image'], tf.float32)/255.0,\n",
        "                  tf.cast(item['label'], tf.int32)))\n",
        "\n",
        "mnist_test = mnist_test_orig.map(\n",
        "    lambda item: (tf.cast(item['image'], tf.float32)/255.0,\n",
        "                  tf.cast(item['label'], tf.int32)))\n",
        "\n",
        "tf.random.set_seed(1)\n",
        "\n",
        "mnist_train = mnist_train.shuffle(buffer_size=BUFFER_SIZE,\n",
        "                                  reshuffle_each_iteration=False)\n",
        "\n",
        "mnist_valid = mnist_train.take(10000).batch(BATCH_SIZE)\n",
        "mnist_train = mnist_train.skip(10000).batch(BATCH_SIZE)"
      ]
    },
    {
      "cell_type": "markdown",
      "metadata": {
        "id": "HIa1GMPZifCg"
      },
      "source": [
        "### 텐서플로 케라스 API를 사용해 CNN 구현하기\n",
        "\n",
        "#### 케라스에서 CNN 층 설정하기\n",
        "\n",
        " * **Conv2D:** `tf.keras.layers.Conv2D`\n",
        "   * `filters`\n",
        "   * `kernel_size`\n",
        "   * `strides`\n",
        "   * `padding`\n",
        "   \n",
        "   \n",
        " * **MaxPool2D:** `tf.keras.layers.MaxPool2D`\n",
        "   * `pool_size`\n",
        "   * `strides`\n",
        "   * `padding`\n",
        "   \n",
        "   \n",
        " * **Dropout** `tf.keras.layers.Dropout2D`\n",
        "   * `rate`"
      ]
    },
    {
      "cell_type": "markdown",
      "metadata": {
        "id": "Dg1drzu5ifCg"
      },
      "source": [
        "#### 케라스로 CNN 구성하기"
      ]
    },
    {
      "cell_type": "code",
      "execution_count": 29,
      "metadata": {
        "id": "oZnaVWxQifCg"
      },
      "outputs": [],
      "source": [
        "model = tf.keras.Sequential()\n",
        "\n",
        "model.add(tf.keras.layers.Conv2D(\n",
        "    filters=32, kernel_size=(5, 5),\n",
        "    strides=(1, 1), padding='same',\n",
        "    data_format='channels_last',\n",
        "    name='conv_1', activation='relu'))\n",
        "\n",
        "model.add(tf.keras.layers.MaxPool2D(\n",
        "    pool_size=(2, 2), name='pool_1'))\n",
        "\n",
        "model.add(tf.keras.layers.Conv2D(\n",
        "    filters=64, kernel_size=(5, 5),\n",
        "    strides=(1, 1), padding='same',\n",
        "    name='conv_2', activation='relu'))\n",
        "\n",
        "model.add(tf.keras.layers.MaxPool2D(pool_size=(2, 2), name='pool_2'))"
      ]
    },
    {
      "cell_type": "code",
      "execution_count": 30,
      "metadata": {
        "colab": {
          "base_uri": "https://localhost:8080/"
        },
        "id": "v5b9cESoifCg",
        "outputId": "53c0024d-7d48-438d-affc-ecf2631fb14c"
      },
      "outputs": [
        {
          "output_type": "execute_result",
          "data": {
            "text/plain": [
              "TensorShape([16, 7, 7, 64])"
            ]
          },
          "metadata": {},
          "execution_count": 30
        }
      ],
      "source": [
        "model.compute_output_shape(input_shape=(16, 28, 28, 1))"
      ]
    },
    {
      "cell_type": "code",
      "execution_count": 31,
      "metadata": {
        "colab": {
          "base_uri": "https://localhost:8080/"
        },
        "id": "CinCB6uKifCg",
        "outputId": "d57f5521-4f1a-41a1-893d-6cb2aef1d1c7"
      },
      "outputs": [
        {
          "output_type": "execute_result",
          "data": {
            "text/plain": [
              "TensorShape([16, 3136])"
            ]
          },
          "metadata": {},
          "execution_count": 31
        }
      ],
      "source": [
        "model.add(tf.keras.layers.Flatten())\n",
        "\n",
        "model.compute_output_shape(input_shape=(16, 28, 28, 1))"
      ]
    },
    {
      "cell_type": "code",
      "execution_count": 32,
      "metadata": {
        "id": "9zQEJSKTifCh"
      },
      "outputs": [],
      "source": [
        "model.add(tf.keras.layers.Dense(\n",
        "    units=1024, name='fc_1',\n",
        "    activation='relu'))\n",
        "\n",
        "model.add(tf.keras.layers.Dropout(\n",
        "    rate=0.5))\n",
        "\n",
        "model.add(tf.keras.layers.Dense(\n",
        "    units=10, name='fc_2',\n",
        "    activation='softmax'))"
      ]
    },
    {
      "cell_type": "code",
      "execution_count": 33,
      "metadata": {
        "colab": {
          "base_uri": "https://localhost:8080/"
        },
        "id": "xd3wAxU2ifCh",
        "outputId": "86db01c6-5ef0-4015-a94f-cf26ee20f3a8"
      },
      "outputs": [
        {
          "output_type": "execute_result",
          "data": {
            "text/plain": [
              "TensorShape([16, 10])"
            ]
          },
          "metadata": {},
          "execution_count": 33
        }
      ],
      "source": [
        "tf.random.set_seed(1)\n",
        "model.build(input_shape=(None, 28, 28, 1))\n",
        "\n",
        "model.compute_output_shape(input_shape=(16, 28, 28, 1))"
      ]
    },
    {
      "cell_type": "code",
      "execution_count": 34,
      "metadata": {
        "colab": {
          "base_uri": "https://localhost:8080/"
        },
        "id": "sKsAwaKtifCh",
        "outputId": "bc840e78-9688-41f6-dc39-1ff7bda4b682"
      },
      "outputs": [
        {
          "output_type": "stream",
          "name": "stdout",
          "text": [
            "Model: \"sequential\"\n",
            "_________________________________________________________________\n",
            " Layer (type)                Output Shape              Param #   \n",
            "=================================================================\n",
            " conv_1 (Conv2D)             (None, 28, 28, 32)        832       \n",
            "                                                                 \n",
            " pool_1 (MaxPooling2D)       (None, 14, 14, 32)        0         \n",
            "                                                                 \n",
            " conv_2 (Conv2D)             (None, 14, 14, 64)        51264     \n",
            "                                                                 \n",
            " pool_2 (MaxPooling2D)       (None, 7, 7, 64)          0         \n",
            "                                                                 \n",
            " flatten (Flatten)           (None, 3136)              0         \n",
            "                                                                 \n",
            " fc_1 (Dense)                (None, 1024)              3212288   \n",
            "                                                                 \n",
            " dropout (Dropout)           (None, 1024)              0         \n",
            "                                                                 \n",
            " fc_2 (Dense)                (None, 10)                10250     \n",
            "                                                                 \n",
            "=================================================================\n",
            "Total params: 3274634 (12.49 MB)\n",
            "Trainable params: 3274634 (12.49 MB)\n",
            "Non-trainable params: 0 (0.00 Byte)\n",
            "_________________________________________________________________\n"
          ]
        }
      ],
      "source": [
        "model.summary()"
      ]
    },
    {
      "cell_type": "code",
      "execution_count": 35,
      "metadata": {
        "colab": {
          "base_uri": "https://localhost:8080/"
        },
        "id": "9-yPq6g9ifCh",
        "outputId": "2822edc0-4a57-41c0-87d5-3bf2ed64c1fb"
      },
      "outputs": [
        {
          "output_type": "stream",
          "name": "stdout",
          "text": [
            "Epoch 1/20\n",
            "782/782 [==============================] - 23s 10ms/step - loss: 0.1423 - accuracy: 0.9558 - val_loss: 0.0472 - val_accuracy: 0.9860\n",
            "Epoch 2/20\n",
            "782/782 [==============================] - 6s 7ms/step - loss: 0.0449 - accuracy: 0.9856 - val_loss: 0.0396 - val_accuracy: 0.9885\n",
            "Epoch 3/20\n",
            "782/782 [==============================] - 7s 8ms/step - loss: 0.0302 - accuracy: 0.9906 - val_loss: 0.0399 - val_accuracy: 0.9886\n",
            "Epoch 4/20\n",
            "782/782 [==============================] - 8s 9ms/step - loss: 0.0225 - accuracy: 0.9930 - val_loss: 0.0375 - val_accuracy: 0.9893\n",
            "Epoch 5/20\n",
            "782/782 [==============================] - 7s 7ms/step - loss: 0.0175 - accuracy: 0.9943 - val_loss: 0.0361 - val_accuracy: 0.9910\n",
            "Epoch 6/20\n",
            "782/782 [==============================] - 7s 8ms/step - loss: 0.0141 - accuracy: 0.9953 - val_loss: 0.0374 - val_accuracy: 0.9897\n",
            "Epoch 7/20\n",
            "782/782 [==============================] - 8s 9ms/step - loss: 0.0131 - accuracy: 0.9956 - val_loss: 0.0377 - val_accuracy: 0.9898\n",
            "Epoch 8/20\n",
            "782/782 [==============================] - 6s 7ms/step - loss: 0.0121 - accuracy: 0.9961 - val_loss: 0.0389 - val_accuracy: 0.9916\n",
            "Epoch 9/20\n",
            "782/782 [==============================] - 7s 8ms/step - loss: 0.0104 - accuracy: 0.9969 - val_loss: 0.0400 - val_accuracy: 0.9903\n",
            "Epoch 10/20\n",
            "782/782 [==============================] - 6s 7ms/step - loss: 0.0083 - accuracy: 0.9971 - val_loss: 0.0446 - val_accuracy: 0.9908\n",
            "Epoch 11/20\n",
            "782/782 [==============================] - 6s 7ms/step - loss: 0.0084 - accuracy: 0.9972 - val_loss: 0.0542 - val_accuracy: 0.9906\n",
            "Epoch 12/20\n",
            "782/782 [==============================] - 7s 8ms/step - loss: 0.0088 - accuracy: 0.9972 - val_loss: 0.0515 - val_accuracy: 0.9911\n",
            "Epoch 13/20\n",
            "782/782 [==============================] - 6s 7ms/step - loss: 0.0068 - accuracy: 0.9977 - val_loss: 0.0548 - val_accuracy: 0.9908\n",
            "Epoch 14/20\n",
            "782/782 [==============================] - 6s 7ms/step - loss: 0.0085 - accuracy: 0.9974 - val_loss: 0.0550 - val_accuracy: 0.9915\n",
            "Epoch 15/20\n",
            "782/782 [==============================] - 7s 8ms/step - loss: 0.0051 - accuracy: 0.9986 - val_loss: 0.0564 - val_accuracy: 0.9906\n",
            "Epoch 16/20\n",
            "782/782 [==============================] - 6s 7ms/step - loss: 0.0057 - accuracy: 0.9982 - val_loss: 0.0578 - val_accuracy: 0.9910\n",
            "Epoch 17/20\n",
            "782/782 [==============================] - 7s 8ms/step - loss: 0.0067 - accuracy: 0.9981 - val_loss: 0.0679 - val_accuracy: 0.9897\n",
            "Epoch 18/20\n",
            "782/782 [==============================] - 6s 7ms/step - loss: 0.0058 - accuracy: 0.9983 - val_loss: 0.0590 - val_accuracy: 0.9918\n",
            "Epoch 19/20\n",
            "782/782 [==============================] - 7s 8ms/step - loss: 0.0046 - accuracy: 0.9987 - val_loss: 0.0581 - val_accuracy: 0.9907\n",
            "Epoch 20/20\n",
            "782/782 [==============================] - 7s 8ms/step - loss: 0.0074 - accuracy: 0.9977 - val_loss: 0.0652 - val_accuracy: 0.9908\n"
          ]
        }
      ],
      "source": [
        "model.compile(optimizer=tf.keras.optimizers.Adam(),\n",
        "              loss=tf.keras.losses.SparseCategoricalCrossentropy(),\n",
        "              metrics=['accuracy']) # same as `tf.keras.metrics.SparseCategoricalAccuracy(name='accuracy')`\n",
        "\n",
        "history = model.fit(mnist_train, epochs=NUM_EPOCHS,\n",
        "                    validation_data=mnist_valid,\n",
        "                    shuffle=True)"
      ]
    },
    {
      "cell_type": "code",
      "execution_count": 36,
      "metadata": {
        "colab": {
          "base_uri": "https://localhost:8080/",
          "height": 394
        },
        "id": "a06czk7ZifCh",
        "outputId": "f4e1ed18-a87a-48f9-c2c5-f32b79b7d1ff"
      },
      "outputs": [
        {
          "output_type": "display_data",
          "data": {
            "text/plain": [
              "<Figure size 1200x400 with 2 Axes>"
            ],
            "image/png": "[encoded data removed]"
          },
          "metadata": {}
        }
      ],
      "source": [
        "hist = history.history\n",
        "x_arr = np.arange(len(hist['loss'])) + 1\n",
        "\n",
        "fig = plt.figure(figsize=(12, 4))\n",
        "ax = fig.add_subplot(1, 2, 1)\n",
        "ax.plot(x_arr, hist['loss'], '-o', label='Train loss')\n",
        "ax.plot(x_arr, hist['val_loss'], '--<', label='Validation loss')\n",
        "ax.set_xlabel('Epoch', size=15)\n",
        "ax.set_ylabel('Loss', size=15)\n",
        "ax.legend(fontsize=15)\n",
        "ax = fig.add_subplot(1, 2, 2)\n",
        "ax.plot(x_arr, hist['accuracy'], '-o', label='Train acc.')\n",
        "ax.plot(x_arr, hist['val_accuracy'], '--<', label='Validation acc.')\n",
        "ax.legend(fontsize=15)\n",
        "ax.set_xlabel('Epoch', size=15)\n",
        "ax.set_ylabel('Accuracy', size=15)\n",
        "\n",
        "#plt.savefig('images/15_12.png', dpi=300)\n",
        "plt.show()"
      ]
    },
    {
      "cell_type": "code",
      "execution_count": 37,
      "metadata": {
        "colab": {
          "base_uri": "https://localhost:8080/"
        },
        "id": "d3dx-LhlifCi",
        "outputId": "c2d73fb8-ef1d-4e67-8d7b-d3113ba106dd"
      },
      "outputs": [
        {
          "output_type": "stream",
          "name": "stdout",
          "text": [
            "500/500 [==============================] - 2s 4ms/step - loss: 0.0503 - accuracy: 0.9919\n",
            "\n",
            "테스트 정확도 99.19%\n"
          ]
        }
      ],
      "source": [
        "test_results = model.evaluate(mnist_test.batch(20))\n",
        "print('\\n테스트 정확도 {:.2f}%'.format(test_results[1]*100))"
      ]
    },
    {
      "cell_type": "code",
      "execution_count": 38,
      "metadata": {
        "colab": {
          "base_uri": "https://localhost:8080/",
          "height": 373
        },
        "id": "T7kb_hRaifCi",
        "outputId": "c599467c-df28-4170-dee7-2b517a489892",
        "scrolled": true
      },
      "outputs": [
        {
          "output_type": "stream",
          "name": "stdout",
          "text": [
            "TensorShape([12, 10])\n",
            "tf.Tensor([2 0 4 8 7 6 0 6 3 1 8 0], shape=(12,), dtype=int64)\n"
          ]
        },
        {
          "output_type": "display_data",
          "data": {
            "text/plain": [
              "<Figure size 1200x400 with 12 Axes>"
            ],
            "image/png": "[encoded data removed]"
          },
          "metadata": {}
        }
      ],
      "source": [
        "batch_test = next(iter(mnist_test.batch(12)))\n",
        "\n",
        "preds = model(batch_test[0])\n",
        "\n",
        "tf.print(preds.shape)\n",
        "preds = tf.argmax(preds, axis=1)\n",
        "print(preds)\n",
        "\n",
        "fig = plt.figure(figsize=(12, 4))\n",
        "for i in range(12):\n",
        "    ax = fig.add_subplot(2, 6, i+1)\n",
        "    ax.set_xticks([]); ax.set_yticks([])\n",
        "    img = batch_test[0][i, :, :, 0]\n",
        "    ax.imshow(img, cmap='gray_r')\n",
        "    ax.text(0.9, 0.1, '{}'.format(preds[i]),\n",
        "            size=15, color='blue',\n",
        "            horizontalalignment='center',\n",
        "            verticalalignment='center',\n",
        "            transform=ax.transAxes)\n",
        "\n",
        "#plt.savefig('images/15_13.png', dpi=300)\n",
        "plt.show()"
      ]
    },
    {
      "cell_type": "code",
      "execution_count": 39,
      "metadata": {
        "id": "5sLLwpHLifCi",
        "outputId": "39ae8e83-1323-4374-f0db-40c65383bd33",
        "colab": {
          "base_uri": "https://localhost:8080/"
        }
      },
      "outputs": [
        {
          "output_type": "stream",
          "name": "stderr",
          "text": [
            "/usr/local/lib/python3.10/dist-packages/keras/src/engine/training.py:3079: UserWarning: You are saving your model as an HDF5 file via `model.save()`. This file format is considered legacy. We recommend using instead the native Keras format, e.g. `model.save('my_model.keras')`.\n",
            "  saving_api.save_model(\n"
          ]
        }
      ],
      "source": [
        "import os\n",
        "\n",
        "if not os.path.exists('models'):\n",
        "    os.mkdir('models')\n",
        "\n",
        "\n",
        "model.save('models/mnist-cnn.h5')"
      ]
    }
  ],
  "metadata": {
    "accelerator": "GPU",
    "colab": {
      "name": "ch15_part1.ipynb",
      "provenance": []
    },
    "kernelspec": {
      "display_name": "Python 3",
      "language": "python",
      "name": "python3"
    },
    "language_info": {
      "codemirror_mode": {
        "name": "ipython",
        "version": 3
      },
      "file_extension": ".py",
      "mimetype": "text/x-python",
      "name": "python",
      "nbconvert_exporter": "python",
      "pygments_lexer": "ipython3",
      "version": "3.7.3"
    },
    "widgets": {
      "application/vnd.jupyter.widget-state+json": {
        "f5811f7a80374167ab567e6993aa7305": {
          "model_module": "@jupyter-widgets/controls",
          "model_name": "HBoxModel",
          "model_module_version": "1.5.0",
          "state": {
            "_dom_classes": [],
            "_model_module": "@jupyter-widgets/controls",
            "_model_module_version": "1.5.0",
            "_model_name": "HBoxModel",
            "_view_count": null,
            "_view_module": "@jupyter-widgets/controls",
            "_view_module_version": "1.5.0",
            "_view_name": "HBoxView",
            "box_style": "",
            "children": [
              "IPY_MODEL_f14a9a46ed324257ab26fbccf5ed5fa6",
              "IPY_MODEL_b7a23744985b4457a51e9a9dd5f52b44",
              "IPY_MODEL_c190d2c40d1045cca1cef4ec4261473d"
            ],
            "layout": "IPY_MODEL_4d7074fe24804f2d8af5c1806cde1098"
          }
        },
        "f14a9a46ed324257ab26fbccf5ed5fa6": {
          "model_module": "@jupyter-widgets/controls",
          "model_name": "HTMLModel",
          "model_module_version": "1.5.0",
          "state": {
            "_dom_classes": [],
            "_model_module": "@jupyter-widgets/controls",
            "_model_module_version": "1.5.0",
            "_model_name": "HTMLModel",
            "_view_count": null,
            "_view_module": "@jupyter-widgets/controls",
            "_view_module_version": "1.5.0",
            "_view_name": "HTMLView",
            "description": "",
            "description_tooltip": null,
            "layout": "IPY_MODEL_1297a1c9e5dc4515a8c8cdec783119a1",
            "placeholder": "​",
            "style": "IPY_MODEL_cd15ff3ec76947d29c9f2be267ed92c0",
            "value": "Dl Completed...: 100%"
          }
        },
        "b7a23744985b4457a51e9a9dd5f52b44": {
          "model_module": "@jupyter-widgets/controls",
          "model_name": "FloatProgressModel",
          "model_module_version": "1.5.0",
          "state": {
            "_dom_classes": [],
            "_model_module": "@jupyter-widgets/controls",
            "_model_module_version": "1.5.0",
            "_model_name": "FloatProgressModel",
            "_view_count": null,
            "_view_module": "@jupyter-widgets/controls",
            "_view_module_version": "1.5.0",
            "_view_name": "ProgressView",
            "bar_style": "success",
            "description": "",
            "description_tooltip": null,
            "layout": "IPY_MODEL_6ed5ab9f93ca400faa09f9ad89ecd8e2",
            "max": 5,
            "min": 0,
            "orientation": "horizontal",
            "style": "IPY_MODEL_8ef4468985274fb8a0e7566755228f80",
            "value": 5
          }
        },
        "c190d2c40d1045cca1cef4ec4261473d": {
          "model_module": "@jupyter-widgets/controls",
          "model_name": "HTMLModel",
          "model_module_version": "1.5.0",
          "state": {
            "_dom_classes": [],
            "_model_module": "@jupyter-widgets/controls",
            "_model_module_version": "1.5.0",
            "_model_name": "HTMLModel",
            "_view_count": null,
            "_view_module": "@jupyter-widgets/controls",
            "_view_module_version": "1.5.0",
            "_view_name": "HTMLView",
            "description": "",
            "description_tooltip": null,
            "layout": "IPY_MODEL_cc52b2d1cf7c4261a25b9701cbef5fbf",
            "placeholder": "​",
            "style": "IPY_MODEL_3698440c0e9a420ab29237955cdd5bb0",
            "value": " 5/5 [00:00&lt;00:00, 12.25 file/s]"
          }
        },
        "4d7074fe24804f2d8af5c1806cde1098": {
          "model_module": "@jupyter-widgets/base",
          "model_name": "LayoutModel",
          "model_module_version": "1.2.0",
          "state": {
            "_model_module": "@jupyter-widgets/base",
            "_model_module_version": "1.2.0",
            "_model_name": "LayoutModel",
            "_view_count": null,
            "_view_module": "@jupyter-widgets/base",
            "_view_module_version": "1.2.0",
            "_view_name": "LayoutView",
            "align_content": null,
            "align_items": null,
            "align_self": null,
            "border": null,
            "bottom": null,
            "display": null,
            "flex": null,
            "flex_flow": null,
            "grid_area": null,
            "grid_auto_columns": null,
            "grid_auto_flow": null,
            "grid_auto_rows": null,
            "grid_column": null,
            "grid_gap": null,
            "grid_row": null,
            "grid_template_areas": null,
            "grid_template_columns": null,
            "grid_template_rows": null,
            "height": null,
            "justify_content": null,
            "justify_items": null,
            "left": null,
            "margin": null,
            "max_height": null,
            "max_width": null,
            "min_height": null,
            "min_width": null,
            "object_fit": null,
            "object_position": null,
            "order": null,
            "overflow": null,
            "overflow_x": null,
            "overflow_y": null,
            "padding": null,
            "right": null,
            "top": null,
            "visibility": null,
            "width": null
          }
        },
        "1297a1c9e5dc4515a8c8cdec783119a1": {
          "model_module": "@jupyter-widgets/base",
          "model_name": "LayoutModel",
          "model_module_version": "1.2.0",
          "state": {
            "_model_module": "@jupyter-widgets/base",
            "_model_module_version": "1.2.0",
            "_model_name": "LayoutModel",
            "_view_count": null,
            "_view_module": "@jupyter-widgets/base",
            "_view_module_version": "1.2.0",
            "_view_name": "LayoutView",
            "align_content": null,
            "align_items": null,
            "align_self": null,
            "border": null,
            "bottom": null,
            "display": null,
            "flex": null,
            "flex_flow": null,
            "grid_area": null,
            "grid_auto_columns": null,
            "grid_auto_flow": null,
            "grid_auto_rows": null,
            "grid_column": null,
            "grid_gap": null,
            "grid_row": null,
            "grid_template_areas": null,
            "grid_template_columns": null,
            "grid_template_rows": null,
            "height": null,
            "justify_content": null,
            "justify_items": null,
            "left": null,
            "margin": null,
            "max_height": null,
            "max_width": null,
            "min_height": null,
            "min_width": null,
            "object_fit": null,
            "object_position": null,
            "order": null,
            "overflow": null,
            "overflow_x": null,
            "overflow_y": null,
            "padding": null,
            "right": null,
            "top": null,
            "visibility": null,
            "width": null
          }
        },
        "cd15ff3ec76947d29c9f2be267ed92c0": {
          "model_module": "@jupyter-widgets/controls",
          "model_name": "DescriptionStyleModel",
          "model_module_version": "1.5.0",
          "state": {
            "_model_module": "@jupyter-widgets/controls",
            "_model_module_version": "1.5.0",
            "_model_name": "DescriptionStyleModel",
            "_view_count": null,
            "_view_module": "@jupyter-widgets/base",
            "_view_module_version": "1.2.0",
            "_view_name": "StyleView",
            "description_width": ""
          }
        },
        "6ed5ab9f93ca400faa09f9ad89ecd8e2": {
          "model_module": "@jupyter-widgets/base",
          "model_name": "LayoutModel",
          "model_module_version": "1.2.0",
          "state": {
            "_model_module": "@jupyter-widgets/base",
            "_model_module_version": "1.2.0",
            "_model_name": "LayoutModel",
            "_view_count": null,
            "_view_module": "@jupyter-widgets/base",
            "_view_module_version": "1.2.0",
            "_view_name": "LayoutView",
            "align_content": null,
            "align_items": null,
            "align_self": null,
            "border": null,
            "bottom": null,
            "display": null,
            "flex": null,
            "flex_flow": null,
            "grid_area": null,
            "grid_auto_columns": null,
            "grid_auto_flow": null,
            "grid_auto_rows": null,
            "grid_column": null,
            "grid_gap": null,
            "grid_row": null,
            "grid_template_areas": null,
            "grid_template_columns": null,
            "grid_template_rows": null,
            "height": null,
            "justify_content": null,
            "justify_items": null,
            "left": null,
            "margin": null,
            "max_height": null,
            "max_width": null,
            "min_height": null,
            "min_width": null,
            "object_fit": null,
            "object_position": null,
            "order": null,
            "overflow": null,
            "overflow_x": null,
            "overflow_y": null,
            "padding": null,
            "right": null,
            "top": null,
            "visibility": null,
            "width": null
          }
        },
        "8ef4468985274fb8a0e7566755228f80": {
          "model_module": "@jupyter-widgets/controls",
          "model_name": "ProgressStyleModel",
          "model_module_version": "1.5.0",
          "state": {
            "_model_module": "@jupyter-widgets/controls",
            "_model_module_version": "1.5.0",
            "_model_name": "ProgressStyleModel",
            "_view_count": null,
            "_view_module": "@jupyter-widgets/base",
            "_view_module_version": "1.2.0",
            "_view_name": "StyleView",
            "bar_color": null,
            "description_width": ""
          }
        },
        "cc52b2d1cf7c4261a25b9701cbef5fbf": {
          "model_module": "@jupyter-widgets/base",
          "model_name": "LayoutModel",
          "model_module_version": "1.2.0",
          "state": {
            "_model_module": "@jupyter-widgets/base",
            "_model_module_version": "1.2.0",
            "_model_name": "LayoutModel",
            "_view_count": null,
            "_view_module": "@jupyter-widgets/base",
            "_view_module_version": "1.2.0",
            "_view_name": "LayoutView",
            "align_content": null,
            "align_items": null,
            "align_self": null,
            "border": null,
            "bottom": null,
            "display": null,
            "flex": null,
            "flex_flow": null,
            "grid_area": null,
            "grid_auto_columns": null,
            "grid_auto_flow": null,
            "grid_auto_rows": null,
            "grid_column": null,
            "grid_gap": null,
            "grid_row": null,
            "grid_template_areas": null,
            "grid_template_columns": null,
            "grid_template_rows": null,
            "height": null,
            "justify_content": null,
            "justify_items": null,
            "left": null,
            "margin": null,
            "max_height": null,
            "max_width": null,
            "min_height": null,
            "min_width": null,
            "object_fit": null,
            "object_position": null,
            "order": null,
            "overflow": null,
            "overflow_x": null,
            "overflow_y": null,
            "padding": null,
            "right": null,
            "top": null,
            "visibility": null,
            "width": null
          }
        },
        "3698440c0e9a420ab29237955cdd5bb0": {
          "model_module": "@jupyter-widgets/controls",
          "model_name": "DescriptionStyleModel",
          "model_module_version": "1.5.0",
          "state": {
            "_model_module": "@jupyter-widgets/controls",
            "_model_module_version": "1.5.0",
            "_model_name": "DescriptionStyleModel",
            "_view_count": null,
            "_view_module": "@jupyter-widgets/base",
            "_view_module_version": "1.2.0",
            "_view_name": "StyleView",
            "description_width": ""
          }
        }
      }
    }
  },
  "nbformat": 4,
  "nbformat_minor": 0
}