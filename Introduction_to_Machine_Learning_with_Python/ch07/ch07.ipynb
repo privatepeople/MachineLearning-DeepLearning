{
  "cells": [
    {
      "cell_type": "markdown",
      "metadata": {
        "id": "RcbU7uu7akGj"
      },
      "source": [
        "# 머신 러닝 교과서 3판"
      ]
    },
    {
      "cell_type": "markdown",
      "metadata": {
        "id": "WOFUIVf8akGn"
      },
      "source": [
        "# 7장 - 다양한 모델을 결합한 앙상블 학습"
      ]
    },
    {
      "cell_type": "markdown",
      "metadata": {
        "id": "CwcCkUCsakGn"
      },
      "source": [
        "**아래 링크를 통해 이 노트북을 주피터 노트북 뷰어(nbviewer.jupyter.org)로 보거나 구글 코랩(colab.research.google.com)에서 실행할 수 있습니다.**\n",
        "\n",
        "<table class=\"tfo-notebook-buttons\" align=\"left\">\n",
        "  <td>\n",
        "    <a target=\"_blank\" href=\"https://nbviewer.org/github/rickiepark/python-machine-learning-book-3rd-edition/blob/master/ch07/ch07.ipynb\"><img src=\"https://jupyter.org/assets/share.png\" width=\"60\" />주피터 노트북 뷰어로 보기</a>\n",
        "  </td>\n",
        "  <td>\n",
        "    <a target=\"_blank\" href=\"https://colab.research.google.com/github/rickiepark/python-machine-learning-book-3rd-edition/blob/master/ch07/ch07.ipynb\"><img src=\"https://www.tensorflow.org/images/colab_logo_32px.png\" />구글 코랩(Colab)에서 실행하기</a>\n",
        "  </td>\n",
        "</table>"
      ]
    },
    {
      "cell_type": "markdown",
      "metadata": {
        "id": "vC0qpBcbakGo"
      },
      "source": [
        "### 목차"
      ]
    },
    {
      "cell_type": "markdown",
      "metadata": {
        "id": "rq9yuQBxakGo"
      },
      "source": [
        "- 앙상블 학습\n",
        "- 다수결 투표를 사용한 분류 앙상블\n",
        "    - 간단한 다수결 투표 분류기 구현\n",
        "    - 다수결 투표 방식을 사용하여 예측 만들기\n",
        "    - 앙상블 분류기의 평가와 튜닝\n",
        "- 배깅: 부트스트랩 샘플링을 통한 분류 앙상블\n",
        "    - 배깅 알고리즘의 작동 방식\n",
        "    - 배깅으로 Wine 데이터셋의 샘플 분류\n",
        "- 약한 학습기를 이용한 에이다부스트\n",
        "    - 부스팅 작동 원리\n",
        "    - 사이킷런에서 에이다부스트 사용\n",
        "- 요약"
      ]
    },
    {
      "cell_type": "markdown",
      "metadata": {
        "id": "om-FBdErakGo"
      },
      "source": [
        "<br>"
      ]
    },
    {
      "cell_type": "code",
      "execution_count": 1,
      "metadata": {
        "execution": {
          "iopub.execute_input": "2021-10-23T06:49:14.810782Z",
          "iopub.status.busy": "2021-10-23T06:49:14.809496Z",
          "iopub.status.idle": "2021-10-23T06:49:14.814735Z",
          "shell.execute_reply": "2021-10-23T06:49:14.815495Z"
        },
        "id": "b852HoJ8akGp"
      },
      "outputs": [],
      "source": [
        "from IPython.display import Image"
      ]
    },
    {
      "cell_type": "markdown",
      "metadata": {
        "id": "X5lC1_K5akGp"
      },
      "source": [
        "# 7.1 앙상블 학습"
      ]
    },
    {
      "cell_type": "code",
      "execution_count": 2,
      "metadata": {
        "colab": {
          "base_uri": "https://localhost:8080/",
          "height": 202
        },
        "execution": {
          "iopub.execute_input": "2021-10-23T06:49:14.826694Z",
          "iopub.status.busy": "2021-10-23T06:49:14.818061Z",
          "iopub.status.idle": "2021-10-23T06:49:14.831418Z",
          "shell.execute_reply": "2021-10-23T06:49:14.831878Z"
        },
        "id": "n6opzu9iakGp",
        "outputId": "fc36a3c1-014f-416f-eb2b-df14687525e4"
      },
      "outputs": [
        {
          "output_type": "execute_result",
          "data": {
            "text/html": [
              "<img src=\"https://git.io/JtskW\" width=\"500\"/>"
            ],
            "text/plain": [
              "<IPython.core.display.Image object>"
            ]
          },
          "metadata": {},
          "execution_count": 2
        }
      ],
      "source": [
        "Image(url='https://git.io/JtskW', width=500)"
      ]
    },
    {
      "cell_type": "code",
      "execution_count": 3,
      "metadata": {
        "colab": {
          "base_uri": "https://localhost:8080/",
          "height": 445
        },
        "execution": {
          "iopub.execute_input": "2021-10-23T06:49:14.837455Z",
          "iopub.status.busy": "2021-10-23T06:49:14.836740Z",
          "iopub.status.idle": "2021-10-23T06:49:14.840016Z",
          "shell.execute_reply": "2021-10-23T06:49:14.840470Z"
        },
        "id": "Fl869VXJakGq",
        "outputId": "0378ad71-3a6b-4f19-b81c-ef52d4cd49a7"
      },
      "outputs": [
        {
          "output_type": "execute_result",
          "data": {
            "text/html": [
              "<img src=\"https://git.io/Jtskl\" width=\"500\"/>"
            ],
            "text/plain": [
              "<IPython.core.display.Image object>"
            ]
          },
          "metadata": {},
          "execution_count": 3
        }
      ],
      "source": [
        "Image(url='https://git.io/Jtskl', width=500)"
      ]
    },
    {
      "cell_type": "markdown",
      "metadata": {
        "id": "pS9wjVEQO8Re"
      },
      "source": [
        "$P(y \\ge k) = \\sum_k^n{n \\choose k}\\epsilon^k(1-\\epsilon)^{n-k}$"
      ]
    },
    {
      "cell_type": "code",
      "execution_count": 4,
      "metadata": {
        "execution": {
          "iopub.execute_input": "2021-10-23T06:49:14.847303Z",
          "iopub.status.busy": "2021-10-23T06:49:14.846228Z",
          "iopub.status.idle": "2021-10-23T06:49:15.133265Z",
          "shell.execute_reply": "2021-10-23T06:49:15.134214Z"
        },
        "id": "oL_CWVhXakGq"
      },
      "outputs": [],
      "source": [
        "from scipy.special import comb\n",
        "import math\n",
        "\n",
        "def ensemble_error(n_classifier, error):\n",
        "    k_start = int(math.ceil(n_classifier / 2.))\n",
        "    probs = [comb(n_classifier, k) * error**k * (1-error)**(n_classifier - k)\n",
        "             for k in range(k_start, n_classifier + 1)]\n",
        "    return sum(probs)"
      ]
    },
    {
      "cell_type": "code",
      "execution_count": 5,
      "metadata": {
        "colab": {
          "base_uri": "https://localhost:8080/"
        },
        "execution": {
          "iopub.execute_input": "2021-10-23T06:49:15.144105Z",
          "iopub.status.busy": "2021-10-23T06:49:15.142707Z",
          "iopub.status.idle": "2021-10-23T06:49:15.149347Z",
          "shell.execute_reply": "2021-10-23T06:49:15.148606Z"
        },
        "id": "443t5C3wakGq",
        "outputId": "b7f7aed7-8f5e-4465-8196-ca6015c90178"
      },
      "outputs": [
        {
          "output_type": "execute_result",
          "data": {
            "text/plain": [
              "0.03432750701904297"
            ]
          },
          "metadata": {},
          "execution_count": 5
        }
      ],
      "source": [
        "ensemble_error(n_classifier=11, error=0.25)"
      ]
    },
    {
      "cell_type": "markdown",
      "metadata": {
        "id": "xTpKbW31akGq"
      },
      "source": [
        "scipy의 `binom.cdf()`를 사용하여 계산할 수도 있습니다. 성공 확률이 75%인 이항 분포에서 11번의 시도 중에 5개 이하로 성공할 누적 확률은 다음과 같이 계산합니다."
      ]
    },
    {
      "cell_type": "code",
      "execution_count": 6,
      "metadata": {
        "colab": {
          "base_uri": "https://localhost:8080/"
        },
        "execution": {
          "iopub.execute_input": "2021-10-23T06:49:15.155957Z",
          "iopub.status.busy": "2021-10-23T06:49:15.154662Z",
          "iopub.status.idle": "2021-10-23T06:49:15.397222Z",
          "shell.execute_reply": "2021-10-23T06:49:15.396508Z"
        },
        "id": "AlAEXPx5akGr",
        "outputId": "6e7f4f44-4525-402b-a093-031f5a54ba55"
      },
      "outputs": [
        {
          "output_type": "execute_result",
          "data": {
            "text/plain": [
              "0.03432750701904297"
            ]
          },
          "metadata": {},
          "execution_count": 6
        }
      ],
      "source": [
        "from scipy.stats import binom\n",
        "\n",
        "binom.cdf(5, 11, 0.75)"
      ]
    },
    {
      "cell_type": "code",
      "execution_count": 7,
      "metadata": {
        "execution": {
          "iopub.execute_input": "2021-10-23T06:49:15.407525Z",
          "iopub.status.busy": "2021-10-23T06:49:15.406273Z",
          "iopub.status.idle": "2021-10-23T06:49:15.409579Z",
          "shell.execute_reply": "2021-10-23T06:49:15.408905Z"
        },
        "id": "ThyN7iTOakGr"
      },
      "outputs": [],
      "source": [
        "import numpy as np\n",
        "\n",
        "error_range = np.arange(0.0, 1.01, 0.01)\n",
        "ens_errors = [ensemble_error(n_classifier=11, error=error)\n",
        "              for error in error_range]"
      ]
    },
    {
      "cell_type": "code",
      "execution_count": 8,
      "metadata": {
        "colab": {
          "base_uri": "https://localhost:8080/",
          "height": 449
        },
        "execution": {
          "iopub.execute_input": "2021-10-23T06:49:15.416584Z",
          "iopub.status.busy": "2021-10-23T06:49:15.415498Z",
          "iopub.status.idle": "2021-10-23T06:49:15.811738Z",
          "shell.execute_reply": "2021-10-23T06:49:15.812268Z"
        },
        "id": "aC3ntuQ2akGr",
        "outputId": "a112caac-48e0-42aa-efdf-d2165d1af206"
      },
      "outputs": [
        {
          "output_type": "display_data",
          "data": {
            "text/plain": [
              "<Figure size 640x480 with 1 Axes>"
            ],
            "image/png": "[encoded data removed]"
          },
          "metadata": {}
        }
      ],
      "source": [
        "import matplotlib.pyplot as plt\n",
        "\n",
        "plt.plot(error_range,\n",
        "         ens_errors,\n",
        "         label='Ensemble error',\n",
        "         linewidth=2)\n",
        "\n",
        "plt.plot(error_range,\n",
        "         error_range,\n",
        "         linestyle='--',\n",
        "         label='Base error',\n",
        "         linewidth=2)\n",
        "\n",
        "plt.xlabel('Base error')\n",
        "plt.ylabel('Base/Ensemble error')\n",
        "plt.legend(loc='upper left')\n",
        "plt.grid(alpha=0.5)\n",
        "# plt.savefig('images/07_03.png', dpi=300)\n",
        "plt.show()"
      ]
    },
    {
      "cell_type": "markdown",
      "metadata": {
        "id": "3tU6DbrwakGr"
      },
      "source": [
        "<br>"
      ]
    },
    {
      "cell_type": "markdown",
      "metadata": {
        "id": "jXQSBulMakGr"
      },
      "source": [
        "# 7.2 다수결 투표를 사용한 분류 앙상블"
      ]
    },
    {
      "cell_type": "markdown",
      "metadata": {
        "id": "RukYYCUsakGr"
      },
      "source": [
        "## 7.2.1 간단한 다수결 투표 분류기 구현"
      ]
    },
    {
      "cell_type": "code",
      "execution_count": 9,
      "metadata": {
        "colab": {
          "base_uri": "https://localhost:8080/"
        },
        "execution": {
          "iopub.execute_input": "2021-10-23T06:49:15.819005Z",
          "iopub.status.busy": "2021-10-23T06:49:15.818160Z",
          "iopub.status.idle": "2021-10-23T06:49:15.822360Z",
          "shell.execute_reply": "2021-10-23T06:49:15.821791Z"
        },
        "id": "99_QlAANakGs",
        "outputId": "7b191d8a-67c5-428d-f66d-3b24e3799840"
      },
      "outputs": [
        {
          "output_type": "execute_result",
          "data": {
            "text/plain": [
              "1"
            ]
          },
          "metadata": {},
          "execution_count": 9
        }
      ],
      "source": [
        "import numpy as np\n",
        "\n",
        "np.argmax(np.bincount([0, 0, 1],\n",
        "                      weights=[0.2, 0.2, 0.6]))"
      ]
    },
    {
      "cell_type": "code",
      "execution_count": 10,
      "metadata": {
        "colab": {
          "base_uri": "https://localhost:8080/"
        },
        "execution": {
          "iopub.execute_input": "2021-10-23T06:49:15.829359Z",
          "iopub.status.busy": "2021-10-23T06:49:15.828534Z",
          "iopub.status.idle": "2021-10-23T06:49:15.831967Z",
          "shell.execute_reply": "2021-10-23T06:49:15.832418Z"
        },
        "id": "G5GRoopWakGs",
        "outputId": "8ef01181-aeec-4c2f-96bd-dc733ade9215"
      },
      "outputs": [
        {
          "output_type": "execute_result",
          "data": {
            "text/plain": [
              "array([0.58, 0.42])"
            ]
          },
          "metadata": {},
          "execution_count": 10
        }
      ],
      "source": [
        "ex = np.array([[0.9, 0.1],\n",
        "               [0.8, 0.2],\n",
        "               [0.4, 0.6]])\n",
        "\n",
        "p = np.average(ex,\n",
        "               axis=0,\n",
        "               weights=[0.2, 0.2, 0.6])\n",
        "p"
      ]
    },
    {
      "cell_type": "code",
      "execution_count": 11,
      "metadata": {
        "colab": {
          "base_uri": "https://localhost:8080/"
        },
        "execution": {
          "iopub.execute_input": "2021-10-23T06:49:15.838142Z",
          "iopub.status.busy": "2021-10-23T06:49:15.837400Z",
          "iopub.status.idle": "2021-10-23T06:49:15.840858Z",
          "shell.execute_reply": "2021-10-23T06:49:15.841395Z"
        },
        "id": "lECkYPLkakGs",
        "outputId": "f58327f6-e5c9-449f-f7ce-a7bce2c7dc97"
      },
      "outputs": [
        {
          "output_type": "execute_result",
          "data": {
            "text/plain": [
              "0"
            ]
          },
          "metadata": {},
          "execution_count": 11
        }
      ],
      "source": [
        "np.argmax(p)"
      ]
    },
    {
      "cell_type": "code",
      "execution_count": 12,
      "metadata": {
        "execution": {
          "iopub.execute_input": "2021-10-23T06:49:15.858171Z",
          "iopub.status.busy": "2021-10-23T06:49:15.856871Z",
          "iopub.status.idle": "2021-10-23T06:49:15.899826Z",
          "shell.execute_reply": "2021-10-23T06:49:15.899135Z"
        },
        "id": "Qnn5GfoYakGs"
      },
      "outputs": [],
      "source": [
        "from sklearn.base import BaseEstimator\n",
        "from sklearn.base import ClassifierMixin\n",
        "from sklearn.preprocessing import LabelEncoder\n",
        "from sklearn.base import clone\n",
        "from sklearn.pipeline import _name_estimators\n",
        "import numpy as np\n",
        "import operator\n",
        "\n",
        "\n",
        "class MajorityVoteClassifier(BaseEstimator,\n",
        "                             ClassifierMixin):\n",
        "    \"\"\"다수결 투표 앙상블 분류기\n",
        "\n",
        "    매개변수\n",
        "    ----------\n",
        "    classifiers : 배열 타입, 크기 = [n_classifiers]\n",
        "        앙상블에 사용할 분류기\n",
        "\n",
        "    vote : str, {'classlabel', 'probability'}\n",
        "        기본값: 'classlabel'\n",
        "        'classlabel'이면 예측은 다수인 클래스 레이블의 인덱스가 됩니다\n",
        "        'probability'면 확률 합이 가장 큰 인덱스로\n",
        "        클래스 레이블을 예측합니다(보정된 분류기에 추천합니다)\n",
        "\n",
        "    weights : 배열 타입, 크기 = [n_classifiers]\n",
        "        선택 사항, 기본값: None\n",
        "        'int' 또는 'float' 값의 리스트가 주어지면 분류기가 이 중요도로 가중치됩니다\n",
        "        'weights=None'이면 동일하게 취급합니다\n",
        "\n",
        "    \"\"\"\n",
        "    def __init__(self, classifiers, vote='classlabel', weights=None):\n",
        "\n",
        "        self.classifiers = classifiers\n",
        "        self.named_classifiers = {key: value for key, value\n",
        "                                  in _name_estimators(classifiers)}\n",
        "        self.vote = vote\n",
        "        self.weights = weights\n",
        "\n",
        "    def fit(self, X, y):\n",
        "        \"\"\"분류기를 학습합니다\n",
        "\n",
        "        매개변수\n",
        "        ----------\n",
        "        X : {배열 타입, 희소 행렬},\n",
        "            크기 = [n_samples, n_features]\n",
        "            훈련 샘플 행렬\n",
        "\n",
        "        y : 배열 타입, 크기 = [n_samples]\n",
        "            타깃 클래스 레이블 벡터\n",
        "\n",
        "        반환값\n",
        "        -------\n",
        "        self : 객체\n",
        "\n",
        "        \"\"\"\n",
        "        if self.vote not in ('probability', 'classlabel'):\n",
        "            raise ValueError(\"vote는 'probability' 또는 'classlabel'이어야 합니다\"\n",
        "                             \"; (vote=%r)이 입력되었습니다.\"\n",
        "                             % self.vote)\n",
        "\n",
        "        if self.weights and len(self.weights) != len(self.classifiers):\n",
        "            raise ValueError('분류기와 가중치 개수는 같아야 합니다'\n",
        "                             '; 가중치 %d 개, 분류기 %d 개'\n",
        "                             % (len(self.weights), len(self.classifiers)))\n",
        "\n",
        "        # self.predict 메서드에서 np.argmax를 호출할 때\n",
        "        # 클래스 레이블이 0부터 시작되어야 하므로 LabelEncoder를 사용합니다\n",
        "        self.lablenc_ = LabelEncoder()\n",
        "        self.lablenc_.fit(y)\n",
        "        self.classes_ = self.lablenc_.classes_\n",
        "        self.classifiers_ = []\n",
        "        for clf in self.classifiers:\n",
        "            fitted_clf = clone(clf).fit(X, self.lablenc_.transform(y))\n",
        "            self.classifiers_.append(fitted_clf)\n",
        "        return self\n",
        "\n",
        "    def predict(self, X):\n",
        "        \"\"\"X에 대한 클래스 레이블을 예측합니다\n",
        "\n",
        "        매개변수\n",
        "        ----------\n",
        "        X : {배열 타입, 희소 행렬},\n",
        "            크기 = [n_samples, n_features]\n",
        "            샘플 데이터 행렬\n",
        "\n",
        "        반환값\n",
        "        ----------\n",
        "        maj_vote : 배열 타입, 크기 = [n_samples]\n",
        "            예측된 클래스 레이블\n",
        "\n",
        "        \"\"\"\n",
        "        if self.vote == 'probability':\n",
        "            maj_vote = np.argmax(self.predict_proba(X), axis=1)\n",
        "        else:  # 'classlabel' 투표\n",
        "\n",
        "            # clf.predict 메서드를 사용하여 결과를 모읍니다\n",
        "            predictions = np.asarray([clf.predict(X)\n",
        "                                      for clf in self.classifiers_]).T\n",
        "\n",
        "            maj_vote = np.apply_along_axis(\n",
        "                                      lambda x:\n",
        "                                      np.argmax(np.bincount(x,\n",
        "                                                weights=self.weights)),\n",
        "                                      axis=1,\n",
        "                                      arr=predictions)\n",
        "        maj_vote = self.lablenc_.inverse_transform(maj_vote)\n",
        "        return maj_vote\n",
        "\n",
        "    def predict_proba(self, X):\n",
        "        \"\"\"X에 대한 클래스 확률을 예측합니다\n",
        "\n",
        "        매개변수\n",
        "        ----------\n",
        "        X : {배열 타입, 희소 행렬},\n",
        "            크기 = [n_samples, n_features]\n",
        "            n_samples는 샘플의 개수고 n_features는 특성의 개수인\n",
        "            샘플 데이터 행렬\n",
        "\n",
        "        반환값\n",
        "        ----------\n",
        "        avg_proba : 배열 타입,\n",
        "            크기 = [n_samples, n_classes]\n",
        "            샘플마다 가중치가 적용된 클래스의 평균 확률\n",
        "\n",
        "        \"\"\"\n",
        "        probas = np.asarray([clf.predict_proba(X)\n",
        "                             for clf in self.classifiers_])\n",
        "        avg_proba = np.average(probas, axis=0, weights=self.weights)\n",
        "        return avg_proba\n",
        "\n",
        "    def get_params(self, deep=True):\n",
        "        \"\"\"GridSearch를 위해 분류기의 매개변수 이름을 반환합니다\"\"\"\n",
        "        if not deep:\n",
        "            return super(MajorityVoteClassifier, self).get_params(deep=False)\n",
        "        else:\n",
        "            out = self.named_classifiers.copy()\n",
        "            for name, step in self.named_classifiers.items():\n",
        "                for key, value in step.get_params(deep=True).items():\n",
        "                    out['%s__%s' % (name, key)] = value\n",
        "            return out"
      ]
    },
    {
      "cell_type": "markdown",
      "metadata": {
        "id": "aHGH-uuTakGt"
      },
      "source": [
        "<br>"
      ]
    },
    {
      "cell_type": "markdown",
      "metadata": {
        "id": "1j1WkdY6akGt"
      },
      "source": [
        "## 7.2.2 다수결 투표 방식을 사용하여 예측 만들기"
      ]
    },
    {
      "cell_type": "code",
      "execution_count": 13,
      "metadata": {
        "execution": {
          "iopub.execute_input": "2021-10-23T06:49:15.907608Z",
          "iopub.status.busy": "2021-10-23T06:49:15.906491Z",
          "iopub.status.idle": "2021-10-23T06:49:15.943680Z",
          "shell.execute_reply": "2021-10-23T06:49:15.942923Z"
        },
        "id": "fQ4xAyljakGt"
      },
      "outputs": [],
      "source": [
        "from sklearn import datasets\n",
        "from sklearn.preprocessing import StandardScaler\n",
        "from sklearn.preprocessing import LabelEncoder\n",
        "from sklearn.model_selection import train_test_split\n",
        "\n",
        "iris = datasets.load_iris()\n",
        "X, y = iris.data[50:, [1, 2]], iris.target[50:]\n",
        "le = LabelEncoder()\n",
        "y = le.fit_transform(y)\n",
        "\n",
        "X_train, X_test, y_train, y_test =\\\n",
        "       train_test_split(X, y,\n",
        "                        test_size=0.5,\n",
        "                        random_state=1,\n",
        "                        stratify=y)"
      ]
    },
    {
      "cell_type": "code",
      "execution_count": 14,
      "metadata": {
        "colab": {
          "base_uri": "https://localhost:8080/"
        },
        "execution": {
          "iopub.execute_input": "2021-10-23T06:49:15.954337Z",
          "iopub.status.busy": "2021-10-23T06:49:15.952973Z",
          "iopub.status.idle": "2021-10-23T06:49:16.100761Z",
          "shell.execute_reply": "2021-10-23T06:49:16.099969Z"
        },
        "id": "P06IStfuakGt",
        "outputId": "b94d6b3b-16c2-4f6f-caff-699bb59f8178"
      },
      "outputs": [
        {
          "output_type": "stream",
          "name": "stdout",
          "text": [
            "10-겹 교차 검증:\n",
            "\n",
            "ROC AUC: 0.92 (+/- 0.15) [Logistic regression]\n",
            "ROC AUC: 0.87 (+/- 0.18) [Decision tree]\n",
            "ROC AUC: 0.85 (+/- 0.13) [KNN]\n"
          ]
        }
      ],
      "source": [
        "import numpy as np\n",
        "from sklearn.linear_model import LogisticRegression\n",
        "from sklearn.tree import DecisionTreeClassifier\n",
        "from sklearn.neighbors import KNeighborsClassifier\n",
        "from sklearn.pipeline import Pipeline\n",
        "from sklearn.model_selection import cross_val_score\n",
        "\n",
        "clf1 = LogisticRegression(penalty='l2',\n",
        "                          C=0.001,\n",
        "                          random_state=1)\n",
        "\n",
        "clf2 = DecisionTreeClassifier(max_depth=1,\n",
        "                              criterion='entropy',\n",
        "                              random_state=0)\n",
        "\n",
        "clf3 = KNeighborsClassifier(n_neighbors=1,\n",
        "                            p=2,\n",
        "                            metric='minkowski')\n",
        "\n",
        "pipe1 = Pipeline([['sc', StandardScaler()],\n",
        "                  ['clf', clf1]])\n",
        "pipe3 = Pipeline([['sc', StandardScaler()],\n",
        "                  ['clf', clf3]])\n",
        "\n",
        "clf_labels = ['Logistic regression', 'Decision tree', 'KNN']\n",
        "\n",
        "print('10-겹 교차 검증:\\n')\n",
        "for clf, label in zip([pipe1, clf2, pipe3], clf_labels):\n",
        "    scores = cross_val_score(estimator=clf,\n",
        "                             X=X_train,\n",
        "                             y=y_train,\n",
        "                             cv=10,\n",
        "                             scoring='roc_auc')\n",
        "    print(\"ROC AUC: %0.2f (+/- %0.2f) [%s]\"\n",
        "          % (scores.mean(), scores.std(), label))"
      ]
    },
    {
      "cell_type": "code",
      "execution_count": 15,
      "metadata": {
        "colab": {
          "base_uri": "https://localhost:8080/"
        },
        "execution": {
          "iopub.execute_input": "2021-10-23T06:49:16.115317Z",
          "iopub.status.busy": "2021-10-23T06:49:16.108970Z",
          "iopub.status.idle": "2021-10-23T06:49:16.313605Z",
          "shell.execute_reply": "2021-10-23T06:49:16.314115Z"
        },
        "id": "xSQ4fuVrakGu",
        "outputId": "d5cabed5-3bf1-4931-c9b6-107d37ab059a",
        "scrolled": true
      },
      "outputs": [
        {
          "output_type": "stream",
          "name": "stdout",
          "text": [
            "ROC AUC: 0.92 (+/- 0.15) [Logistic regression]\n",
            "ROC AUC: 0.87 (+/- 0.18) [Decision tree]\n",
            "ROC AUC: 0.85 (+/- 0.13) [KNN]\n",
            "ROC AUC: 0.98 (+/- 0.05) [Majority voting]\n"
          ]
        }
      ],
      "source": [
        "# 다수결 (하드) 투표\n",
        "\n",
        "mv_clf = MajorityVoteClassifier(classifiers=[pipe1, clf2, pipe3])\n",
        "\n",
        "clf_labels += ['Majority voting']\n",
        "all_clf = [pipe1, clf2, pipe3, mv_clf]\n",
        "\n",
        "for clf, label in zip(all_clf, clf_labels):\n",
        "    scores = cross_val_score(estimator=clf,\n",
        "                             X=X_train,\n",
        "                             y=y_train,\n",
        "                             cv=10,\n",
        "                             scoring='roc_auc')\n",
        "    print(\"ROC AUC: %0.2f (+/- %0.2f) [%s]\"\n",
        "          % (scores.mean(), scores.std(), label))"
      ]
    },
    {
      "cell_type": "markdown",
      "metadata": {
        "id": "AY6EfPXmakGu"
      },
      "source": [
        "사이킷런의 `VotingClassifier`를 사용해 보겠습니다. `estimators` 매개변수에는 분류기 이름과 객체로 구성된 튜플의 리스트를 입력합니다. 앞에서 만든 `MajorityVoteClassifier`는 `vote` 매개변수에 상관없이 `predict_proba` 메서드를 실행할 수 있지만 사이킷런의 `VotingClassifier`는 `voting='hard'`일 경우 `predict_proba` 메서드를 지원하지 않습니다. ROC AUC를 계산하기 위해서는 예측 확률이 필요하므로 `voting='soft'`로 지정합니다."
      ]
    },
    {
      "cell_type": "code",
      "execution_count": 16,
      "metadata": {
        "colab": {
          "base_uri": "https://localhost:8080/"
        },
        "execution": {
          "iopub.execute_input": "2021-10-23T06:49:16.321729Z",
          "iopub.status.busy": "2021-10-23T06:49:16.319932Z",
          "iopub.status.idle": "2021-10-23T06:49:16.431082Z",
          "shell.execute_reply": "2021-10-23T06:49:16.430369Z"
        },
        "id": "Y4gJx2eIakGu",
        "outputId": "4d16d5ce-92a2-40ae-a35c-67eef2818d23",
        "scrolled": true
      },
      "outputs": [
        {
          "output_type": "stream",
          "name": "stdout",
          "text": [
            "ROC AUC: : 0.98 (+/- 0.05) [VotingClassifier]\n"
          ]
        }
      ],
      "source": [
        "from sklearn.model_selection import cross_validate\n",
        "from sklearn.ensemble import VotingClassifier\n",
        "\n",
        "vc = VotingClassifier(estimators=[\n",
        "    ('lr', pipe1), ('dt', clf2), ('knn', pipe3)], voting='soft')\n",
        "\n",
        "scores = cross_validate(estimator=vc, X=X_train, y=y_train,\n",
        "                        cv=10, scoring='roc_auc')\n",
        "print(\"ROC AUC: : %0.2f (+/- %0.2f) [%s]\"\n",
        "      % (scores['test_score'].mean(),\n",
        "         scores['test_score'].std(), 'VotingClassifier'))"
      ]
    },
    {
      "cell_type": "markdown",
      "metadata": {
        "id": "0y7VBUZLakGv"
      },
      "source": [
        "`VotingClassifier`의 `fit` 메서드를 호출할 때 진행 과정을 출력하려면 0.23버전에서 추가된 `verbose` 매개변수를 `True`로 지정해야 합니다. 여기에서는 앞서 만든 `vc` 객체의 `set_params` 메서드를 사용해 `verbose` 매개변수를 설정하겠습니다."
      ]
    },
    {
      "cell_type": "code",
      "execution_count": 17,
      "metadata": {
        "colab": {
          "base_uri": "https://localhost:8080/"
        },
        "execution": {
          "iopub.execute_input": "2021-10-23T06:49:16.444974Z",
          "iopub.status.busy": "2021-10-23T06:49:16.440302Z",
          "iopub.status.idle": "2021-10-23T06:49:16.449317Z",
          "shell.execute_reply": "2021-10-23T06:49:16.448397Z"
        },
        "id": "4-bZpjhgakGv",
        "outputId": "a8f1b001-6d39-4236-8e46-ab07120f8c92"
      },
      "outputs": [
        {
          "output_type": "stream",
          "name": "stdout",
          "text": [
            "[Voting] ....................... (1 of 3) Processing lr, total=   0.0s\n",
            "[Voting] ....................... (2 of 3) Processing dt, total=   0.0s\n",
            "[Voting] ...................... (3 of 3) Processing knn, total=   0.0s\n"
          ]
        }
      ],
      "source": [
        "vc.set_params(verbose=True)\n",
        "\n",
        "vc = vc.fit(X_train, y_train)"
      ]
    },
    {
      "cell_type": "markdown",
      "metadata": {
        "id": "wSnjo5y2akGv"
      },
      "source": [
        "`voting='soft'`일 때 `predict` 메서드는 `predict_proba` 메서드에서 얻은 가장 큰 확률의 클래스를 예측으로 삼습니다. `predict_proba` 메서드는 각 분류기의 클래스 확률을 평균합니다."
      ]
    },
    {
      "cell_type": "code",
      "execution_count": 18,
      "metadata": {
        "colab": {
          "base_uri": "https://localhost:8080/"
        },
        "execution": {
          "iopub.execute_input": "2021-10-23T06:49:16.457341Z",
          "iopub.status.busy": "2021-10-23T06:49:16.456318Z",
          "iopub.status.idle": "2021-10-23T06:49:16.460793Z",
          "shell.execute_reply": "2021-10-23T06:49:16.460193Z"
        },
        "id": "0cq16Vh8akGv",
        "outputId": "23a4332c-c9f0-4ba4-9e12-bc6dfdc2a42d"
      },
      "outputs": [
        {
          "output_type": "execute_result",
          "data": {
            "text/plain": [
              "array([[0.80858947, 0.19141053],\n",
              "       [0.80798659, 0.19201341],\n",
              "       [0.80742142, 0.19257858],\n",
              "       [0.81176637, 0.18823363],\n",
              "       [0.81195778, 0.18804222],\n",
              "       [0.17701319, 0.82298681],\n",
              "       [0.17670572, 0.82329428],\n",
              "       [0.17845724, 0.82154276],\n",
              "       [0.1796252 , 0.8203748 ],\n",
              "       [0.81076201, 0.18923799]])"
            ]
          },
          "metadata": {},
          "execution_count": 18
        }
      ],
      "source": [
        "vc.predict_proba(X_test[:10])"
      ]
    },
    {
      "cell_type": "markdown",
      "metadata": {
        "id": "_7cUP7wLakGv"
      },
      "source": [
        "<br>"
      ]
    },
    {
      "cell_type": "markdown",
      "metadata": {
        "id": "b3-jCM6YakGw"
      },
      "source": [
        "## 7.2.3 앙상블 분류기의 평가와 튜닝"
      ]
    },
    {
      "cell_type": "code",
      "execution_count": 19,
      "metadata": {
        "colab": {
          "base_uri": "https://localhost:8080/",
          "height": 449
        },
        "execution": {
          "iopub.execute_input": "2021-10-23T06:49:16.472747Z",
          "iopub.status.busy": "2021-10-23T06:49:16.470089Z",
          "iopub.status.idle": "2021-10-23T06:49:16.656148Z",
          "shell.execute_reply": "2021-10-23T06:49:16.654939Z"
        },
        "id": "G3irAKs-akGw",
        "outputId": "a8c2db73-6d0a-441c-fa44-dba1c702be24",
        "scrolled": true
      },
      "outputs": [
        {
          "output_type": "display_data",
          "data": {
            "text/plain": [
              "<Figure size 640x480 with 1 Axes>"
            ],
            "image/png": "[encoded data removed]"
          },
          "metadata": {}
        }
      ],
      "source": [
        "from sklearn.metrics import roc_curve\n",
        "from sklearn.metrics import auc\n",
        "\n",
        "colors = ['black', 'orange', 'blue', 'green']\n",
        "linestyles = [':', '--', '-.', '-']\n",
        "for clf, label, clr, ls \\\n",
        "        in zip(all_clf,\n",
        "               clf_labels, colors, linestyles):\n",
        "\n",
        "    # 양성 클래스의 레이블이 1이라고 가정합니다\n",
        "    y_pred = clf.fit(X_train,\n",
        "                     y_train).predict_proba(X_test)[:, 1]\n",
        "    fpr, tpr, thresholds = roc_curve(y_true=y_test,\n",
        "                                     y_score=y_pred)\n",
        "    roc_auc = auc(x=fpr, y=tpr)\n",
        "    plt.plot(fpr, tpr,\n",
        "             color=clr,\n",
        "             linestyle=ls,\n",
        "             label='%s (auc = %0.2f)' % (label, roc_auc))\n",
        "\n",
        "plt.legend(loc='lower right')\n",
        "plt.plot([0, 1], [0, 1],\n",
        "         linestyle='--',\n",
        "         color='gray',\n",
        "         linewidth=2)\n",
        "\n",
        "plt.xlim([-0.1, 1.1])\n",
        "plt.ylim([-0.1, 1.1])\n",
        "plt.grid(alpha=0.5)\n",
        "plt.xlabel('False positive rate (FPR)')\n",
        "plt.ylabel('True positive rate (TPR)')\n",
        "\n",
        "\n",
        "# plt.savefig('images/07_04', dpi=300)\n",
        "plt.show()"
      ]
    },
    {
      "cell_type": "code",
      "execution_count": 20,
      "metadata": {
        "execution": {
          "iopub.execute_input": "2021-10-23T06:49:16.662323Z",
          "iopub.status.busy": "2021-10-23T06:49:16.661474Z",
          "iopub.status.idle": "2021-10-23T06:49:16.666891Z",
          "shell.execute_reply": "2021-10-23T06:49:16.665873Z"
        },
        "id": "RhGuSK9QakGw"
      },
      "outputs": [],
      "source": [
        "sc = StandardScaler()\n",
        "X_train_std = sc.fit_transform(X_train)"
      ]
    },
    {
      "cell_type": "code",
      "execution_count": 21,
      "metadata": {
        "colab": {
          "base_uri": "https://localhost:8080/",
          "height": 497
        },
        "execution": {
          "iopub.execute_input": "2021-10-23T06:49:16.732797Z",
          "iopub.status.busy": "2021-10-23T06:49:16.714390Z",
          "iopub.status.idle": "2021-10-23T06:49:17.479142Z",
          "shell.execute_reply": "2021-10-23T06:49:17.479627Z"
        },
        "id": "wgzBjUvRakGw",
        "outputId": "ab85a706-28cb-451a-c050-87ad352b6493",
        "scrolled": true
      },
      "outputs": [
        {
          "output_type": "display_data",
          "data": {
            "text/plain": [
              "<Figure size 700x500 with 4 Axes>"
            ],
            "image/png": "[encoded data removed]"
          },
          "metadata": {}
        }
      ],
      "source": [
        "from itertools import product\n",
        "\n",
        "all_clf = [pipe1, clf2, pipe3, mv_clf]\n",
        "\n",
        "x_min = X_train_std[:, 0].min() - 1\n",
        "x_max = X_train_std[:, 0].max() + 1\n",
        "y_min = X_train_std[:, 1].min() - 1\n",
        "y_max = X_train_std[:, 1].max() + 1\n",
        "\n",
        "xx, yy = np.meshgrid(np.arange(x_min, x_max, 0.1),\n",
        "                     np.arange(y_min, y_max, 0.1))\n",
        "\n",
        "f, axarr = plt.subplots(nrows=2, ncols=2,\n",
        "                        sharex='col',\n",
        "                        sharey='row',\n",
        "                        figsize=(7, 5))\n",
        "\n",
        "for idx, clf, tt in zip(product([0, 1], [0, 1]),\n",
        "                        all_clf, clf_labels):\n",
        "    clf.fit(X_train_std, y_train)\n",
        "\n",
        "    Z = clf.predict(np.c_[xx.ravel(), yy.ravel()])\n",
        "    Z = Z.reshape(xx.shape)\n",
        "\n",
        "    axarr[idx[0], idx[1]].contourf(xx, yy, Z, alpha=0.3)\n",
        "\n",
        "    axarr[idx[0], idx[1]].scatter(X_train_std[y_train==0, 0],\n",
        "                                  X_train_std[y_train==0, 1],\n",
        "                                  c='blue',\n",
        "                                  marker='^',\n",
        "                                  s=50)\n",
        "\n",
        "    axarr[idx[0], idx[1]].scatter(X_train_std[y_train==1, 0],\n",
        "                                  X_train_std[y_train==1, 1],\n",
        "                                  c='green',\n",
        "                                  marker='o',\n",
        "                                  s=50)\n",
        "\n",
        "    axarr[idx[0], idx[1]].set_title(tt)\n",
        "\n",
        "plt.text(-3.5, -5.,\n",
        "         s='Sepal width [standardized]',\n",
        "         ha='center', va='center', fontsize=12)\n",
        "plt.text(-12.5, 4.5,\n",
        "         s='Petal length [standardized]',\n",
        "         ha='center', va='center',\n",
        "         fontsize=12, rotation=90)\n",
        "\n",
        "# plt.savefig('images/07_05', dpi=300)\n",
        "plt.show()"
      ]
    },
    {
      "cell_type": "code",
      "execution_count": 22,
      "metadata": {
        "colab": {
          "base_uri": "https://localhost:8080/"
        },
        "execution": {
          "iopub.execute_input": "2021-10-23T06:49:17.483867Z",
          "iopub.status.busy": "2021-10-23T06:49:17.483157Z",
          "iopub.status.idle": "2021-10-23T06:49:17.499620Z",
          "shell.execute_reply": "2021-10-23T06:49:17.498839Z"
        },
        "id": "fyd8gETTakGw",
        "outputId": "fd4340cb-905c-4f1d-f651-6d4ec4caf54a"
      },
      "outputs": [
        {
          "output_type": "execute_result",
          "data": {
            "text/plain": [
              "{'pipeline-1': Pipeline(steps=[('sc', StandardScaler()),\n",
              "                 ['clf', LogisticRegression(C=0.001, random_state=1)]]),\n",
              " 'decisiontreeclassifier': DecisionTreeClassifier(criterion='entropy', max_depth=1, random_state=0),\n",
              " 'pipeline-2': Pipeline(steps=[('sc', StandardScaler()),\n",
              "                 ['clf', KNeighborsClassifier(n_neighbors=1)]]),\n",
              " 'pipeline-1__memory': None,\n",
              " 'pipeline-1__steps': [('sc', StandardScaler()),\n",
              "  ['clf', LogisticRegression(C=0.001, random_state=1)]],\n",
              " 'pipeline-1__verbose': False,\n",
              " 'pipeline-1__sc': StandardScaler(),\n",
              " 'pipeline-1__clf': LogisticRegression(C=0.001, random_state=1),\n",
              " 'pipeline-1__sc__copy': True,\n",
              " 'pipeline-1__sc__with_mean': True,\n",
              " 'pipeline-1__sc__with_std': True,\n",
              " 'pipeline-1__clf__C': 0.001,\n",
              " 'pipeline-1__clf__class_weight': None,\n",
              " 'pipeline-1__clf__dual': False,\n",
              " 'pipeline-1__clf__fit_intercept': True,\n",
              " 'pipeline-1__clf__intercept_scaling': 1,\n",
              " 'pipeline-1__clf__l1_ratio': None,\n",
              " 'pipeline-1__clf__max_iter': 100,\n",
              " 'pipeline-1__clf__multi_class': 'auto',\n",
              " 'pipeline-1__clf__n_jobs': None,\n",
              " 'pipeline-1__clf__penalty': 'l2',\n",
              " 'pipeline-1__clf__random_state': 1,\n",
              " 'pipeline-1__clf__solver': 'lbfgs',\n",
              " 'pipeline-1__clf__tol': 0.0001,\n",
              " 'pipeline-1__clf__verbose': 0,\n",
              " 'pipeline-1__clf__warm_start': False,\n",
              " 'decisiontreeclassifier__ccp_alpha': 0.0,\n",
              " 'decisiontreeclassifier__class_weight': None,\n",
              " 'decisiontreeclassifier__criterion': 'entropy',\n",
              " 'decisiontreeclassifier__max_depth': 1,\n",
              " 'decisiontreeclassifier__max_features': None,\n",
              " 'decisiontreeclassifier__max_leaf_nodes': None,\n",
              " 'decisiontreeclassifier__min_impurity_decrease': 0.0,\n",
              " 'decisiontreeclassifier__min_samples_leaf': 1,\n",
              " 'decisiontreeclassifier__min_samples_split': 2,\n",
              " 'decisiontreeclassifier__min_weight_fraction_leaf': 0.0,\n",
              " 'decisiontreeclassifier__random_state': 0,\n",
              " 'decisiontreeclassifier__splitter': 'best',\n",
              " 'pipeline-2__memory': None,\n",
              " 'pipeline-2__steps': [('sc', StandardScaler()),\n",
              "  ['clf', KNeighborsClassifier(n_neighbors=1)]],\n",
              " 'pipeline-2__verbose': False,\n",
              " 'pipeline-2__sc': StandardScaler(),\n",
              " 'pipeline-2__clf': KNeighborsClassifier(n_neighbors=1),\n",
              " 'pipeline-2__sc__copy': True,\n",
              " 'pipeline-2__sc__with_mean': True,\n",
              " 'pipeline-2__sc__with_std': True,\n",
              " 'pipeline-2__clf__algorithm': 'auto',\n",
              " 'pipeline-2__clf__leaf_size': 30,\n",
              " 'pipeline-2__clf__metric': 'minkowski',\n",
              " 'pipeline-2__clf__metric_params': None,\n",
              " 'pipeline-2__clf__n_jobs': None,\n",
              " 'pipeline-2__clf__n_neighbors': 1,\n",
              " 'pipeline-2__clf__p': 2,\n",
              " 'pipeline-2__clf__weights': 'uniform'}"
            ]
          },
          "metadata": {},
          "execution_count": 22
        }
      ],
      "source": [
        "mv_clf.get_params()"
      ]
    },
    {
      "cell_type": "code",
      "execution_count": 23,
      "metadata": {
        "colab": {
          "base_uri": "https://localhost:8080/"
        },
        "execution": {
          "iopub.execute_input": "2021-10-23T06:49:17.508731Z",
          "iopub.status.busy": "2021-10-23T06:49:17.507613Z",
          "iopub.status.idle": "2021-10-23T06:49:18.098640Z",
          "shell.execute_reply": "2021-10-23T06:49:18.099109Z"
        },
        "id": "JUBENziVakGw",
        "outputId": "a61002ae-9a28-4a17-8efb-8fd7ebba3338",
        "scrolled": true
      },
      "outputs": [
        {
          "output_type": "stream",
          "name": "stdout",
          "text": [
            "0.983 +/- 0.02 {'decisiontreeclassifier__max_depth': 1, 'pipeline-1__clf__C': 0.001}\n",
            "0.983 +/- 0.02 {'decisiontreeclassifier__max_depth': 1, 'pipeline-1__clf__C': 0.1}\n",
            "0.967 +/- 0.05 {'decisiontreeclassifier__max_depth': 1, 'pipeline-1__clf__C': 100.0}\n",
            "0.983 +/- 0.02 {'decisiontreeclassifier__max_depth': 2, 'pipeline-1__clf__C': 0.001}\n",
            "0.983 +/- 0.02 {'decisiontreeclassifier__max_depth': 2, 'pipeline-1__clf__C': 0.1}\n",
            "0.967 +/- 0.05 {'decisiontreeclassifier__max_depth': 2, 'pipeline-1__clf__C': 100.0}\n"
          ]
        }
      ],
      "source": [
        "from sklearn.model_selection import GridSearchCV\n",
        "\n",
        "\n",
        "params = {'decisiontreeclassifier__max_depth': [1, 2],\n",
        "          'pipeline-1__clf__C': [0.001, 0.1, 100.0]}\n",
        "\n",
        "grid = GridSearchCV(estimator=mv_clf,\n",
        "                    param_grid=params,\n",
        "                    cv=10,\n",
        "                    scoring='roc_auc')\n",
        "grid.fit(X_train, y_train)\n",
        "\n",
        "for r, _ in enumerate(grid.cv_results_['mean_test_score']):\n",
        "    print(\"%0.3f +/- %0.2f %r\"\n",
        "          % (grid.cv_results_['mean_test_score'][r],\n",
        "             grid.cv_results_['std_test_score'][r] / 2.0,\n",
        "             grid.cv_results_['params'][r]))"
      ]
    },
    {
      "cell_type": "code",
      "execution_count": 24,
      "metadata": {
        "colab": {
          "base_uri": "https://localhost:8080/"
        },
        "execution": {
          "iopub.execute_input": "2021-10-23T06:49:18.104772Z",
          "iopub.status.busy": "2021-10-23T06:49:18.103843Z",
          "iopub.status.idle": "2021-10-23T06:49:18.106926Z",
          "shell.execute_reply": "2021-10-23T06:49:18.107371Z"
        },
        "id": "HiK5DNs7akGx",
        "outputId": "0f8f876e-fbb7-4b2f-b387-e89f195eab7e",
        "scrolled": true
      },
      "outputs": [
        {
          "output_type": "stream",
          "name": "stdout",
          "text": [
            "최적의 매개변수: {'decisiontreeclassifier__max_depth': 1, 'pipeline-1__clf__C': 0.001}\n",
            "정확도: 0.98\n"
          ]
        }
      ],
      "source": [
        "print('최적의 매개변수: %s' % grid.best_params_)\n",
        "print('정확도: %.2f' % grid.best_score_)"
      ]
    },
    {
      "cell_type": "markdown",
      "metadata": {
        "id": "eX201uAMakGx"
      },
      "source": [
        "**노트**  \n",
        "`GridSearchCV`의 `refit` 기본값은 `True`입니다(즉, `GridSeachCV(..., refit=True)`). 훈련된 `GridSearchCV` 추정기를 사용해 `predict` 메서드로 예측을 만들 수 있다는 뜻입니다. 예를 들면:\n",
        "\n",
        "    grid = GridSearchCV(estimator=mv_clf,\n",
        "                        param_grid=params,\n",
        "                        cv=10,\n",
        "                        scoring='roc_auc')\n",
        "    grid.fit(X_train, y_train)\n",
        "    y_pred = grid.predict(X_test)\n",
        "\n",
        "또한 `best_estimator_` 속성으로 \"최상\"의 추정기를 얻을 수 있습니다."
      ]
    },
    {
      "cell_type": "code",
      "execution_count": 25,
      "metadata": {
        "colab": {
          "base_uri": "https://localhost:8080/"
        },
        "execution": {
          "iopub.execute_input": "2021-10-23T06:49:18.117078Z",
          "iopub.status.busy": "2021-10-23T06:49:18.115635Z",
          "iopub.status.idle": "2021-10-23T06:49:18.119960Z",
          "shell.execute_reply": "2021-10-23T06:49:18.120452Z"
        },
        "id": "uwwtsxffakGx",
        "outputId": "da6371ea-49c1-4856-b048-8946e8493de4"
      },
      "outputs": [
        {
          "output_type": "execute_result",
          "data": {
            "text/plain": [
              "[Pipeline(steps=[('sc', StandardScaler()),\n",
              "                 ['clf', LogisticRegression(C=0.001, random_state=1)]]),\n",
              " DecisionTreeClassifier(criterion='entropy', max_depth=1, random_state=0),\n",
              " Pipeline(steps=[('sc', StandardScaler()),\n",
              "                 ['clf', KNeighborsClassifier(n_neighbors=1)]])]"
            ]
          },
          "metadata": {},
          "execution_count": 25
        }
      ],
      "source": [
        "grid.best_estimator_.classifiers"
      ]
    },
    {
      "cell_type": "code",
      "execution_count": 26,
      "metadata": {
        "execution": {
          "iopub.execute_input": "2021-10-23T06:49:18.125801Z",
          "iopub.status.busy": "2021-10-23T06:49:18.124869Z",
          "iopub.status.idle": "2021-10-23T06:49:18.127460Z",
          "shell.execute_reply": "2021-10-23T06:49:18.126828Z"
        },
        "id": "VU1_NO8yakGx"
      },
      "outputs": [],
      "source": [
        "mv_clf = grid.best_estimator_"
      ]
    },
    {
      "cell_type": "code",
      "execution_count": 27,
      "metadata": {
        "colab": {
          "base_uri": "https://localhost:8080/",
          "height": 231
        },
        "execution": {
          "iopub.execute_input": "2021-10-23T06:49:18.143944Z",
          "iopub.status.busy": "2021-10-23T06:49:18.141449Z",
          "iopub.status.idle": "2021-10-23T06:49:18.151532Z",
          "shell.execute_reply": "2021-10-23T06:49:18.150423Z"
        },
        "id": "bD8zksABakGx",
        "outputId": "1e2bc4ee-8e09-4ed1-a899-f9675787b231"
      },
      "outputs": [
        {
          "output_type": "execute_result",
          "data": {
            "text/plain": [
              "MajorityVoteClassifier(classifiers=[Pipeline(steps=[('sc', StandardScaler()),\n",
              "                                                    ('clf',\n",
              "                                                     LogisticRegression(C=0.001,\n",
              "                                                                        random_state=1))]),\n",
              "                                    DecisionTreeClassifier(criterion='entropy',\n",
              "                                                           max_depth=1,\n",
              "                                                           random_state=0),\n",
              "                                    Pipeline(steps=[('sc', StandardScaler()),\n",
              "                                                    ('clf',\n",
              "                                                     KNeighborsClassifier(n_neighbors=1))])])"
            ],
            "text/html": [
              "<style>#sk-container-id-1 {color: black;background-color: white;}#sk-container-id-1 pre{padding: 0;}#sk-container-id-1 div.sk-toggleable {background-color: white;}#sk-container-id-1 label.sk-toggleable__label {cursor: pointer;display: block;width: 100%;margin-bottom: 0;padding: 0.3em;box-sizing: border-box;text-align: center;}#sk-container-id-1 label.sk-toggleable__label-arrow:before {content: \"▸\";float: left;margin-right: 0.25em;color: #696969;}#sk-container-id-1 label.sk-toggleable__label-arrow:hover:before {color: black;}#sk-container-id-1 div.sk-estimator:hover label.sk-toggleable__label-arrow:before {color: black;}#sk-container-id-1 div.sk-toggleable__content {max-height: 0;max-width: 0;overflow: hidden;text-align: left;background-color: #f0f8ff;}#sk-container-id-1 div.sk-toggleable__content pre {margin: 0.2em;color: black;border-radius: 0.25em;background-color: #f0f8ff;}#sk-container-id-1 input.sk-toggleable__control:checked~div.sk-toggleable__content {max-height: 200px;max-width: 100%;overflow: auto;}#sk-container-id-1 input.sk-toggleable__control:checked~label.sk-toggleable__label-arrow:before {content: \"▾\";}#sk-container-id-1 div.sk-estimator input.sk-toggleable__control:checked~label.sk-toggleable__label {background-color: #d4ebff;}#sk-container-id-1 div.sk-label input.sk-toggleable__control:checked~label.sk-toggleable__label {background-color: #d4ebff;}#sk-container-id-1 input.sk-hidden--visually {border: 0;clip: rect(1px 1px 1px 1px);clip: rect(1px, 1px, 1px, 1px);height: 1px;margin: -1px;overflow: hidden;padding: 0;position: absolute;width: 1px;}#sk-container-id-1 div.sk-estimator {font-family: monospace;background-color: #f0f8ff;border: 1px dotted black;border-radius: 0.25em;box-sizing: border-box;margin-bottom: 0.5em;}#sk-container-id-1 div.sk-estimator:hover {background-color: #d4ebff;}#sk-container-id-1 div.sk-parallel-item::after {content: \"\";width: 100%;border-bottom: 1px solid gray;flex-grow: 1;}#sk-container-id-1 div.sk-label:hover label.sk-toggleable__label {background-color: #d4ebff;}#sk-container-id-1 div.sk-serial::before {content: \"\";position: absolute;border-left: 1px solid gray;box-sizing: border-box;top: 0;bottom: 0;left: 50%;z-index: 0;}#sk-container-id-1 div.sk-serial {display: flex;flex-direction: column;align-items: center;background-color: white;padding-right: 0.2em;padding-left: 0.2em;position: relative;}#sk-container-id-1 div.sk-item {position: relative;z-index: 1;}#sk-container-id-1 div.sk-parallel {display: flex;align-items: stretch;justify-content: center;background-color: white;position: relative;}#sk-container-id-1 div.sk-item::before, #sk-container-id-1 div.sk-parallel-item::before {content: \"\";position: absolute;border-left: 1px solid gray;box-sizing: border-box;top: 0;bottom: 0;left: 50%;z-index: -1;}#sk-container-id-1 div.sk-parallel-item {display: flex;flex-direction: column;z-index: 1;position: relative;background-color: white;}#sk-container-id-1 div.sk-parallel-item:first-child::after {align-self: flex-end;width: 50%;}#sk-container-id-1 div.sk-parallel-item:last-child::after {align-self: flex-start;width: 50%;}#sk-container-id-1 div.sk-parallel-item:only-child::after {width: 0;}#sk-container-id-1 div.sk-dashed-wrapped {border: 1px dashed gray;margin: 0 0.4em 0.5em 0.4em;box-sizing: border-box;padding-bottom: 0.4em;background-color: white;}#sk-container-id-1 div.sk-label label {font-family: monospace;font-weight: bold;display: inline-block;line-height: 1.2em;}#sk-container-id-1 div.sk-label-container {text-align: center;}#sk-container-id-1 div.sk-container {/* jupyter's `normalize.less` sets `[hidden] { display: none; }` but bootstrap.min.css set `[hidden] { display: none !important; }` so we also need the `!important` here to be able to override the default hidden behavior on the sphinx rendered scikit-learn.org. See: https://github.com/scikit-learn/scikit-learn/issues/21755 */display: inline-block !important;position: relative;}#sk-container-id-1 div.sk-text-repr-fallback {display: none;}</style><div id=\"sk-container-id-1\" class=\"sk-top-container\"><div class=\"sk-text-repr-fallback\"><pre>MajorityVoteClassifier(classifiers=[Pipeline(steps=[(&#x27;sc&#x27;, StandardScaler()),\n",
              "                                                    (&#x27;clf&#x27;,\n",
              "                                                     LogisticRegression(C=0.001,\n",
              "                                                                        random_state=1))]),\n",
              "                                    DecisionTreeClassifier(criterion=&#x27;entropy&#x27;,\n",
              "                                                           max_depth=1,\n",
              "                                                           random_state=0),\n",
              "                                    Pipeline(steps=[(&#x27;sc&#x27;, StandardScaler()),\n",
              "                                                    (&#x27;clf&#x27;,\n",
              "                                                     KNeighborsClassifier(n_neighbors=1))])])</pre><b>In a Jupyter environment, please rerun this cell to show the HTML representation or trust the notebook. <br />On GitHub, the HTML representation is unable to render, please try loading this page with nbviewer.org.</b></div><div class=\"sk-container\" hidden><div class=\"sk-item\"><div class=\"sk-estimator sk-toggleable\"><input class=\"sk-toggleable__control sk-hidden--visually\" id=\"sk-estimator-id-1\" type=\"checkbox\" checked><label for=\"sk-estimator-id-1\" class=\"sk-toggleable__label sk-toggleable__label-arrow\">MajorityVoteClassifier</label><div class=\"sk-toggleable__content\"><pre>MajorityVoteClassifier(classifiers=[Pipeline(steps=[(&#x27;sc&#x27;, StandardScaler()),\n",
              "                                                    (&#x27;clf&#x27;,\n",
              "                                                     LogisticRegression(C=0.001,\n",
              "                                                                        random_state=1))]),\n",
              "                                    DecisionTreeClassifier(criterion=&#x27;entropy&#x27;,\n",
              "                                                           max_depth=1,\n",
              "                                                           random_state=0),\n",
              "                                    Pipeline(steps=[(&#x27;sc&#x27;, StandardScaler()),\n",
              "                                                    (&#x27;clf&#x27;,\n",
              "                                                     KNeighborsClassifier(n_neighbors=1))])])</pre></div></div></div></div></div>"
            ]
          },
          "metadata": {},
          "execution_count": 27
        }
      ],
      "source": [
        "mv_clf.set_params(**grid.best_estimator_.get_params())"
      ]
    },
    {
      "cell_type": "code",
      "execution_count": 28,
      "metadata": {
        "colab": {
          "base_uri": "https://localhost:8080/",
          "height": 231
        },
        "execution": {
          "iopub.execute_input": "2021-10-23T06:49:18.167976Z",
          "iopub.status.busy": "2021-10-23T06:49:18.166632Z",
          "iopub.status.idle": "2021-10-23T06:49:18.171228Z",
          "shell.execute_reply": "2021-10-23T06:49:18.170574Z"
        },
        "id": "wdSmd4SBakGx",
        "outputId": "a2ecd4e2-84b4-458b-9b85-faedba18d46e"
      },
      "outputs": [
        {
          "output_type": "execute_result",
          "data": {
            "text/plain": [
              "MajorityVoteClassifier(classifiers=[Pipeline(steps=[('sc', StandardScaler()),\n",
              "                                                    ('clf',\n",
              "                                                     LogisticRegression(C=0.001,\n",
              "                                                                        random_state=1))]),\n",
              "                                    DecisionTreeClassifier(criterion='entropy',\n",
              "                                                           max_depth=1,\n",
              "                                                           random_state=0),\n",
              "                                    Pipeline(steps=[('sc', StandardScaler()),\n",
              "                                                    ('clf',\n",
              "                                                     KNeighborsClassifier(n_neighbors=1))])])"
            ],
            "text/html": [
              "<style>#sk-container-id-2 {color: black;background-color: white;}#sk-container-id-2 pre{padding: 0;}#sk-container-id-2 div.sk-toggleable {background-color: white;}#sk-container-id-2 label.sk-toggleable__label {cursor: pointer;display: block;width: 100%;margin-bottom: 0;padding: 0.3em;box-sizing: border-box;text-align: center;}#sk-container-id-2 label.sk-toggleable__label-arrow:before {content: \"▸\";float: left;margin-right: 0.25em;color: #696969;}#sk-container-id-2 label.sk-toggleable__label-arrow:hover:before {color: black;}#sk-container-id-2 div.sk-estimator:hover label.sk-toggleable__label-arrow:before {color: black;}#sk-container-id-2 div.sk-toggleable__content {max-height: 0;max-width: 0;overflow: hidden;text-align: left;background-color: #f0f8ff;}#sk-container-id-2 div.sk-toggleable__content pre {margin: 0.2em;color: black;border-radius: 0.25em;background-color: #f0f8ff;}#sk-container-id-2 input.sk-toggleable__control:checked~div.sk-toggleable__content {max-height: 200px;max-width: 100%;overflow: auto;}#sk-container-id-2 input.sk-toggleable__control:checked~label.sk-toggleable__label-arrow:before {content: \"▾\";}#sk-container-id-2 div.sk-estimator input.sk-toggleable__control:checked~label.sk-toggleable__label {background-color: #d4ebff;}#sk-container-id-2 div.sk-label input.sk-toggleable__control:checked~label.sk-toggleable__label {background-color: #d4ebff;}#sk-container-id-2 input.sk-hidden--visually {border: 0;clip: rect(1px 1px 1px 1px);clip: rect(1px, 1px, 1px, 1px);height: 1px;margin: -1px;overflow: hidden;padding: 0;position: absolute;width: 1px;}#sk-container-id-2 div.sk-estimator {font-family: monospace;background-color: #f0f8ff;border: 1px dotted black;border-radius: 0.25em;box-sizing: border-box;margin-bottom: 0.5em;}#sk-container-id-2 div.sk-estimator:hover {background-color: #d4ebff;}#sk-container-id-2 div.sk-parallel-item::after {content: \"\";width: 100%;border-bottom: 1px solid gray;flex-grow: 1;}#sk-container-id-2 div.sk-label:hover label.sk-toggleable__label {background-color: #d4ebff;}#sk-container-id-2 div.sk-serial::before {content: \"\";position: absolute;border-left: 1px solid gray;box-sizing: border-box;top: 0;bottom: 0;left: 50%;z-index: 0;}#sk-container-id-2 div.sk-serial {display: flex;flex-direction: column;align-items: center;background-color: white;padding-right: 0.2em;padding-left: 0.2em;position: relative;}#sk-container-id-2 div.sk-item {position: relative;z-index: 1;}#sk-container-id-2 div.sk-parallel {display: flex;align-items: stretch;justify-content: center;background-color: white;position: relative;}#sk-container-id-2 div.sk-item::before, #sk-container-id-2 div.sk-parallel-item::before {content: \"\";position: absolute;border-left: 1px solid gray;box-sizing: border-box;top: 0;bottom: 0;left: 50%;z-index: -1;}#sk-container-id-2 div.sk-parallel-item {display: flex;flex-direction: column;z-index: 1;position: relative;background-color: white;}#sk-container-id-2 div.sk-parallel-item:first-child::after {align-self: flex-end;width: 50%;}#sk-container-id-2 div.sk-parallel-item:last-child::after {align-self: flex-start;width: 50%;}#sk-container-id-2 div.sk-parallel-item:only-child::after {width: 0;}#sk-container-id-2 div.sk-dashed-wrapped {border: 1px dashed gray;margin: 0 0.4em 0.5em 0.4em;box-sizing: border-box;padding-bottom: 0.4em;background-color: white;}#sk-container-id-2 div.sk-label label {font-family: monospace;font-weight: bold;display: inline-block;line-height: 1.2em;}#sk-container-id-2 div.sk-label-container {text-align: center;}#sk-container-id-2 div.sk-container {/* jupyter's `normalize.less` sets `[hidden] { display: none; }` but bootstrap.min.css set `[hidden] { display: none !important; }` so we also need the `!important` here to be able to override the default hidden behavior on the sphinx rendered scikit-learn.org. See: https://github.com/scikit-learn/scikit-learn/issues/21755 */display: inline-block !important;position: relative;}#sk-container-id-2 div.sk-text-repr-fallback {display: none;}</style><div id=\"sk-container-id-2\" class=\"sk-top-container\"><div class=\"sk-text-repr-fallback\"><pre>MajorityVoteClassifier(classifiers=[Pipeline(steps=[(&#x27;sc&#x27;, StandardScaler()),\n",
              "                                                    (&#x27;clf&#x27;,\n",
              "                                                     LogisticRegression(C=0.001,\n",
              "                                                                        random_state=1))]),\n",
              "                                    DecisionTreeClassifier(criterion=&#x27;entropy&#x27;,\n",
              "                                                           max_depth=1,\n",
              "                                                           random_state=0),\n",
              "                                    Pipeline(steps=[(&#x27;sc&#x27;, StandardScaler()),\n",
              "                                                    (&#x27;clf&#x27;,\n",
              "                                                     KNeighborsClassifier(n_neighbors=1))])])</pre><b>In a Jupyter environment, please rerun this cell to show the HTML representation or trust the notebook. <br />On GitHub, the HTML representation is unable to render, please try loading this page with nbviewer.org.</b></div><div class=\"sk-container\" hidden><div class=\"sk-item\"><div class=\"sk-estimator sk-toggleable\"><input class=\"sk-toggleable__control sk-hidden--visually\" id=\"sk-estimator-id-2\" type=\"checkbox\" checked><label for=\"sk-estimator-id-2\" class=\"sk-toggleable__label sk-toggleable__label-arrow\">MajorityVoteClassifier</label><div class=\"sk-toggleable__content\"><pre>MajorityVoteClassifier(classifiers=[Pipeline(steps=[(&#x27;sc&#x27;, StandardScaler()),\n",
              "                                                    (&#x27;clf&#x27;,\n",
              "                                                     LogisticRegression(C=0.001,\n",
              "                                                                        random_state=1))]),\n",
              "                                    DecisionTreeClassifier(criterion=&#x27;entropy&#x27;,\n",
              "                                                           max_depth=1,\n",
              "                                                           random_state=0),\n",
              "                                    Pipeline(steps=[(&#x27;sc&#x27;, StandardScaler()),\n",
              "                                                    (&#x27;clf&#x27;,\n",
              "                                                     KNeighborsClassifier(n_neighbors=1))])])</pre></div></div></div></div></div>"
            ]
          },
          "metadata": {},
          "execution_count": 28
        }
      ],
      "source": [
        "mv_clf"
      ]
    },
    {
      "cell_type": "markdown",
      "metadata": {
        "id": "IdQPEazxakGy"
      },
      "source": [
        "사이킷런 0.22버전에서 `StackingClassifier`와 `StackingRegressor`가 추가되었습니다. 앞서 만든 분류기를 사용해 `StackingClassifier`에 그리드 서치를 적용해 보겠습니다. `StackingClassifier`는 `VotingClassifier`와 비슷하게 `estimators` 매개변수로 분류기 이름과 객체로 구성된 튜플의 리스트를 입력받습니다. `final_estimator` 매개변수로는 최종 결정을 위한 분류기를 지정합니다. 매개변수 그리드를 지정할 때는 튜플에 사용한 분류기 이름을 접두사로 사용합니다."
      ]
    },
    {
      "cell_type": "code",
      "execution_count": 29,
      "metadata": {
        "colab": {
          "base_uri": "https://localhost:8080/"
        },
        "execution": {
          "iopub.execute_input": "2021-10-23T06:49:18.183745Z",
          "iopub.status.busy": "2021-10-23T06:49:18.179630Z",
          "iopub.status.idle": "2021-10-23T06:49:21.448091Z",
          "shell.execute_reply": "2021-10-23T06:49:21.446962Z"
        },
        "id": "-1jihrWQakGy",
        "outputId": "86fc4740-f6cd-44a3-bc20-fc7fb9ccf6d4"
      },
      "outputs": [
        {
          "output_type": "stream",
          "name": "stdout",
          "text": [
            "0.950 +/- 0.07 {'dt__max_depth': 1, 'lr__clf__C': 0.001}\n",
            "0.983 +/- 0.02 {'dt__max_depth': 1, 'lr__clf__C': 0.1}\n",
            "0.967 +/- 0.05 {'dt__max_depth': 1, 'lr__clf__C': 100.0}\n",
            "0.950 +/- 0.07 {'dt__max_depth': 2, 'lr__clf__C': 0.001}\n",
            "0.983 +/- 0.02 {'dt__max_depth': 2, 'lr__clf__C': 0.1}\n",
            "0.967 +/- 0.05 {'dt__max_depth': 2, 'lr__clf__C': 100.0}\n"
          ]
        }
      ],
      "source": [
        "from sklearn.ensemble import StackingClassifier\n",
        "\n",
        "stack = StackingClassifier(estimators=[\n",
        "    ('lr', pipe1), ('dt', clf2), ('knn', pipe3)],\n",
        "                           final_estimator=LogisticRegression())\n",
        "\n",
        "params = {'dt__max_depth': [1, 2],\n",
        "          'lr__clf__C': [0.001, 0.1, 100.0]}\n",
        "\n",
        "grid = GridSearchCV(estimator=stack,\n",
        "                    param_grid=params,\n",
        "                    cv=10,\n",
        "                    scoring='roc_auc')\n",
        "grid.fit(X_train, y_train)\n",
        "\n",
        "for r, _ in enumerate(grid.cv_results_['mean_test_score']):\n",
        "    print(\"%0.3f +/- %0.2f %r\"\n",
        "          % (grid.cv_results_['mean_test_score'][r],\n",
        "             grid.cv_results_['std_test_score'][r] / 2.0,\n",
        "             grid.cv_results_['params'][r]))"
      ]
    },
    {
      "cell_type": "code",
      "execution_count": 30,
      "metadata": {
        "colab": {
          "base_uri": "https://localhost:8080/"
        },
        "execution": {
          "iopub.execute_input": "2021-10-23T06:49:21.453714Z",
          "iopub.status.busy": "2021-10-23T06:49:21.452862Z",
          "iopub.status.idle": "2021-10-23T06:49:21.456054Z",
          "shell.execute_reply": "2021-10-23T06:49:21.456531Z"
        },
        "id": "2Ak6GUa3akGy",
        "outputId": "7b752469-a137-406d-c665-3a791fdb39be",
        "scrolled": true
      },
      "outputs": [
        {
          "output_type": "stream",
          "name": "stdout",
          "text": [
            "최적의 매개변수: {'dt__max_depth': 1, 'lr__clf__C': 0.1}\n",
            "정확도: 0.98\n"
          ]
        }
      ],
      "source": [
        "print('최적의 매개변수: %s' % grid.best_params_)\n",
        "print('정확도: %.2f' % grid.best_score_)"
      ]
    },
    {
      "cell_type": "markdown",
      "metadata": {
        "id": "qApI8cbfakGy"
      },
      "source": [
        "<br>"
      ]
    },
    {
      "cell_type": "markdown",
      "metadata": {
        "id": "99K1btErakGy"
      },
      "source": [
        "# 7.3 배깅: 부트스트랩 샘플링을 통한 분류 앙상블"
      ]
    },
    {
      "cell_type": "code",
      "execution_count": 31,
      "metadata": {
        "colab": {
          "base_uri": "https://localhost:8080/",
          "height": 401
        },
        "execution": {
          "iopub.execute_input": "2021-10-23T06:49:21.462500Z",
          "iopub.status.busy": "2021-10-23T06:49:21.461755Z",
          "iopub.status.idle": "2021-10-23T06:49:21.465711Z",
          "shell.execute_reply": "2021-10-23T06:49:21.465113Z"
        },
        "id": "9wqPbCzrakGy",
        "outputId": "113c0dd9-0d53-489a-e845-3a5a414b2221"
      },
      "outputs": [
        {
          "output_type": "execute_result",
          "data": {
            "text/html": [
              "<img src=\"https://git.io/Jtsk4\" width=\"500\"/>"
            ],
            "text/plain": [
              "<IPython.core.display.Image object>"
            ]
          },
          "metadata": {},
          "execution_count": 31
        }
      ],
      "source": [
        "Image(url='https://git.io/Jtsk4', width=500)"
      ]
    },
    {
      "cell_type": "markdown",
      "metadata": {
        "id": "bCnhSNYuakGy"
      },
      "source": [
        "## 7.3.1 배깅 알고리즘의 작동 방식"
      ]
    },
    {
      "cell_type": "code",
      "execution_count": 32,
      "metadata": {
        "colab": {
          "base_uri": "https://localhost:8080/",
          "height": 372
        },
        "execution": {
          "iopub.execute_input": "2021-10-23T06:49:21.471688Z",
          "iopub.status.busy": "2021-10-23T06:49:21.470693Z",
          "iopub.status.idle": "2021-10-23T06:49:21.474586Z",
          "shell.execute_reply": "2021-10-23T06:49:21.475052Z"
        },
        "id": "_Ksm7utrakGz",
        "outputId": "23fbfbe7-ac8a-4a9f-c377-7751cf2e9aff"
      },
      "outputs": [
        {
          "output_type": "execute_result",
          "data": {
            "text/html": [
              "<img src=\"https://git.io/JtskB\" width=\"400\"/>"
            ],
            "text/plain": [
              "<IPython.core.display.Image object>"
            ]
          },
          "metadata": {},
          "execution_count": 32
        }
      ],
      "source": [
        "Image(url='https://git.io/JtskB', width=400)"
      ]
    },
    {
      "cell_type": "markdown",
      "metadata": {
        "id": "ja5bQkOuakGz"
      },
      "source": [
        "## 7.3.2 배깅으로 Wine 데이터셋의 샘플 분류"
      ]
    },
    {
      "cell_type": "code",
      "execution_count": 33,
      "metadata": {
        "execution": {
          "iopub.execute_input": "2021-10-23T06:49:21.481833Z",
          "iopub.status.busy": "2021-10-23T06:49:21.481095Z",
          "iopub.status.idle": "2021-10-23T06:49:22.329451Z",
          "shell.execute_reply": "2021-10-23T06:49:22.328783Z"
        },
        "id": "hhl59rXCakGz"
      },
      "outputs": [],
      "source": [
        "import pandas as pd\n",
        "\n",
        "df_wine = pd.read_csv('https://archive.ics.uci.edu/ml/'\n",
        "                      'machine-learning-databases/wine/wine.data',\n",
        "                      header=None)\n",
        "\n",
        "df_wine.columns = ['Class label', 'Alcohol', 'Malic acid', 'Ash',\n",
        "                   'Alcalinity of ash', 'Magnesium', 'Total phenols',\n",
        "                   'Flavanoids', 'Nonflavanoid phenols', 'Proanthocyanins',\n",
        "                   'Color intensity', 'Hue', 'OD280/OD315 of diluted wines',\n",
        "                   'Proline']\n",
        "\n",
        "# UCI 머신 러닝 저장소에서 Wine 데이터셋을 다운로드할 수 없을 때\n",
        "# 다음 주석을 해제하고 로컬 경로에서 데이터셋을 적재하세요:\n",
        "\n",
        "# df_wine = pd.read_csv('wine.data', header=None)\n",
        "\n",
        "# 클래스 1 제외\n",
        "df_wine = df_wine[df_wine['Class label'] != 1]\n",
        "\n",
        "y = df_wine['Class label'].values\n",
        "X = df_wine[['Alcohol', 'OD280/OD315 of diluted wines']].values"
      ]
    },
    {
      "cell_type": "code",
      "execution_count": 34,
      "metadata": {
        "execution": {
          "iopub.execute_input": "2021-10-23T06:49:22.336868Z",
          "iopub.status.busy": "2021-10-23T06:49:22.336108Z",
          "iopub.status.idle": "2021-10-23T06:49:22.341371Z",
          "shell.execute_reply": "2021-10-23T06:49:22.340515Z"
        },
        "id": "dPFZfXfqakGz"
      },
      "outputs": [],
      "source": [
        "from sklearn.preprocessing import LabelEncoder\n",
        "from sklearn.model_selection import train_test_split\n",
        "\n",
        "\n",
        "le = LabelEncoder()\n",
        "y = le.fit_transform(y)\n",
        "\n",
        "X_train, X_test, y_train, y_test =\\\n",
        "            train_test_split(X, y,\n",
        "                             test_size=0.2,\n",
        "                             random_state=1,\n",
        "                             stratify=y)"
      ]
    },
    {
      "cell_type": "code",
      "execution_count": 35,
      "metadata": {
        "execution": {
          "iopub.execute_input": "2021-10-23T06:49:22.348219Z",
          "iopub.status.busy": "2021-10-23T06:49:22.347182Z",
          "iopub.status.idle": "2021-10-23T06:49:22.350201Z",
          "shell.execute_reply": "2021-10-23T06:49:22.349374Z"
        },
        "id": "jud0d9B1akGz"
      },
      "outputs": [],
      "source": [
        "from sklearn.ensemble import BaggingClassifier\n",
        "from sklearn.tree import DecisionTreeClassifier\n",
        "\n",
        "tree = DecisionTreeClassifier(criterion='entropy',\n",
        "                              max_depth=None,\n",
        "                              random_state=1)\n",
        "\n",
        "bag = BaggingClassifier(estimator=tree,\n",
        "                        n_estimators=500,\n",
        "                        max_samples=1.0,\n",
        "                        max_features=1.0,\n",
        "                        bootstrap=True,\n",
        "                        bootstrap_features=False,\n",
        "                        n_jobs=1,\n",
        "                        random_state=1)"
      ]
    },
    {
      "cell_type": "code",
      "execution_count": 36,
      "metadata": {
        "colab": {
          "base_uri": "https://localhost:8080/"
        },
        "execution": {
          "iopub.execute_input": "2021-10-23T06:49:22.359011Z",
          "iopub.status.busy": "2021-10-23T06:49:22.357876Z",
          "iopub.status.idle": "2021-10-23T06:49:23.136509Z",
          "shell.execute_reply": "2021-10-23T06:49:23.135651Z"
        },
        "id": "_Z_RDmRfakGz",
        "outputId": "7110bfce-c7a3-4c5c-8b3e-552fc2761029"
      },
      "outputs": [
        {
          "output_type": "stream",
          "name": "stdout",
          "text": [
            "결정 트리의 훈련 정확도/테스트 정확도 1.000/0.833\n",
            "배깅의 훈련 정확도/테스트 정확도 1.000/0.917\n"
          ]
        }
      ],
      "source": [
        "from sklearn.metrics import accuracy_score\n",
        "\n",
        "tree = tree.fit(X_train, y_train)\n",
        "y_train_pred = tree.predict(X_train)\n",
        "y_test_pred = tree.predict(X_test)\n",
        "\n",
        "tree_train = accuracy_score(y_train, y_train_pred)\n",
        "tree_test = accuracy_score(y_test, y_test_pred)\n",
        "print('결정 트리의 훈련 정확도/테스트 정확도 %.3f/%.3f'\n",
        "      % (tree_train, tree_test))\n",
        "\n",
        "bag = bag.fit(X_train, y_train)\n",
        "y_train_pred = bag.predict(X_train)\n",
        "y_test_pred = bag.predict(X_test)\n",
        "\n",
        "bag_train = accuracy_score(y_train, y_train_pred)\n",
        "bag_test = accuracy_score(y_test, y_test_pred)\n",
        "print('배깅의 훈련 정확도/테스트 정확도 %.3f/%.3f'\n",
        "      % (bag_train, bag_test))"
      ]
    },
    {
      "cell_type": "code",
      "execution_count": 37,
      "metadata": {
        "colab": {
          "base_uri": "https://localhost:8080/",
          "height": 337
        },
        "execution": {
          "iopub.execute_input": "2021-10-23T06:49:23.146380Z",
          "iopub.status.busy": "2021-10-23T06:49:23.145063Z",
          "iopub.status.idle": "2021-10-23T06:49:24.175627Z",
          "shell.execute_reply": "2021-10-23T06:49:24.176197Z"
        },
        "id": "M8lTR1uyakGz",
        "outputId": "5288e62d-7f75-48b9-8467-29d4059b5d09"
      },
      "outputs": [
        {
          "output_type": "display_data",
          "data": {
            "text/plain": [
              "<Figure size 800x300 with 2 Axes>"
            ],
            "image/png": "[encoded data removed]"
          },
          "metadata": {}
        }
      ],
      "source": [
        "import numpy as np\n",
        "import matplotlib.pyplot as plt\n",
        "\n",
        "x_min = X_train[:, 0].min() - 1\n",
        "x_max = X_train[:, 0].max() + 1\n",
        "y_min = X_train[:, 1].min() - 1\n",
        "y_max = X_train[:, 1].max() + 1\n",
        "\n",
        "xx, yy = np.meshgrid(np.arange(x_min, x_max, 0.1),\n",
        "                     np.arange(y_min, y_max, 0.1))\n",
        "\n",
        "f, axarr = plt.subplots(nrows=1, ncols=2,\n",
        "                        sharex='col',\n",
        "                        sharey='row',\n",
        "                        figsize=(8, 3))\n",
        "\n",
        "\n",
        "for idx, clf, tt in zip([0, 1],\n",
        "                        [tree, bag],\n",
        "                        ['Decision tree', 'Bagging']):\n",
        "    clf.fit(X_train, y_train)\n",
        "\n",
        "    Z = clf.predict(np.c_[xx.ravel(), yy.ravel()])\n",
        "    Z = Z.reshape(xx.shape)\n",
        "\n",
        "    axarr[idx].contourf(xx, yy, Z, alpha=0.3)\n",
        "    axarr[idx].scatter(X_train[y_train == 0, 0],\n",
        "                       X_train[y_train == 0, 1],\n",
        "                       c='blue', marker='^')\n",
        "\n",
        "    axarr[idx].scatter(X_train[y_train == 1, 0],\n",
        "                       X_train[y_train == 1, 1],\n",
        "                       c='green', marker='o')\n",
        "\n",
        "    axarr[idx].set_title(tt)\n",
        "\n",
        "axarr[0].set_ylabel('Alcohol', fontsize=12)\n",
        "\n",
        "plt.tight_layout()\n",
        "plt.text(0, -0.2,\n",
        "         s='OD280/OD315 of diluted wines',\n",
        "         ha='center',\n",
        "         va='center',\n",
        "         fontsize=12,\n",
        "         transform=axarr[1].transAxes)\n",
        "\n",
        "# plt.savefig('images/07_08.png', dpi=300, bbox_inches='tight')\n",
        "plt.show()"
      ]
    },
    {
      "cell_type": "markdown",
      "metadata": {
        "id": "OYR6k6QQakG0"
      },
      "source": [
        "랜덤 포레스트와 배깅은 모두 기본적으로 부트스트랩 샘플링을 사용하기 때문에 분류기마다 훈련에 사용하지 않는 여분의 샘플이 남습니다. 이를 OOB(out of bag) 샘플이라고 합니다. 이를 사용하면 검증 세트를 만들지 않고 앙상블 모델을 평가할 수 있습니다. 사이킷런에서는 `oob_score` 매개변수를 `True`로 설정하면 됩니다. 이 매개변수의 기본값은 `False`입니다.\n",
        "사이킷런의 랜덤 포레스트는 분류일 경우 OOB 샘플에 대한 각 트리의 예측 확률을 누적하여 가장 큰 확률을 가진 클래스를 타깃과 비교하여 정확도를 계산합니다. 회귀일 경우에는 각 트리의 예측 평균에 대한 R2 점수를 계산합니다. 이 점수는 `oob_score_` 속성에 저장되어 있습니다. `RandomForestClassifier`에 Wine 데이터셋을 적용하여 OOB 점수를 계산해 보겠습니다."
      ]
    },
    {
      "cell_type": "code",
      "execution_count": 38,
      "metadata": {
        "colab": {
          "base_uri": "https://localhost:8080/"
        },
        "execution": {
          "iopub.execute_input": "2021-10-23T06:49:24.208798Z",
          "iopub.status.busy": "2021-10-23T06:49:24.193765Z",
          "iopub.status.idle": "2021-10-23T06:49:24.350626Z",
          "shell.execute_reply": "2021-10-23T06:49:24.351163Z"
        },
        "id": "soY4R5nUakG0",
        "outputId": "29b2d1c7-dd5f-4171-f566-0b20604b74f4"
      },
      "outputs": [
        {
          "output_type": "stream",
          "name": "stdout",
          "text": [
            "랜덤 포레스트의 훈련 정확도/테스트 정확도 1.000/0.917\n",
            "랜덤 포레스트의 OOB 정확도 0.884\n"
          ]
        }
      ],
      "source": [
        "from sklearn.ensemble import RandomForestClassifier\n",
        "rf = RandomForestClassifier(oob_score=True,\n",
        "                            random_state=1)\n",
        "rf.fit(X_train, y_train)\n",
        "\n",
        "rf_train_score = rf.score(X_train, y_train)\n",
        "rf_test_score = rf.score(X_test, y_test)\n",
        "print('랜덤 포레스트의 훈련 정확도/테스트 정확도 %.3f/%.3f' %\n",
        "      (rf_train_score, rf_test_score))\n",
        "print('랜덤 포레스트의 OOB 정확도 %.3f' % rf.oob_score_)"
      ]
    },
    {
      "cell_type": "markdown",
      "metadata": {
        "id": "30eZACHEakG0"
      },
      "source": [
        "배깅의 OOB 점수 계산 방식은 랜덤 포레스트와 거의 동일합니다. 다만 `estimator`에 지정된 분류기가 `predict_proba` 메서드를 지원하지 않을 경우 예측 클래스를 카운팅하여 가장 높은 값의 클래스를 사용해 정확도를 계산합니다. 본문에서 만든 것과 동일한 `BaggingClassifier` 모델를 만들고 OOB 점수를 계산해 보겠습니다."
      ]
    },
    {
      "cell_type": "code",
      "execution_count": 39,
      "metadata": {
        "colab": {
          "base_uri": "https://localhost:8080/"
        },
        "execution": {
          "iopub.execute_input": "2021-10-23T06:49:24.360022Z",
          "iopub.status.busy": "2021-10-23T06:49:24.359178Z",
          "iopub.status.idle": "2021-10-23T06:49:25.301120Z",
          "shell.execute_reply": "2021-10-23T06:49:25.300461Z"
        },
        "id": "Xo_7TLQJakG0",
        "outputId": "62781652-5fcd-4a35-9f7a-9f81e9ec78a6"
      },
      "outputs": [
        {
          "output_type": "stream",
          "name": "stdout",
          "text": [
            "배깅의 훈련 정확도/테스트 정확도 1.000/0.917\n",
            "배깅의 OOB 정확도 0.895\n"
          ]
        }
      ],
      "source": [
        "bag = BaggingClassifier(estimator=tree,\n",
        "                        n_estimators=500,\n",
        "                        oob_score=True,\n",
        "                        random_state=1)\n",
        "bag.fit(X_train, y_train)\n",
        "\n",
        "bag_train_score = bag.score(X_train, y_train)\n",
        "bag_test_score = bag.score(X_test, y_test)\n",
        "print('배깅의 훈련 정확도/테스트 정확도 %.3f/%.3f' %\n",
        "      (bag_train_score, bag_test_score))\n",
        "print('배깅의 OOB 정확도 %.3f' % bag.oob_score_)"
      ]
    },
    {
      "cell_type": "markdown",
      "metadata": {
        "id": "GPagbVtQakG0"
      },
      "source": [
        "<br>"
      ]
    },
    {
      "cell_type": "markdown",
      "metadata": {
        "id": "exAngFFZakG0"
      },
      "source": [
        "# 7.4 약한 학습기를 이용한 에이다부스트"
      ]
    },
    {
      "cell_type": "markdown",
      "metadata": {
        "id": "iasLA54vakG0"
      },
      "source": [
        "## 7.4.1 부스팅 작동 원리"
      ]
    },
    {
      "cell_type": "code",
      "execution_count": 40,
      "metadata": {
        "colab": {
          "base_uri": "https://localhost:8080/",
          "height": 363
        },
        "execution": {
          "iopub.execute_input": "2021-10-23T06:49:25.306574Z",
          "iopub.status.busy": "2021-10-23T06:49:25.305848Z",
          "iopub.status.idle": "2021-10-23T06:49:25.309339Z",
          "shell.execute_reply": "2021-10-23T06:49:25.308702Z"
        },
        "id": "3mPoPzn9akG0",
        "outputId": "62b79442-7407-4e4a-b008-62e175da0d1d"
      },
      "outputs": [
        {
          "output_type": "execute_result",
          "data": {
            "text/html": [
              "<img src=\"https://git.io/Jtsk0\" width=\"400\"/>"
            ],
            "text/plain": [
              "<IPython.core.display.Image object>"
            ]
          },
          "metadata": {},
          "execution_count": 40
        }
      ],
      "source": [
        "Image(url='https://git.io/Jtsk0', width=400)"
      ]
    },
    {
      "cell_type": "code",
      "execution_count": 41,
      "metadata": {
        "colab": {
          "base_uri": "https://localhost:8080/",
          "height": 288
        },
        "execution": {
          "iopub.execute_input": "2021-10-23T06:49:25.314805Z",
          "iopub.status.busy": "2021-10-23T06:49:25.313995Z",
          "iopub.status.idle": "2021-10-23T06:49:25.317567Z",
          "shell.execute_reply": "2021-10-23T06:49:25.318012Z"
        },
        "id": "TQ4NDP-ZakG1",
        "outputId": "7cd242a1-6d2b-423e-882a-44c771557174"
      },
      "outputs": [
        {
          "output_type": "execute_result",
          "data": {
            "text/html": [
              "<img src=\"https://git.io/Jtskg\" width=\"500\"/>"
            ],
            "text/plain": [
              "<IPython.core.display.Image object>"
            ]
          },
          "metadata": {},
          "execution_count": 41
        }
      ],
      "source": [
        "Image(url='https://git.io/Jtskg', width=500)"
      ]
    },
    {
      "cell_type": "markdown",
      "metadata": {
        "id": "_8fMbcMnakG1"
      },
      "source": [
        "## 7.4.2 사이킷런에서 에이다부스트 사용"
      ]
    },
    {
      "cell_type": "code",
      "execution_count": 42,
      "metadata": {
        "execution": {
          "iopub.execute_input": "2021-10-23T06:49:25.323428Z",
          "iopub.status.busy": "2021-10-23T06:49:25.322659Z",
          "iopub.status.idle": "2021-10-23T06:49:25.325603Z",
          "shell.execute_reply": "2021-10-23T06:49:25.324883Z"
        },
        "id": "2PFYhXvXakG1"
      },
      "outputs": [],
      "source": [
        "from sklearn.ensemble import AdaBoostClassifier\n",
        "\n",
        "tree = DecisionTreeClassifier(criterion='entropy',\n",
        "                              max_depth=1,\n",
        "                              random_state=1)\n",
        "\n",
        "ada = AdaBoostClassifier(estimator=tree,\n",
        "                         n_estimators=500,\n",
        "                         learning_rate=0.1,\n",
        "                         random_state=1)"
      ]
    },
    {
      "cell_type": "code",
      "execution_count": 43,
      "metadata": {
        "colab": {
          "base_uri": "https://localhost:8080/"
        },
        "execution": {
          "iopub.execute_input": "2021-10-23T06:49:25.332879Z",
          "iopub.status.busy": "2021-10-23T06:49:25.332157Z",
          "iopub.status.idle": "2021-10-23T06:49:26.130911Z",
          "shell.execute_reply": "2021-10-23T06:49:26.129659Z"
        },
        "id": "PWayLlO7akG1",
        "outputId": "0ec5d922-b1da-4b6f-c097-eb53fcb1dab7"
      },
      "outputs": [
        {
          "output_type": "stream",
          "name": "stdout",
          "text": [
            "결정 트리의 훈련 정확도/테스트 정확도 0.916/0.875\n",
            "에이다부스트의 훈련 정확도/테스트 정확도 1.000/0.917\n"
          ]
        }
      ],
      "source": [
        "tree = tree.fit(X_train, y_train)\n",
        "y_train_pred = tree.predict(X_train)\n",
        "y_test_pred = tree.predict(X_test)\n",
        "\n",
        "tree_train = accuracy_score(y_train, y_train_pred)\n",
        "tree_test = accuracy_score(y_test, y_test_pred)\n",
        "print('결정 트리의 훈련 정확도/테스트 정확도 %.3f/%.3f'\n",
        "      % (tree_train, tree_test))\n",
        "\n",
        "ada = ada.fit(X_train, y_train)\n",
        "y_train_pred = ada.predict(X_train)\n",
        "y_test_pred = ada.predict(X_test)\n",
        "\n",
        "ada_train = accuracy_score(y_train, y_train_pred)\n",
        "ada_test = accuracy_score(y_test, y_test_pred)\n",
        "print('에이다부스트의 훈련 정확도/테스트 정확도 %.3f/%.3f'\n",
        "      % (ada_train, ada_test))"
      ]
    },
    {
      "cell_type": "code",
      "execution_count": 44,
      "metadata": {
        "colab": {
          "base_uri": "https://localhost:8080/",
          "height": 337
        },
        "execution": {
          "iopub.execute_input": "2021-10-23T06:49:26.141732Z",
          "iopub.status.busy": "2021-10-23T06:49:26.139735Z",
          "iopub.status.idle": "2021-10-23T06:49:27.296205Z",
          "shell.execute_reply": "2021-10-23T06:49:27.296803Z"
        },
        "id": "U95NMQQuakG1",
        "outputId": "bab46035-b543-4622-9e22-146527810e39"
      },
      "outputs": [
        {
          "output_type": "display_data",
          "data": {
            "text/plain": [
              "<Figure size 800x300 with 2 Axes>"
            ],
            "image/png": "[encoded data removed]"
          },
          "metadata": {}
        }
      ],
      "source": [
        "x_min, x_max = X_train[:, 0].min() - 1, X_train[:, 0].max() + 1\n",
        "y_min, y_max = X_train[:, 1].min() - 1, X_train[:, 1].max() + 1\n",
        "xx, yy = np.meshgrid(np.arange(x_min, x_max, 0.1),\n",
        "                     np.arange(y_min, y_max, 0.1))\n",
        "\n",
        "f, axarr = plt.subplots(1, 2, sharex='col', sharey='row', figsize=(8, 3))\n",
        "\n",
        "\n",
        "for idx, clf, tt in zip([0, 1],\n",
        "                        [tree, ada],\n",
        "                        ['Decision tree', 'AdaBoost']):\n",
        "    clf.fit(X_train, y_train)\n",
        "\n",
        "    Z = clf.predict(np.c_[xx.ravel(), yy.ravel()])\n",
        "    Z = Z.reshape(xx.shape)\n",
        "\n",
        "    axarr[idx].contourf(xx, yy, Z, alpha=0.3)\n",
        "    axarr[idx].scatter(X_train[y_train == 0, 0],\n",
        "                       X_train[y_train == 0, 1],\n",
        "                       c='blue', marker='^')\n",
        "    axarr[idx].scatter(X_train[y_train == 1, 0],\n",
        "                       X_train[y_train == 1, 1],\n",
        "                       c='green', marker='o')\n",
        "    axarr[idx].set_title(tt)\n",
        "\n",
        "axarr[0].set_ylabel('Alcohol', fontsize=12)\n",
        "\n",
        "plt.tight_layout()\n",
        "plt.text(0, -0.2,\n",
        "         s='OD280/OD315 of diluted wines',\n",
        "         ha='center',\n",
        "         va='center',\n",
        "         fontsize=12,\n",
        "         transform=axarr[1].transAxes)\n",
        "\n",
        "# plt.savefig('images/07_11.png', dpi=300, bbox_inches='tight')\n",
        "plt.show()"
      ]
    },
    {
      "cell_type": "markdown",
      "metadata": {
        "id": "70GXzKtSakG1"
      },
      "source": [
        "그레이디언트 부스팅은 에이다부스트와는 달리 이전의 약한 학습기가 만든 잔차 오차(residual error)에 대해 학습하는 새로운 학습기를 추가합니다. 신경망 알고리즘이 잘 맞는 이미지, 텍스트 같은 데이터를 제외하고 구조적인 데이터셋에서 현재 가장 높은 성능을 내는 알고리즘 중 하나입니다. 사이킷런에는 `GradientBoostingClassifier`와 `GradientBoostingRegressor` 클래스로 구현되어 있습니다. 앞에서 사용한 훈련 데이터를 이용하여 그레이디언트 부스팅 모델을 훈련시켜 보죠."
      ]
    },
    {
      "cell_type": "code",
      "execution_count": 45,
      "metadata": {
        "colab": {
          "base_uri": "https://localhost:8080/"
        },
        "execution": {
          "iopub.execute_input": "2021-10-23T06:49:27.303360Z",
          "iopub.status.busy": "2021-10-23T06:49:27.299845Z",
          "iopub.status.idle": "2021-10-23T06:49:27.317931Z",
          "shell.execute_reply": "2021-10-23T06:49:27.317100Z"
        },
        "id": "xH51w1rlakG1",
        "outputId": "e262dbad-3b08-4306-cbd9-dfe4c832ad0f"
      },
      "outputs": [
        {
          "output_type": "stream",
          "name": "stdout",
          "text": [
            "그래디언트 부스팅의 훈련 정확도/테스트 정확도 1.000/0.917\n"
          ]
        }
      ],
      "source": [
        "from sklearn.ensemble import GradientBoostingClassifier\n",
        "\n",
        "gbrt = GradientBoostingClassifier(n_estimators=20, random_state=42)\n",
        "gbrt.fit(X_train, y_train)\n",
        "\n",
        "gbrt_train_score = gbrt.score(X_train, y_train)\n",
        "gbrt_test_score = gbrt.score(X_test, y_test)\n",
        "print('그래디언트 부스팅의 훈련 정확도/테스트 정확도 %.3f/%.3f'\n",
        "      % (gbrt_train_score, gbrt_test_score))"
      ]
    },
    {
      "cell_type": "code",
      "execution_count": 46,
      "metadata": {
        "colab": {
          "base_uri": "https://localhost:8080/",
          "height": 337
        },
        "execution": {
          "iopub.execute_input": "2021-10-23T06:49:27.332592Z",
          "iopub.status.busy": "2021-10-23T06:49:27.328052Z",
          "iopub.status.idle": "2021-10-23T06:49:27.606368Z",
          "shell.execute_reply": "2021-10-23T06:49:27.606945Z"
        },
        "id": "H5nh3RUBakG2",
        "outputId": "269922ed-30e2-4898-b235-aa4258d2d628"
      },
      "outputs": [
        {
          "output_type": "display_data",
          "data": {
            "text/plain": [
              "<Figure size 800x300 with 2 Axes>"
            ],
            "image/png": "[encoded data removed]"
          },
          "metadata": {}
        }
      ],
      "source": [
        "x_min, x_max = X_train[:, 0].min() - 1, X_train[:, 0].max() + 1\n",
        "y_min, y_max = X_train[:, 1].min() - 1, X_train[:, 1].max() + 1\n",
        "xx, yy = np.meshgrid(np.arange(x_min, x_max, 0.1),\n",
        "                     np.arange(y_min, y_max, 0.1))\n",
        "\n",
        "f, axarr = plt.subplots(1, 2, sharex='col', sharey='row', figsize=(8, 3))\n",
        "\n",
        "\n",
        "for idx, clf, tt in zip([0, 1],\n",
        "                        [tree, gbrt],\n",
        "                        ['Decision tree', 'GradientBoosting']):\n",
        "    clf.fit(X_train, y_train)\n",
        "\n",
        "    Z = clf.predict(np.c_[xx.ravel(), yy.ravel()])\n",
        "    Z = Z.reshape(xx.shape)\n",
        "\n",
        "    axarr[idx].contourf(xx, yy, Z, alpha=0.3)\n",
        "    axarr[idx].scatter(X_train[y_train == 0, 0],\n",
        "                       X_train[y_train == 0, 1],\n",
        "                       c='blue', marker='^')\n",
        "    axarr[idx].scatter(X_train[y_train == 1, 0],\n",
        "                       X_train[y_train == 1, 1],\n",
        "                       c='green', marker='o')\n",
        "    axarr[idx].set_title(tt)\n",
        "\n",
        "axarr[0].set_ylabel('Alcohol', fontsize=12)\n",
        "\n",
        "plt.tight_layout()\n",
        "plt.text(0, -0.2,\n",
        "         s='OD280/OD315 of diluted wines',\n",
        "         ha='center', va='center', fontsize=12,\n",
        "         transform=axarr[1].transAxes)\n",
        "\n",
        "# plt.savefig('images/07_gradientboosting.png', dpi=300, bbox_inches='tight')\n",
        "plt.show()"
      ]
    },
    {
      "cell_type": "markdown",
      "metadata": {
        "id": "VqPTQtkSakG2"
      },
      "source": [
        "그레이디언트 부스팅에서 중요한 매개변수 중 하나는 각 트리가 오차에 기여하는 정도를 조절하는 `learning_rate`입니다. `learning_rate`이 작으면 성능은 높아지지만 많은 트리가 필요합니다. 이 매개변수의 기본값은 0.1입니다.\n",
        "\n",
        "그레이디언트 부스팅이 사용하는 손실 함수는 `loss` 매개변수에서 지정합니다. `GradientBoostingClassifier`일 경우 로지스틱 회귀를 의미하는 `'deviance'`(사이킷런 1.3버전에서 `'deviance'`가 `'log_loss'`로 바뀝니다), `GradientBoostingRegressor`일 경우 최소 제곱을 의미하는 `'squared_error'`가 기본값입니다.\n",
        "\n",
        "그레이디언트 부스팅이 오차를 학습하기 위해 사용하는 학습기는 `DecisionTreeRegressor`입니다. `DecisionTreeRegressor`의 불순도 조건은 `'squared_error'`, `'absolute_error'` 등 입니다. 따라서 그레이디언트 부스팅의 `criterion` 매개변수도 `DecisionTreeRegressor`의 불순도 조건을 따라서 `'squared_error'`, `'mae'`, 그리고 제롬 H. 프리드먼(Jerome H. Friedman)이 제안한 MSE 버전인 `'friedman_mse'`(기본값) 등을 사용합니다. 하지만 `'mae'`일 경우 그레이디언트 부스팅의 결과가 좋지 않기 때문에 이 옵션은 사이킷런 0.24버전부터 경고가 발생하고 1.1버전에서 삭제될 예정입니다.\n",
        "\n",
        "`subsample` 매개변수를 기본값 1.0 보다 작은 값으로 지정하면 훈련 데이터셋에서 `subsample` 매개변수에 지정된 비율만큼 랜덤하게 샘플링하여 트리를 훈련합니다. 이를 확률적 그레이디언트 부스팅이라고 부릅니다. 이는 랜덤 포레스트나 에이다부스트의 부트스트랩 샘플링과 비슷하게 과대적합을 줄이는 효과를 냅니다. 또한 남은 샘플을 사용해 OOB 점수를 계산할 수 있습니다. `subsample` 매개변수가 1.0보다 작을 때 그레이디언트 부스팅 객체의 `oob_improvement_` 속성에 이전 트리의 OOB 손실 값에서 현재 트리의 OOB 손실을 뺀 값이 기록되어 있습니다. 이 값에 음수를 취해서 누적하면 트리가 추가되면서 과대적합되는 지점을 찾을 수 있습니다."
      ]
    },
    {
      "cell_type": "code",
      "execution_count": 47,
      "metadata": {
        "colab": {
          "base_uri": "https://localhost:8080/",
          "height": 449
        },
        "execution": {
          "iopub.execute_input": "2021-10-23T06:49:27.614413Z",
          "iopub.status.busy": "2021-10-23T06:49:27.613557Z",
          "iopub.status.idle": "2021-10-23T06:49:27.801646Z",
          "shell.execute_reply": "2021-10-23T06:49:27.802252Z"
        },
        "id": "UnZx7UUtakG2",
        "outputId": "e4377fc0-625d-4ff6-bcec-d89e8531975b"
      },
      "outputs": [
        {
          "output_type": "display_data",
          "data": {
            "text/plain": [
              "<Figure size 640x480 with 1 Axes>"
            ],
            "image/png": "[encoded data removed]"
          },
          "metadata": {}
        }
      ],
      "source": [
        "gbrt = GradientBoostingClassifier(n_estimators=100,\n",
        "                                  subsample=0.5,\n",
        "                                  random_state=1)\n",
        "gbrt.fit(X_train, y_train)\n",
        "oob_loss = np.cumsum(-gbrt.oob_improvement_)\n",
        "plt.plot(range(100), oob_loss)\n",
        "plt.xlabel('number of trees')\n",
        "plt.ylabel('loss')\n",
        "\n",
        "# plt.savefig('images/07_oob_improvement.png', dpi=300)\n",
        "plt.show()"
      ]
    },
    {
      "cell_type": "markdown",
      "metadata": {
        "id": "_x5kQ0w4akG2"
      },
      "source": [
        "사이킷런 0.20 버전부터는 그레이디언트 부스팅에 조기 종료(early stopping) 기능을 지원하기 위한 매개변수 `n_iter_no_change`, `validation_fraction`, `tol`이 추가되었습니다. 훈련 데이터에서 `validation_fraction` 비율(기본값 0.1)만큼 떼어 내어 측정한 손실이 `n_iter_no_change` 반복 동안에 `tol` 값(기본값 1e-4) 이상 향상되지 않으면 훈련이 멈춥니다.\n",
        "\n",
        "히스토그램 기반 부스팅은 입력 특성을 256개의 구간으로 나누어 노드를 분할에 사용합니다. 일반적으로 샘플 개수가 10,000개보다 많은 경우 그레이디언트 부스팅보다 히스토그램 기반 부스팅이 훨씬 빠릅니다. 앞에서와 같은 데이터를 히스토그램 기반 부스팅 구현인 `HistGradientBoostingClassifier`에 적용해 보겠습니다."
      ]
    },
    {
      "cell_type": "code",
      "execution_count": 48,
      "metadata": {
        "colab": {
          "base_uri": "https://localhost:8080/"
        },
        "execution": {
          "iopub.execute_input": "2021-10-23T06:49:27.811066Z",
          "iopub.status.busy": "2021-10-23T06:49:27.809512Z",
          "iopub.status.idle": "2021-10-23T06:50:07.445288Z",
          "shell.execute_reply": "2021-10-23T06:50:07.446406Z"
        },
        "id": "ThQj6PsMakG2",
        "outputId": "82cc2706-d104-4354-e0a5-bf36faf07897",
        "tags": []
      },
      "outputs": [
        {
          "output_type": "stream",
          "name": "stdout",
          "text": [
            "그래디언트 부스팅 훈련 정확도/테스트 정확도 1.000/0.917\n"
          ]
        }
      ],
      "source": [
        "from sklearn.ensemble import HistGradientBoostingClassifier\n",
        "\n",
        "hgbc = HistGradientBoostingClassifier(random_state=1)\n",
        "hgbc.fit(X_train, y_train)\n",
        "\n",
        "hgbc_train_score = gbrt.score(X_train, y_train)\n",
        "hgbc_test_score = gbrt.score(X_test, y_test)\n",
        "print('그래디언트 부스팅 훈련 정확도/테스트 정확도 %.3f/%.3f'\n",
        "      % (hgbc_train_score, hgbc_test_score))"
      ]
    },
    {
      "cell_type": "markdown",
      "metadata": {
        "id": "R8VeoG6eakG2"
      },
      "source": [
        "사이킷런 0.24버전부터 `HistGradientBoostingClassifier`와 `HistGradientBoostingRegressor`에서 범주형 특성을 그대로 사용할 수 있습니다. `categorical_features` 매개변수에 불리언 배열이나 정수 인덱스 배열을 전달하여 범주형 특성을 알려주어야 합니다.\n",
        "\n",
        "XGBoost(https://xgboost.ai/) 에서도 `tree_method` 매개변수를 `'hist'`로 지정하여 히스토그램 기반 부스팅을 사용할 수 있습니다. 코랩에는 이미 XGBoost 라이브러리가 설치되어 있으므로 간단히 테스트해 볼 수 있습니다."
      ]
    },
    {
      "cell_type": "code",
      "execution_count": 49,
      "metadata": {
        "colab": {
          "base_uri": "https://localhost:8080/"
        },
        "execution": {
          "iopub.execute_input": "2021-10-23T06:50:07.453485Z",
          "iopub.status.busy": "2021-10-23T06:50:07.452197Z",
          "iopub.status.idle": "2021-10-23T06:50:28.247602Z",
          "shell.execute_reply": "2021-10-23T06:50:28.246967Z"
        },
        "id": "ZAWbGqlzakG3",
        "outputId": "a506073e-313c-4a54-b470-5b32a0c425ec"
      },
      "outputs": [
        {
          "output_type": "stream",
          "name": "stdout",
          "text": [
            "XGBoost 훈련 정확도/테스트 정확도 0.979/0.917\n"
          ]
        }
      ],
      "source": [
        "from xgboost import XGBClassifier\n",
        "\n",
        "xgb = XGBClassifier(tree_method='hist', eval_metric='logloss', use_label_encoder=False, random_state=1)\n",
        "xgb.fit(X_train, y_train)\n",
        "\n",
        "xgb_train_score = xgb.score(X_train, y_train)\n",
        "xgb_test_score = xgb.score(X_test, y_test)\n",
        "\n",
        "print('XGBoost 훈련 정확도/테스트 정확도 %.3f/%.3f'\n",
        "      % (xgb_train_score, xgb_test_score))"
      ]
    },
    {
      "cell_type": "markdown",
      "metadata": {
        "id": "1Ymv6VPqakG3"
      },
      "source": [
        "또 다른 인기 높은 히스토그램 기반 부스팅 알고리즘은 마이크로소프트에서 만든 LightGBM(https://lightgbm.readthedocs.io/) 입니다. 사실 사이킷런의 히스토그램 기반 부스팅은 LightGBM에서 영향을 많이 받았습니다. LightGBM도 코랩에서 바로 테스트해 볼 수 있습니다."
      ]
    },
    {
      "cell_type": "code",
      "execution_count": 50,
      "metadata": {
        "colab": {
          "base_uri": "https://localhost:8080/"
        },
        "execution": {
          "iopub.execute_input": "2021-10-23T06:50:28.251554Z",
          "iopub.status.busy": "2021-10-23T06:50:28.250551Z",
          "iopub.status.idle": "2021-10-23T06:50:47.228946Z",
          "shell.execute_reply": "2021-10-23T06:50:47.227993Z"
        },
        "id": "6mFWQZQ7akG3",
        "outputId": "69f235bc-39b1-4506-d845-593bdd4a8516"
      },
      "outputs": [
        {
          "output_type": "stream",
          "name": "stdout",
          "text": [
            "LightGBM 훈련 정확도/테스트 정확도 0.979/0.917\n"
          ]
        }
      ],
      "source": [
        "from lightgbm import LGBMClassifier\n",
        "\n",
        "lgb = LGBMClassifier(random_state=1, verbosity=-1)\n",
        "lgb.fit(X_train, y_train)\n",
        "\n",
        "lgb_train_score = lgb.score(X_train, y_train)\n",
        "lgb_test_score = lgb.score(X_test, y_test)\n",
        "\n",
        "print('LightGBM 훈련 정확도/테스트 정확도 %.3f/%.3f'\n",
        "      % (lgb_train_score, lgb_test_score))"
      ]
    },
    {
      "cell_type": "markdown",
      "metadata": {
        "id": "ejCek1UFakG3"
      },
      "source": [
        "<br>"
      ]
    }
  ],
  "metadata": {
    "anaconda-cloud": {},
    "colab": {
      "name": "ch07.ipynb",
      "provenance": []
    },
    "kernelspec": {
      "display_name": "Python 3",
      "language": "python",
      "name": "python3"
    },
    "language_info": {
      "codemirror_mode": {
        "name": "ipython",
        "version": 3
      },
      "file_extension": ".py",
      "mimetype": "text/x-python",
      "name": "python",
      "nbconvert_exporter": "python",
      "pygments_lexer": "ipython3",
      "version": "3.7.3"
    },
    "toc": {
      "nav_menu": {},
      "number_sections": true,
      "sideBar": true,
      "skip_h1_title": false,
      "title_cell": "Table of Contents",
      "title_sidebar": "Contents",
      "toc_cell": false,
      "toc_position": {},
      "toc_section_display": true,
      "toc_window_display": false
    }
  },
  "nbformat": 4,
  "nbformat_minor": 0
}